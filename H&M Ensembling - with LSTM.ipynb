{
 "cells": [
  {
   "cell_type": "code",
   "execution_count": 1,
   "metadata": {},
   "outputs": [],
   "source": [
    "import os\n",
    "import numpy as np\n",
    "import pandas as pd\n",
    "import gc"
   ]
  },
  {
   "cell_type": "code",
   "execution_count": 5,
   "metadata": {},
   "outputs": [
    {
     "data": {
      "text/plain": [
       "((1371980, 2), (1371980, 2), (1371980, 2))"
      ]
     },
     "execution_count": 5,
     "metadata": {},
     "output_type": "execute_result"
    }
   ],
   "source": [
    "sub0 = pd.read_csv('../input/hm-public-submissions/0-0226-byfone-chris-combination-approach.csv').sort_values('customer_id').reset_index(drop=True)\n",
    "sub1 = pd.read_csv('../input/hm-public-submissions/h-m-trending-products-weekly-add-test.csv').sort_values('customer_id').reset_index(drop=True)\n",
    "sub2 = pd.read_csv('../input/hm-public-submissions/hnm-exponential-decay-with-alternate-items.csv').sort_values('customer_id').reset_index(drop=True)\n",
    "\n",
    "sub0.shape, sub1.shape, sub2.shape"
   ]
  },
  {
   "cell_type": "code",
   "execution_count": 7,
   "metadata": {},
   "outputs": [],
   "source": [
    "sub3 = pd.read_csv('../input/submission-recbole-lstm/submission.csv').sort_values('customer_id').reset_index(drop=True)"
   ]
  },
  {
   "cell_type": "code",
   "execution_count": 8,
   "metadata": {},
   "outputs": [],
   "source": [
    "sub4 = pd.read_csv('../input/submission-lstm-sequential/submission (1).csv').sort_values('customer_id').reset_index(drop=True)"
   ]
  },
  {
   "cell_type": "code",
   "execution_count": 9,
   "metadata": {},
   "outputs": [
    {
     "name": "stdout",
     "output_type": "stream",
     "text": [
      "0.4324239420399714\n",
      "0.0005991340981646963\n",
      "0.0005991340981646963\n"
     ]
    }
   ],
   "source": [
    "# How many predictions are in common between models\n",
    "\n",
    "print((sub0['prediction']==sub1['prediction']).mean())\n",
    "print((sub0['prediction']==sub2['prediction']).mean())\n",
    "print((sub1['prediction']==sub2['prediction']).mean())"
   ]
  },
  {
   "cell_type": "code",
   "execution_count": 10,
   "metadata": {},
   "outputs": [
    {
     "name": "stdout",
     "output_type": "stream",
     "text": [
      "0.0065190454671350895\n",
      "0.006790915319465299\n",
      "0.00031268677385967725\n"
     ]
    }
   ],
   "source": [
    "# How many predictions are in common between old models and new \n",
    "\n",
    "print((sub3['prediction']==sub0['prediction']).mean())\n",
    "print((sub3['prediction']==sub1['prediction']).mean())\n",
    "print((sub3['prediction']==sub2['prediction']).mean())"
   ]
  },
  {
   "cell_type": "code",
   "execution_count": 11,
   "metadata": {},
   "outputs": [
    {
     "name": "stdout",
     "output_type": "stream",
     "text": [
      "0.007623288969226956\n",
      "0.007895158821557165\n",
      "0.00043878190644178487\n",
      "0.9716358839050132\n"
     ]
    }
   ],
   "source": [
    "# How many predictions are in common between old models and new\n",
    "\n",
    "print((sub4['prediction']==sub0['prediction']).mean())\n",
    "print((sub4['prediction']==sub1['prediction']).mean())\n",
    "print((sub4['prediction']==sub2['prediction']).mean())\n",
    "print((sub4['prediction']==sub3['prediction']).mean())"
   ]
  },
  {
   "cell_type": "code",
   "execution_count": 12,
   "metadata": {},
   "outputs": [
    {
     "data": {
      "text/html": [
       "<div>\n",
       "<style scoped>\n",
       "    .dataframe tbody tr th:only-of-type {\n",
       "        vertical-align: middle;\n",
       "    }\n",
       "\n",
       "    .dataframe tbody tr th {\n",
       "        vertical-align: top;\n",
       "    }\n",
       "\n",
       "    .dataframe thead th {\n",
       "        text-align: right;\n",
       "    }\n",
       "</style>\n",
       "<table border=\"1\" class=\"dataframe\">\n",
       "  <thead>\n",
       "    <tr style=\"text-align: right;\">\n",
       "      <th></th>\n",
       "      <th>customer_id</th>\n",
       "      <th>prediction0</th>\n",
       "      <th>prediction1</th>\n",
       "      <th>prediction2</th>\n",
       "      <th>prediction3</th>\n",
       "      <th>prediction4</th>\n",
       "    </tr>\n",
       "  </thead>\n",
       "  <tbody>\n",
       "    <tr>\n",
       "      <th>0</th>\n",
       "      <td>00000dbacae5abe5e23885899a1fa44253a17956c6d1c3...</td>\n",
       "      <td>0568601043 0568601006 0656719005 0745232001 07...</td>\n",
       "      <td>0568601043 0568601006 0656719005 0745232001 07...</td>\n",
       "      <td>0568601043 0924243001 0924243002 0918522001 07...</td>\n",
       "      <td>0568601043 0568601006 0656719005 0745232001 09...</td>\n",
       "      <td>0568601043 0568601006 0656719005 0745232001 09...</td>\n",
       "    </tr>\n",
       "    <tr>\n",
       "      <th>1</th>\n",
       "      <td>0000423b00ade91418cceaf3b26c6af3dd342b51fd051e...</td>\n",
       "      <td>0826211002 0800436010 0739590027 0723529001 08...</td>\n",
       "      <td>0826211002 0800436010 0739590027 0723529001 08...</td>\n",
       "      <td>0924243001 0924243002 0918522001 0751471001 04...</td>\n",
       "      <td>0826211002 0800436010 0924243001 0739590027 07...</td>\n",
       "      <td>0826211002 0800436010 0924243001 0739590027 07...</td>\n",
       "    </tr>\n",
       "    <tr>\n",
       "      <th>2</th>\n",
       "      <td>000058a12d5b43e67d225668fa1f8d618c13dc232df0ca...</td>\n",
       "      <td>0794321007 0852643001 0852643003 0858883002 07...</td>\n",
       "      <td>0794321007 0852643001 0852643003 0858883002 07...</td>\n",
       "      <td>0794321007 0924243001 0924243002 0918522001 07...</td>\n",
       "      <td>0794321007 0852643001 0852643003 0858883002 09...</td>\n",
       "      <td>0794321007 0852643001 0852643003 0858883002 09...</td>\n",
       "    </tr>\n",
       "    <tr>\n",
       "      <th>3</th>\n",
       "      <td>00005ca1c9ed5f5146b52ac8639a40ca9d57aeff4d1bd2...</td>\n",
       "      <td>0448509014 0573085028 0751471001 0706016001 06...</td>\n",
       "      <td>0448509014 0573085028 0751471001 0706016001 06...</td>\n",
       "      <td>0924243001 0924243002 0918522001 0751471001 04...</td>\n",
       "      <td>0448509014 0573085028 0924243001 0751471001 07...</td>\n",
       "      <td>0448509014 0573085028 0924243001 0751471001 07...</td>\n",
       "    </tr>\n",
       "    <tr>\n",
       "      <th>4</th>\n",
       "      <td>00006413d8573cd20ed7128e53b7b13819fe5cfc2d801f...</td>\n",
       "      <td>0730683050 0791587015 0896152002 0818320001 09...</td>\n",
       "      <td>0730683050 0791587015 0896152002 0818320001 09...</td>\n",
       "      <td>0924243001 0924243002 0918522001 0751471001 04...</td>\n",
       "      <td>0730683050 0791587015 0924243001 0896152002 08...</td>\n",
       "      <td>0730683050 0791587015 0924243001 0896152002 08...</td>\n",
       "    </tr>\n",
       "  </tbody>\n",
       "</table>\n",
       "</div>"
      ],
      "text/plain": [
       "                                         customer_id  \\\n",
       "0  00000dbacae5abe5e23885899a1fa44253a17956c6d1c3...   \n",
       "1  0000423b00ade91418cceaf3b26c6af3dd342b51fd051e...   \n",
       "2  000058a12d5b43e67d225668fa1f8d618c13dc232df0ca...   \n",
       "3  00005ca1c9ed5f5146b52ac8639a40ca9d57aeff4d1bd2...   \n",
       "4  00006413d8573cd20ed7128e53b7b13819fe5cfc2d801f...   \n",
       "\n",
       "                                         prediction0  \\\n",
       "0  0568601043 0568601006 0656719005 0745232001 07...   \n",
       "1  0826211002 0800436010 0739590027 0723529001 08...   \n",
       "2  0794321007 0852643001 0852643003 0858883002 07...   \n",
       "3  0448509014 0573085028 0751471001 0706016001 06...   \n",
       "4  0730683050 0791587015 0896152002 0818320001 09...   \n",
       "\n",
       "                                         prediction1  \\\n",
       "0  0568601043 0568601006 0656719005 0745232001 07...   \n",
       "1  0826211002 0800436010 0739590027 0723529001 08...   \n",
       "2  0794321007 0852643001 0852643003 0858883002 07...   \n",
       "3  0448509014 0573085028 0751471001 0706016001 06...   \n",
       "4  0730683050 0791587015 0896152002 0818320001 09...   \n",
       "\n",
       "                                         prediction2  \\\n",
       "0  0568601043 0924243001 0924243002 0918522001 07...   \n",
       "1  0924243001 0924243002 0918522001 0751471001 04...   \n",
       "2  0794321007 0924243001 0924243002 0918522001 07...   \n",
       "3  0924243001 0924243002 0918522001 0751471001 04...   \n",
       "4  0924243001 0924243002 0918522001 0751471001 04...   \n",
       "\n",
       "                                         prediction3  \\\n",
       "0  0568601043 0568601006 0656719005 0745232001 09...   \n",
       "1  0826211002 0800436010 0924243001 0739590027 07...   \n",
       "2  0794321007 0852643001 0852643003 0858883002 09...   \n",
       "3  0448509014 0573085028 0924243001 0751471001 07...   \n",
       "4  0730683050 0791587015 0924243001 0896152002 08...   \n",
       "\n",
       "                                         prediction4  \n",
       "0  0568601043 0568601006 0656719005 0745232001 09...  \n",
       "1  0826211002 0800436010 0924243001 0739590027 07...  \n",
       "2  0794321007 0852643001 0852643003 0858883002 09...  \n",
       "3  0448509014 0573085028 0924243001 0751471001 07...  \n",
       "4  0730683050 0791587015 0924243001 0896152002 08...  "
      ]
     },
     "execution_count": 12,
     "metadata": {},
     "output_type": "execute_result"
    }
   ],
   "source": [
    "sub0.columns = ['customer_id', 'prediction0']\n",
    "sub0['prediction1'] = sub1['prediction']\n",
    "sub0['prediction2'] = sub2['prediction']\n",
    "sub0['prediction3'] = sub3['prediction']\n",
    "sub0['prediction4'] = sub4['prediction']\n",
    "del sub1, sub2, sub3, sub4\n",
    "gc.collect()\n",
    "sub0.head()"
   ]
  },
  {
   "cell_type": "code",
   "execution_count": 13,
   "metadata": {},
   "outputs": [],
   "source": [
    "def cust_blend(dt, W = [1,1,1,1]):\n",
    "    #Global ensemble weights\n",
    "    #W = [1.15,0.95,0.85]\n",
    "    \n",
    "    #Create a list of all model predictions\n",
    "    REC = []\n",
    "    \n",
    "    # Second Try\n",
    "    REC.append(dt['prediction0'].split())\n",
    "    REC.append(dt['prediction1'].split())\n",
    "    REC.append(dt['prediction2'].split())\n",
    "    REC.append(dt['prediction3'].split())\n",
    "    \n",
    "    #Create a dictionary of items recommended. \n",
    "    #Assign a weight according the order of appearance and multiply by global weights\n",
    "    res = {}\n",
    "    for M in range(len(REC)):\n",
    "        for n, v in enumerate(REC[M]):\n",
    "            if v in res:\n",
    "                res[v] += (W[M]/(n+1))\n",
    "            else:\n",
    "                res[v] = (W[M]/(n+1))\n",
    "    \n",
    "    # Sort dictionary by item weights\n",
    "    res = list(dict(sorted(res.items(), key=lambda item: -item[1])).keys())\n",
    "    \n",
    "    # Return the top 12 itens only\n",
    "    return ' '.join(res[:12])"
   ]
  },
  {
   "cell_type": "code",
   "execution_count": 14,
   "metadata": {},
   "outputs": [
    {
     "data": {
      "text/html": [
       "<div>\n",
       "<style scoped>\n",
       "    .dataframe tbody tr th:only-of-type {\n",
       "        vertical-align: middle;\n",
       "    }\n",
       "\n",
       "    .dataframe tbody tr th {\n",
       "        vertical-align: top;\n",
       "    }\n",
       "\n",
       "    .dataframe thead th {\n",
       "        text-align: right;\n",
       "    }\n",
       "</style>\n",
       "<table border=\"1\" class=\"dataframe\">\n",
       "  <thead>\n",
       "    <tr style=\"text-align: right;\">\n",
       "      <th></th>\n",
       "      <th>customer_id</th>\n",
       "      <th>prediction0</th>\n",
       "      <th>prediction1</th>\n",
       "      <th>prediction2</th>\n",
       "      <th>prediction3</th>\n",
       "      <th>prediction4</th>\n",
       "      <th>prediction</th>\n",
       "    </tr>\n",
       "  </thead>\n",
       "  <tbody>\n",
       "    <tr>\n",
       "      <th>0</th>\n",
       "      <td>00000dbacae5abe5e23885899a1fa44253a17956c6d1c3...</td>\n",
       "      <td>0568601043 0568601006 0656719005 0745232001 07...</td>\n",
       "      <td>0568601043 0568601006 0656719005 0745232001 07...</td>\n",
       "      <td>0568601043 0924243001 0924243002 0918522001 07...</td>\n",
       "      <td>0568601043 0568601006 0656719005 0745232001 09...</td>\n",
       "      <td>0568601043 0568601006 0656719005 0745232001 09...</td>\n",
       "      <td>0568601043 0568601006 0656719005 0745232001 09...</td>\n",
       "    </tr>\n",
       "    <tr>\n",
       "      <th>1</th>\n",
       "      <td>0000423b00ade91418cceaf3b26c6af3dd342b51fd051e...</td>\n",
       "      <td>0826211002 0800436010 0739590027 0723529001 08...</td>\n",
       "      <td>0826211002 0800436010 0739590027 0723529001 08...</td>\n",
       "      <td>0924243001 0924243002 0918522001 0751471001 04...</td>\n",
       "      <td>0826211002 0800436010 0924243001 0739590027 07...</td>\n",
       "      <td>0826211002 0800436010 0924243001 0739590027 07...</td>\n",
       "      <td>0826211002 0800436010 0924243001 0739590027 07...</td>\n",
       "    </tr>\n",
       "    <tr>\n",
       "      <th>2</th>\n",
       "      <td>000058a12d5b43e67d225668fa1f8d618c13dc232df0ca...</td>\n",
       "      <td>0794321007 0852643001 0852643003 0858883002 07...</td>\n",
       "      <td>0794321007 0852643001 0852643003 0858883002 07...</td>\n",
       "      <td>0794321007 0924243001 0924243002 0918522001 07...</td>\n",
       "      <td>0794321007 0852643001 0852643003 0858883002 09...</td>\n",
       "      <td>0794321007 0852643001 0852643003 0858883002 09...</td>\n",
       "      <td>0794321007 0852643001 0852643003 0858883002 09...</td>\n",
       "    </tr>\n",
       "    <tr>\n",
       "      <th>3</th>\n",
       "      <td>00005ca1c9ed5f5146b52ac8639a40ca9d57aeff4d1bd2...</td>\n",
       "      <td>0448509014 0573085028 0751471001 0706016001 06...</td>\n",
       "      <td>0448509014 0573085028 0751471001 0706016001 06...</td>\n",
       "      <td>0924243001 0924243002 0918522001 0751471001 04...</td>\n",
       "      <td>0448509014 0573085028 0924243001 0751471001 07...</td>\n",
       "      <td>0448509014 0573085028 0924243001 0751471001 07...</td>\n",
       "      <td>0448509014 0573085028 0924243001 0751471001 07...</td>\n",
       "    </tr>\n",
       "    <tr>\n",
       "      <th>4</th>\n",
       "      <td>00006413d8573cd20ed7128e53b7b13819fe5cfc2d801f...</td>\n",
       "      <td>0730683050 0791587015 0896152002 0818320001 09...</td>\n",
       "      <td>0730683050 0791587015 0896152002 0818320001 09...</td>\n",
       "      <td>0924243001 0924243002 0918522001 0751471001 04...</td>\n",
       "      <td>0730683050 0791587015 0924243001 0896152002 08...</td>\n",
       "      <td>0730683050 0791587015 0924243001 0896152002 08...</td>\n",
       "      <td>0730683050 0791587015 0924243001 0896152002 08...</td>\n",
       "    </tr>\n",
       "  </tbody>\n",
       "</table>\n",
       "</div>"
      ],
      "text/plain": [
       "                                         customer_id  \\\n",
       "0  00000dbacae5abe5e23885899a1fa44253a17956c6d1c3...   \n",
       "1  0000423b00ade91418cceaf3b26c6af3dd342b51fd051e...   \n",
       "2  000058a12d5b43e67d225668fa1f8d618c13dc232df0ca...   \n",
       "3  00005ca1c9ed5f5146b52ac8639a40ca9d57aeff4d1bd2...   \n",
       "4  00006413d8573cd20ed7128e53b7b13819fe5cfc2d801f...   \n",
       "\n",
       "                                         prediction0  \\\n",
       "0  0568601043 0568601006 0656719005 0745232001 07...   \n",
       "1  0826211002 0800436010 0739590027 0723529001 08...   \n",
       "2  0794321007 0852643001 0852643003 0858883002 07...   \n",
       "3  0448509014 0573085028 0751471001 0706016001 06...   \n",
       "4  0730683050 0791587015 0896152002 0818320001 09...   \n",
       "\n",
       "                                         prediction1  \\\n",
       "0  0568601043 0568601006 0656719005 0745232001 07...   \n",
       "1  0826211002 0800436010 0739590027 0723529001 08...   \n",
       "2  0794321007 0852643001 0852643003 0858883002 07...   \n",
       "3  0448509014 0573085028 0751471001 0706016001 06...   \n",
       "4  0730683050 0791587015 0896152002 0818320001 09...   \n",
       "\n",
       "                                         prediction2  \\\n",
       "0  0568601043 0924243001 0924243002 0918522001 07...   \n",
       "1  0924243001 0924243002 0918522001 0751471001 04...   \n",
       "2  0794321007 0924243001 0924243002 0918522001 07...   \n",
       "3  0924243001 0924243002 0918522001 0751471001 04...   \n",
       "4  0924243001 0924243002 0918522001 0751471001 04...   \n",
       "\n",
       "                                         prediction3  \\\n",
       "0  0568601043 0568601006 0656719005 0745232001 09...   \n",
       "1  0826211002 0800436010 0924243001 0739590027 07...   \n",
       "2  0794321007 0852643001 0852643003 0858883002 09...   \n",
       "3  0448509014 0573085028 0924243001 0751471001 07...   \n",
       "4  0730683050 0791587015 0924243001 0896152002 08...   \n",
       "\n",
       "                                         prediction4  \\\n",
       "0  0568601043 0568601006 0656719005 0745232001 09...   \n",
       "1  0826211002 0800436010 0924243001 0739590027 07...   \n",
       "2  0794321007 0852643001 0852643003 0858883002 09...   \n",
       "3  0448509014 0573085028 0924243001 0751471001 07...   \n",
       "4  0730683050 0791587015 0924243001 0896152002 08...   \n",
       "\n",
       "                                          prediction  \n",
       "0  0568601043 0568601006 0656719005 0745232001 09...  \n",
       "1  0826211002 0800436010 0924243001 0739590027 07...  \n",
       "2  0794321007 0852643001 0852643003 0858883002 09...  \n",
       "3  0448509014 0573085028 0924243001 0751471001 07...  \n",
       "4  0730683050 0791587015 0924243001 0896152002 08...  "
      ]
     },
     "execution_count": 14,
     "metadata": {},
     "output_type": "execute_result"
    }
   ],
   "source": [
    "sub0['prediction'] = sub0.apply(cust_blend, W = [1.05,1.00,0.95,0.85], axis=1)\n",
    "sub0.head()"
   ]
  },
  {
   "cell_type": "code",
   "execution_count": 15,
   "metadata": {},
   "outputs": [
    {
     "name": "stdout",
     "output_type": "stream",
     "text": [
      "0.006508841236752722\n",
      "0.006780711089082931\n",
      "0.0003163311418533798\n",
      "0.9707145876762052\n",
      "0.9707175031706001\n"
     ]
    }
   ],
   "source": [
    "# How many predictions are in common with ensemble\n",
    "\n",
    "print((sub0['prediction']==sub0['prediction0']).mean())\n",
    "print((sub0['prediction']==sub0['prediction1']).mean())\n",
    "print((sub0['prediction']==sub0['prediction2']).mean())\n",
    "print((sub0['prediction']==sub0['prediction3']).mean())\n",
    "print((sub0['prediction']==sub0['prediction4']).mean())"
   ]
  },
  {
   "cell_type": "code",
   "execution_count": 16,
   "metadata": {},
   "outputs": [],
   "source": [
    "del sub0['prediction0']\n",
    "del sub0['prediction1']\n",
    "del sub0['prediction2']\n",
    "del sub0['prediction3']\n",
    "del sub0['prediction4']\n",
    "gc.collect()\n",
    "sub0.to_csv('submission.csv', index=False)"
   ]
  },
  {
   "cell_type": "code",
   "execution_count": null,
   "metadata": {},
   "outputs": [],
   "source": []
  }
 ],
 "metadata": {
  "interpreter": {
   "hash": "f436cdb28f556d638768226e88df829b306d6cce33caefeb33828bb6037ec961"
  },
  "kernelspec": {
   "display_name": "Python 3.8.12 ('kaggle')",
   "language": "python",
   "name": "python3"
  },
  "language_info": {
   "codemirror_mode": {
    "name": "ipython",
    "version": 3
   },
   "file_extension": ".py",
   "mimetype": "text/x-python",
   "name": "python",
   "nbconvert_exporter": "python",
   "pygments_lexer": "ipython3",
   "version": "3.8.12"
  },
  "orig_nbformat": 4
 },
 "nbformat": 4,
 "nbformat_minor": 2
}
