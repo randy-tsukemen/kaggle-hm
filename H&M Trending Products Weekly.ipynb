{
 "cells": [
  {
   "cell_type": "code",
   "execution_count": 1,
   "metadata": {},
   "outputs": [],
   "source": [
    "import numpy as np\n",
    "import pandas as pd\n",
    "import matplotlib.pyplot as plt\n",
    "\n",
    "from math import sqrt\n",
    "from pathlib import Path\n",
    "from tqdm import tqdm\n",
    "tqdm.pandas()"
   ]
  },
  {
   "cell_type": "code",
   "execution_count": 2,
   "metadata": {},
   "outputs": [],
   "source": [
    "data_path = Path('../input/h-and-m-personalized-fashion-recommendations/')\n",
    "N = 12"
   ]
  },
  {
   "cell_type": "code",
   "execution_count": 3,
   "metadata": {},
   "outputs": [],
   "source": [
    "df = pd.read_csv(data_path / 'transactions_train.csv',\n",
    "                    usecols = ['t_dat', 'customer_id', 'article_id'],\n",
    "                    dtype={'article_id': str})\n",
    "\n",
    "df['t_dat'] = pd.to_datetime(df['t_dat'])\n",
    "last_ts = df['t_dat'].max()"
   ]
  },
  {
   "cell_type": "code",
   "execution_count": 4,
   "metadata": {},
   "outputs": [
    {
     "name": "stderr",
     "output_type": "stream",
     "text": [
      "100%|██████████| 31788324/31788324 [22:03<00:00, 24020.71it/s] \n"
     ]
    }
   ],
   "source": [
    "df['ldbw'] = df['t_dat'].progress_apply(lambda d: last_ts - (last_ts - d).floor('7D'))"
   ]
  },
  {
   "cell_type": "code",
   "execution_count": 5,
   "metadata": {},
   "outputs": [],
   "source": [
    "weekly_sales = df.drop('customer_id', axis=1).groupby(['ldbw', 'article_id']).count()\n",
    "weekly_sales = weekly_sales.rename(columns={'t_dat': 'count'})"
   ]
  },
  {
   "cell_type": "code",
   "execution_count": 6,
   "metadata": {},
   "outputs": [],
   "source": [
    "df = df.join(weekly_sales, on=['ldbw', 'article_id'])"
   ]
  },
  {
   "cell_type": "code",
   "execution_count": 7,
   "metadata": {},
   "outputs": [],
   "source": [
    "weekly_sales = weekly_sales.reset_index().set_index('article_id')\n",
    "last_day = last_ts.strftime('%Y-%m-%d')\n",
    "\n",
    "df = df.join(\n",
    "    weekly_sales.loc[weekly_sales['ldbw']==last_day, ['count']],\n",
    "    on='article_id', rsuffix=\"_targ\")\n",
    "\n",
    "df['count_targ'].fillna(0, inplace=True)\n",
    "del weekly_sales"
   ]
  },
  {
   "cell_type": "code",
   "execution_count": 8,
   "metadata": {},
   "outputs": [],
   "source": [
    "df['quotient'] = df['count_targ'] / df['count']"
   ]
  },
  {
   "cell_type": "code",
   "execution_count": 9,
   "metadata": {},
   "outputs": [],
   "source": [
    "target_sales = df.drop('customer_id', axis=1).groupby('article_id')['quotient'].sum()\n",
    "general_pred = target_sales.nlargest(N).index.tolist()\n",
    "del target_sales"
   ]
  },
  {
   "cell_type": "code",
   "execution_count": 10,
   "metadata": {},
   "outputs": [
    {
     "name": "stderr",
     "output_type": "stream",
     "text": [
      "100%|██████████| 31788324/31788324 [11:28<00:00, 46172.83it/s]\n"
     ]
    }
   ],
   "source": [
    "purchase_dict = {}\n",
    "\n",
    "for i in tqdm(df.index):\n",
    "    cust_id = df.at[i, 'customer_id']\n",
    "    art_id = df.at[i, 'article_id']\n",
    "    t_dat = df.at[i, 't_dat']\n",
    "\n",
    "    if cust_id not in purchase_dict:\n",
    "        purchase_dict[cust_id] = {}\n",
    "\n",
    "    if art_id not in purchase_dict[cust_id]:\n",
    "        purchase_dict[cust_id][art_id] = 0\n",
    "    \n",
    "    x = max(1, (last_ts - t_dat).days)\n",
    "\n",
    "    a, b, c, d = 2.5e4, 1.5e5, 2e-1, 1e3\n",
    "    y = a / np.sqrt(x) + b * np.exp(-c*x) - d\n",
    "\n",
    "    value = df.at[i, 'quotient'] * max(0, y)\n",
    "    purchase_dict[cust_id][art_id] += value"
   ]
  },
  {
   "cell_type": "code",
   "execution_count": 11,
   "metadata": {},
   "outputs": [
    {
     "name": "stderr",
     "output_type": "stream",
     "text": [
      "100%|██████████| 1371980/1371980 [11:08<00:00, 2052.52it/s]\n"
     ]
    }
   ],
   "source": [
    "sub = pd.read_csv(data_path / 'sample_submission.csv')\n",
    "\n",
    "pred_list = []\n",
    "for cust_id in tqdm(sub['customer_id']):\n",
    "    if cust_id in purchase_dict:\n",
    "        series = pd.Series(purchase_dict[cust_id])\n",
    "        series = series[series > 0]\n",
    "        l = series.nlargest(N).index.tolist()\n",
    "        if len(l) < N:\n",
    "            l = l + general_pred[:(N-len(l))]\n",
    "    else:\n",
    "        l = general_pred\n",
    "    pred_list.append(' '.join(l))\n",
    "\n",
    "sub['prediction'] = pred_list\n",
    "sub.to_csv('submission.csv', index=None)"
   ]
  },
  {
   "cell_type": "code",
   "execution_count": null,
   "metadata": {},
   "outputs": [],
   "source": []
  }
 ],
 "metadata": {
  "interpreter": {
   "hash": "f436cdb28f556d638768226e88df829b306d6cce33caefeb33828bb6037ec961"
  },
  "kernelspec": {
   "display_name": "Python 3.8.12 ('kaggle')",
   "language": "python",
   "name": "python3"
  },
  "language_info": {
   "codemirror_mode": {
    "name": "ipython",
    "version": 3
   },
   "file_extension": ".py",
   "mimetype": "text/x-python",
   "name": "python",
   "nbconvert_exporter": "python",
   "pygments_lexer": "ipython3",
   "version": "3.8.12"
  },
  "orig_nbformat": 4
 },
 "nbformat": 4,
 "nbformat_minor": 2
}
