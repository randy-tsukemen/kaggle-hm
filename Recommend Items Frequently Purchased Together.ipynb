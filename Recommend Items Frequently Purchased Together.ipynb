{
 "cells": [
  {
   "cell_type": "code",
   "execution_count": 15,
   "metadata": {},
   "outputs": [],
   "source": [
    "import pandas as pd\n",
    "from tqdm import tqdm\n",
    "import numpy as np\n"
   ]
  },
  {
   "cell_type": "code",
   "execution_count": 2,
   "metadata": {},
   "outputs": [],
   "source": [
    "train = pd.read_csv('../input/h-and-m-personalized-fashion-recommendations/transactions_train.csv')"
   ]
  },
  {
   "cell_type": "code",
   "execution_count": 3,
   "metadata": {},
   "outputs": [
    {
     "name": "stdout",
     "output_type": "stream",
     "text": [
      "(31788324, 3)\n"
     ]
    },
    {
     "data": {
      "text/html": [
       "<div>\n",
       "<style scoped>\n",
       "    .dataframe tbody tr th:only-of-type {\n",
       "        vertical-align: middle;\n",
       "    }\n",
       "\n",
       "    .dataframe tbody tr th {\n",
       "        vertical-align: top;\n",
       "    }\n",
       "\n",
       "    .dataframe thead th {\n",
       "        text-align: right;\n",
       "    }\n",
       "</style>\n",
       "<table border=\"1\" class=\"dataframe\">\n",
       "  <thead>\n",
       "    <tr style=\"text-align: right;\">\n",
       "      <th></th>\n",
       "      <th>t_dat</th>\n",
       "      <th>customer_id</th>\n",
       "      <th>article_id</th>\n",
       "    </tr>\n",
       "  </thead>\n",
       "  <tbody>\n",
       "    <tr>\n",
       "      <th>0</th>\n",
       "      <td>2018-09-20</td>\n",
       "      <td>ffe7ad4a1091e318</td>\n",
       "      <td>663713001</td>\n",
       "    </tr>\n",
       "    <tr>\n",
       "      <th>1</th>\n",
       "      <td>2018-09-20</td>\n",
       "      <td>ffe7ad4a1091e318</td>\n",
       "      <td>541518023</td>\n",
       "    </tr>\n",
       "    <tr>\n",
       "      <th>2</th>\n",
       "      <td>2018-09-20</td>\n",
       "      <td>8c5570910a014cc2</td>\n",
       "      <td>505221004</td>\n",
       "    </tr>\n",
       "    <tr>\n",
       "      <th>3</th>\n",
       "      <td>2018-09-20</td>\n",
       "      <td>8c5570910a014cc2</td>\n",
       "      <td>685687003</td>\n",
       "    </tr>\n",
       "    <tr>\n",
       "      <th>4</th>\n",
       "      <td>2018-09-20</td>\n",
       "      <td>8c5570910a014cc2</td>\n",
       "      <td>685687004</td>\n",
       "    </tr>\n",
       "  </tbody>\n",
       "</table>\n",
       "</div>"
      ],
      "text/plain": [
       "       t_dat       customer_id  article_id\n",
       "0 2018-09-20  ffe7ad4a1091e318   663713001\n",
       "1 2018-09-20  ffe7ad4a1091e318   541518023\n",
       "2 2018-09-20  8c5570910a014cc2   505221004\n",
       "3 2018-09-20  8c5570910a014cc2   685687003\n",
       "4 2018-09-20  8c5570910a014cc2   685687004"
      ]
     },
     "execution_count": 3,
     "metadata": {},
     "output_type": "execute_result"
    }
   ],
   "source": [
    "# train['customer_id'] = train['customer_id'].str[-16:].str.hex_to_int().astype('int64')\n",
    "train['customer_id'] = train['customer_id'].str[-16:]\n",
    "train['article_id'] = train.article_id.astype('int32')\n",
    "train.t_dat = pd.to_datetime(train.t_dat)\n",
    "train = train[['t_dat','customer_id','article_id']]\n",
    "train.to_parquet('train.pqt',index=False)\n",
    "print( train.shape )\n",
    "train.head()"
   ]
  },
  {
   "cell_type": "code",
   "execution_count": 4,
   "metadata": {},
   "outputs": [
    {
     "name": "stdout",
     "output_type": "stream",
     "text": [
      "Train shape: (5181535, 5)\n"
     ]
    }
   ],
   "source": [
    "tmp = train.groupby('customer_id').t_dat.max().reset_index()\n",
    "tmp.columns = ['customer_id','max_dat']\n",
    "train = train.merge(tmp,on=['customer_id'],how='left')\n",
    "train['diff_dat'] = (train.max_dat - train.t_dat).dt.days\n",
    "train = train.loc[train['diff_dat']<=6]\n",
    "print('Train shape:',train.shape)"
   ]
  },
  {
   "cell_type": "code",
   "execution_count": 5,
   "metadata": {},
   "outputs": [
    {
     "data": {
      "text/html": [
       "<div>\n",
       "<style scoped>\n",
       "    .dataframe tbody tr th:only-of-type {\n",
       "        vertical-align: middle;\n",
       "    }\n",
       "\n",
       "    .dataframe tbody tr th {\n",
       "        vertical-align: top;\n",
       "    }\n",
       "\n",
       "    .dataframe thead th {\n",
       "        text-align: right;\n",
       "    }\n",
       "</style>\n",
       "<table border=\"1\" class=\"dataframe\">\n",
       "  <thead>\n",
       "    <tr style=\"text-align: right;\">\n",
       "      <th></th>\n",
       "      <th>t_dat</th>\n",
       "      <th>customer_id</th>\n",
       "      <th>article_id</th>\n",
       "      <th>max_dat</th>\n",
       "      <th>diff_dat</th>\n",
       "      <th>ct</th>\n",
       "    </tr>\n",
       "  </thead>\n",
       "  <tbody>\n",
       "    <tr>\n",
       "      <th>1158548</th>\n",
       "      <td>2019-07-16</td>\n",
       "      <td>25df7287efeb5864</td>\n",
       "      <td>719348003</td>\n",
       "      <td>2019-07-16</td>\n",
       "      <td>0</td>\n",
       "      <td>100</td>\n",
       "    </tr>\n",
       "    <tr>\n",
       "      <th>80218</th>\n",
       "      <td>2018-10-04</td>\n",
       "      <td>3e3fc375f3dc0334</td>\n",
       "      <td>557247001</td>\n",
       "      <td>2018-10-04</td>\n",
       "      <td>0</td>\n",
       "      <td>86</td>\n",
       "    </tr>\n",
       "    <tr>\n",
       "      <th>2149868</th>\n",
       "      <td>2020-03-06</td>\n",
       "      <td>f369d633202f1980</td>\n",
       "      <td>852521001</td>\n",
       "      <td>2020-03-06</td>\n",
       "      <td>0</td>\n",
       "      <td>81</td>\n",
       "    </tr>\n",
       "    <tr>\n",
       "      <th>3423153</th>\n",
       "      <td>2020-07-06</td>\n",
       "      <td>31fb73d07178b8b6</td>\n",
       "      <td>685813001</td>\n",
       "      <td>2020-07-06</td>\n",
       "      <td>0</td>\n",
       "      <td>80</td>\n",
       "    </tr>\n",
       "    <tr>\n",
       "      <th>871769</th>\n",
       "      <td>2019-05-14</td>\n",
       "      <td>c02483cf582416e3</td>\n",
       "      <td>695545001</td>\n",
       "      <td>2019-05-14</td>\n",
       "      <td>0</td>\n",
       "      <td>80</td>\n",
       "    </tr>\n",
       "  </tbody>\n",
       "</table>\n",
       "</div>"
      ],
      "text/plain": [
       "             t_dat       customer_id  article_id    max_dat  diff_dat   ct\n",
       "1158548 2019-07-16  25df7287efeb5864   719348003 2019-07-16         0  100\n",
       "80218   2018-10-04  3e3fc375f3dc0334   557247001 2018-10-04         0   86\n",
       "2149868 2020-03-06  f369d633202f1980   852521001 2020-03-06         0   81\n",
       "3423153 2020-07-06  31fb73d07178b8b6   685813001 2020-07-06         0   80\n",
       "871769  2019-05-14  c02483cf582416e3   695545001 2019-05-14         0   80"
      ]
     },
     "execution_count": 5,
     "metadata": {},
     "output_type": "execute_result"
    }
   ],
   "source": [
    "tmp = train.groupby(['customer_id','article_id'])['t_dat'].agg('count').reset_index()\n",
    "tmp.columns = ['customer_id','article_id','ct']\n",
    "train = train.merge(tmp,on=['customer_id','article_id'],how='left')\n",
    "train = train.sort_values(['ct','t_dat'],ascending=False)\n",
    "train = train.drop_duplicates(['customer_id','article_id'])\n",
    "train = train.sort_values(['ct','t_dat'],ascending=False)\n",
    "train.head()"
   ]
  },
  {
   "cell_type": "code",
   "execution_count": 18,
   "metadata": {},
   "outputs": [
    {
     "name": "stderr",
     "output_type": "stream",
     "text": [
      "100%|██████████| 100/100 [00:23<00:00,  4.28it/s]\n"
     ]
    }
   ],
   "source": [
    "df = train\n",
    "vc = df.article_id.value_counts()\n",
    "pairs = {}\n",
    "for j,i in enumerate(tqdm(vc.index.values[:100])):\n",
    "    #if j%10==0: print(j,', ',end='')\n",
    "    USERS = df.loc[df.article_id==i.item(),'customer_id'].unique()\n",
    "    vc2 = df.loc[(df.customer_id.isin(USERS))&(df.article_id!=i.item()),'article_id'].value_counts()\n",
    "    pairs[i.item()] = vc2.index[0]"
   ]
  },
  {
   "cell_type": "code",
   "execution_count": 19,
   "metadata": {},
   "outputs": [],
   "source": [
    "train['article_id2'] = train.article_id.map(pairs)"
   ]
  },
  {
   "cell_type": "code",
   "execution_count": 20,
   "metadata": {},
   "outputs": [],
   "source": [
    "# RECOMMENDATION OF PAIRED ITEMS\n",
    "train2 = train[['customer_id','article_id2']].copy()\n",
    "train2 = train2.loc[train2.article_id2.notnull()]\n",
    "train2 = train2.drop_duplicates(['customer_id','article_id2'])\n",
    "train2 = train2.rename({'article_id2':'article_id'},axis=1)"
   ]
  },
  {
   "cell_type": "code",
   "execution_count": 21,
   "metadata": {},
   "outputs": [
    {
     "data": {
      "text/html": [
       "<div>\n",
       "<style scoped>\n",
       "    .dataframe tbody tr th:only-of-type {\n",
       "        vertical-align: middle;\n",
       "    }\n",
       "\n",
       "    .dataframe tbody tr th {\n",
       "        vertical-align: top;\n",
       "    }\n",
       "\n",
       "    .dataframe thead th {\n",
       "        text-align: right;\n",
       "    }\n",
       "</style>\n",
       "<table border=\"1\" class=\"dataframe\">\n",
       "  <thead>\n",
       "    <tr style=\"text-align: right;\">\n",
       "      <th></th>\n",
       "      <th>customer_id</th>\n",
       "      <th>article_id</th>\n",
       "    </tr>\n",
       "  </thead>\n",
       "  <tbody>\n",
       "    <tr>\n",
       "      <th>1599585</th>\n",
       "      <td>f58ac00ca97d8e55</td>\n",
       "      <td>711053026.0</td>\n",
       "    </tr>\n",
       "    <tr>\n",
       "      <th>4865960</th>\n",
       "      <td>fb1430a6408e4dfa</td>\n",
       "      <td>850917003.0</td>\n",
       "    </tr>\n",
       "    <tr>\n",
       "      <th>1942946</th>\n",
       "      <td>8cd4b617da0b53f8</td>\n",
       "      <td>568597006.0</td>\n",
       "    </tr>\n",
       "    <tr>\n",
       "      <th>1412214</th>\n",
       "      <td>0874a8ca875ee9e1</td>\n",
       "      <td>568601006.0</td>\n",
       "    </tr>\n",
       "    <tr>\n",
       "      <th>4761058</th>\n",
       "      <td>5163ebf5a38dbd77</td>\n",
       "      <td>685814003.0</td>\n",
       "    </tr>\n",
       "  </tbody>\n",
       "</table>\n",
       "</div>"
      ],
      "text/plain": [
       "              customer_id   article_id\n",
       "1599585  f58ac00ca97d8e55  711053026.0\n",
       "4865960  fb1430a6408e4dfa  850917003.0\n",
       "1942946  8cd4b617da0b53f8  568597006.0\n",
       "1412214  0874a8ca875ee9e1  568601006.0\n",
       "4761058  5163ebf5a38dbd77  685814003.0"
      ]
     },
     "execution_count": 21,
     "metadata": {},
     "output_type": "execute_result"
    }
   ],
   "source": [
    "train2.head()"
   ]
  },
  {
   "cell_type": "code",
   "execution_count": 22,
   "metadata": {},
   "outputs": [],
   "source": [
    "# CONCATENATE PAIRED ITEM RECOMMENDATION AFTER PREVIOUS PURCHASED RECOMMENDATIONS\n",
    "train = train[['customer_id','article_id']]\n",
    "train = pd.concat([train,train2],axis=0,ignore_index=True)\n",
    "train.article_id = train.article_id.astype('int32')\n",
    "train = train.drop_duplicates(['customer_id','article_id'])"
   ]
  },
  {
   "cell_type": "code",
   "execution_count": 23,
   "metadata": {},
   "outputs": [
    {
     "data": {
      "text/html": [
       "<div>\n",
       "<style scoped>\n",
       "    .dataframe tbody tr th:only-of-type {\n",
       "        vertical-align: middle;\n",
       "    }\n",
       "\n",
       "    .dataframe tbody tr th {\n",
       "        vertical-align: top;\n",
       "    }\n",
       "\n",
       "    .dataframe thead th {\n",
       "        text-align: right;\n",
       "    }\n",
       "</style>\n",
       "<table border=\"1\" class=\"dataframe\">\n",
       "  <thead>\n",
       "    <tr style=\"text-align: right;\">\n",
       "      <th></th>\n",
       "      <th>customer_id</th>\n",
       "      <th>prediction</th>\n",
       "    </tr>\n",
       "  </thead>\n",
       "  <tbody>\n",
       "    <tr>\n",
       "      <th>0</th>\n",
       "      <td>000003dc9363af5d</td>\n",
       "      <td>0803757011 0715624010</td>\n",
       "    </tr>\n",
       "    <tr>\n",
       "      <th>1</th>\n",
       "      <td>000015cb3b12bea5</td>\n",
       "      <td>0732842001</td>\n",
       "    </tr>\n",
       "    <tr>\n",
       "      <th>2</th>\n",
       "      <td>000017199277bb1c</td>\n",
       "      <td>0780209001</td>\n",
       "    </tr>\n",
       "    <tr>\n",
       "      <th>3</th>\n",
       "      <td>00001a3c85978340</td>\n",
       "      <td>0925246001 0760084003 0760084006</td>\n",
       "    </tr>\n",
       "    <tr>\n",
       "      <th>4</th>\n",
       "      <td>00002554df8f5ce0</td>\n",
       "      <td>0876293001 0688537004 0684209004</td>\n",
       "    </tr>\n",
       "  </tbody>\n",
       "</table>\n",
       "</div>"
      ],
      "text/plain": [
       "        customer_id                         prediction\n",
       "0  000003dc9363af5d              0803757011 0715624010\n",
       "1  000015cb3b12bea5                         0732842001\n",
       "2  000017199277bb1c                         0780209001\n",
       "3  00001a3c85978340   0925246001 0760084003 0760084006\n",
       "4  00002554df8f5ce0   0876293001 0688537004 0684209004"
      ]
     },
     "execution_count": 23,
     "metadata": {},
     "output_type": "execute_result"
    }
   ],
   "source": [
    "# CONVERT RECOMMENDATIONS INTO SINGLE STRING\n",
    "train.article_id = ' 0' + train.article_id.astype('str')\n",
    "preds = pd.DataFrame( train.groupby('customer_id').article_id.sum().reset_index() )\n",
    "preds.columns = ['customer_id','prediction']\n",
    "preds.head()"
   ]
  },
  {
   "cell_type": "code",
   "execution_count": 26,
   "metadata": {},
   "outputs": [
    {
     "name": "stdout",
     "output_type": "stream",
     "text": [
      "Last week's top 12 popular items:\n",
      " 0924243001 0924243002 0918522001 0923758001 0866731001 0909370001 0751471001 0915529003 0915529005 0448509014 0762846027 0714790020\n"
     ]
    }
   ],
   "source": [
    "train = pd.read_parquet('train.pqt')\n",
    "train.t_dat = pd.to_datetime(train.t_dat)\n",
    "train = train.loc[train.t_dat >= pd.to_datetime('2020-09-16')]\n",
    "top12 = ' 0' + ' 0'.join(train.article_id.value_counts().index.astype('str')[:12])\n",
    "print(\"Last week's top 12 popular items:\")\n",
    "print( top12 )"
   ]
  },
  {
   "cell_type": "code",
   "execution_count": 28,
   "metadata": {},
   "outputs": [
    {
     "data": {
      "text/html": [
       "<div>\n",
       "<style scoped>\n",
       "    .dataframe tbody tr th:only-of-type {\n",
       "        vertical-align: middle;\n",
       "    }\n",
       "\n",
       "    .dataframe tbody tr th {\n",
       "        vertical-align: top;\n",
       "    }\n",
       "\n",
       "    .dataframe thead th {\n",
       "        text-align: right;\n",
       "    }\n",
       "</style>\n",
       "<table border=\"1\" class=\"dataframe\">\n",
       "  <thead>\n",
       "    <tr style=\"text-align: right;\">\n",
       "      <th></th>\n",
       "      <th>customer_id</th>\n",
       "      <th>prediction</th>\n",
       "    </tr>\n",
       "  </thead>\n",
       "  <tbody>\n",
       "    <tr>\n",
       "      <th>0</th>\n",
       "      <td>00000dbacae5abe5e23885899a1fa44253a17956c6d1c3...</td>\n",
       "      <td>0568601043 0924243001 0924243002 0918522001 09...</td>\n",
       "    </tr>\n",
       "    <tr>\n",
       "      <th>1</th>\n",
       "      <td>0000423b00ade91418cceaf3b26c6af3dd342b51fd051e...</td>\n",
       "      <td>0826211002 0924243001 0924243002 0918522001 09...</td>\n",
       "    </tr>\n",
       "    <tr>\n",
       "      <th>2</th>\n",
       "      <td>000058a12d5b43e67d225668fa1f8d618c13dc232df0ca...</td>\n",
       "      <td>0794321007 0924243001 0924243002 0918522001 09...</td>\n",
       "    </tr>\n",
       "    <tr>\n",
       "      <th>3</th>\n",
       "      <td>00005ca1c9ed5f5146b52ac8639a40ca9d57aeff4d1bd2...</td>\n",
       "      <td>0742079001 0732413001 0924243001 0924243002 09...</td>\n",
       "    </tr>\n",
       "    <tr>\n",
       "      <th>4</th>\n",
       "      <td>00006413d8573cd20ed7128e53b7b13819fe5cfc2d801f...</td>\n",
       "      <td>0896152002 0730683050 0927530004 0791587015 08...</td>\n",
       "    </tr>\n",
       "  </tbody>\n",
       "</table>\n",
       "</div>"
      ],
      "text/plain": [
       "                                         customer_id  \\\n",
       "0  00000dbacae5abe5e23885899a1fa44253a17956c6d1c3...   \n",
       "1  0000423b00ade91418cceaf3b26c6af3dd342b51fd051e...   \n",
       "2  000058a12d5b43e67d225668fa1f8d618c13dc232df0ca...   \n",
       "3  00005ca1c9ed5f5146b52ac8639a40ca9d57aeff4d1bd2...   \n",
       "4  00006413d8573cd20ed7128e53b7b13819fe5cfc2d801f...   \n",
       "\n",
       "                                          prediction  \n",
       "0  0568601043 0924243001 0924243002 0918522001 09...  \n",
       "1  0826211002 0924243001 0924243002 0918522001 09...  \n",
       "2  0794321007 0924243001 0924243002 0918522001 09...  \n",
       "3  0742079001 0732413001 0924243001 0924243002 09...  \n",
       "4  0896152002 0730683050 0927530004 0791587015 08...  "
      ]
     },
     "execution_count": 28,
     "metadata": {},
     "output_type": "execute_result"
    }
   ],
   "source": [
    "sub = pd.read_csv('../input/h-and-m-personalized-fashion-recommendations/sample_submission.csv')\n",
    "sub = sub[['customer_id']]\n",
    "sub['customer_id_2'] = sub['customer_id'].str[-16:]\n",
    "sub = sub.merge(preds.rename({'customer_id':'customer_id_2'},axis=1),\\\n",
    "    on='customer_id_2', how='left').fillna('')\n",
    "del sub['customer_id_2']\n",
    "sub.prediction = sub.prediction + top12\n",
    "sub.prediction = sub.prediction.str.strip()\n",
    "sub.prediction = sub.prediction.str[:131]\n",
    "sub.to_csv(f'submission.csv',index=False)\n",
    "sub.head()"
   ]
  },
  {
   "cell_type": "code",
   "execution_count": null,
   "metadata": {},
   "outputs": [],
   "source": []
  }
 ],
 "metadata": {
  "interpreter": {
   "hash": "f436cdb28f556d638768226e88df829b306d6cce33caefeb33828bb6037ec961"
  },
  "kernelspec": {
   "display_name": "Python 3.8.12 ('kaggle')",
   "language": "python",
   "name": "python3"
  },
  "language_info": {
   "codemirror_mode": {
    "name": "ipython",
    "version": 3
   },
   "file_extension": ".py",
   "mimetype": "text/x-python",
   "name": "python",
   "nbconvert_exporter": "python",
   "pygments_lexer": "ipython3",
   "version": "3.8.12"
  },
  "orig_nbformat": 4
 },
 "nbformat": 4,
 "nbformat_minor": 2
}
