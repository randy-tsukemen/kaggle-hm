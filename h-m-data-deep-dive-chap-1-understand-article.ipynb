{
 "cells": [
  {
   "cell_type": "code",
   "execution_count": 6,
   "metadata": {},
   "outputs": [],
   "source": [
    "# https://www.kaggle.com/lichtlab/h-m-data-deep-dive-chap-1-understand-article\n",
    "import pandas as pd\n",
    "import plotly.express as px\n",
    "import numpy as np\n",
    "import seaborn as sns"
   ]
  },
  {
   "cell_type": "code",
   "execution_count": 7,
   "metadata": {},
   "outputs": [
    {
     "data": {
      "text/html": [
       "<div>\n",
       "<style scoped>\n",
       "    .dataframe tbody tr th:only-of-type {\n",
       "        vertical-align: middle;\n",
       "    }\n",
       "\n",
       "    .dataframe tbody tr th {\n",
       "        vertical-align: top;\n",
       "    }\n",
       "\n",
       "    .dataframe thead th {\n",
       "        text-align: right;\n",
       "    }\n",
       "</style>\n",
       "<table border=\"1\" class=\"dataframe\">\n",
       "  <thead>\n",
       "    <tr style=\"text-align: right;\">\n",
       "      <th></th>\n",
       "      <th>article_id</th>\n",
       "      <th>product_code</th>\n",
       "      <th>prod_name</th>\n",
       "      <th>product_type_no</th>\n",
       "      <th>product_type_name</th>\n",
       "      <th>product_group_name</th>\n",
       "      <th>graphical_appearance_no</th>\n",
       "      <th>graphical_appearance_name</th>\n",
       "      <th>colour_group_code</th>\n",
       "      <th>colour_group_name</th>\n",
       "      <th>...</th>\n",
       "      <th>index_group_no</th>\n",
       "      <th>index_group_name</th>\n",
       "      <th>section_no</th>\n",
       "      <th>section_name</th>\n",
       "      <th>garment_group_no</th>\n",
       "      <th>garment_group_name</th>\n",
       "      <th>detail_desc</th>\n",
       "      <th>is_for_male</th>\n",
       "      <th>is_for_female</th>\n",
       "      <th>is_for_mama</th>\n",
       "    </tr>\n",
       "  </thead>\n",
       "  <tbody>\n",
       "    <tr>\n",
       "      <th>0</th>\n",
       "      <td>0108775015</td>\n",
       "      <td>108775</td>\n",
       "      <td>Strap top</td>\n",
       "      <td>253</td>\n",
       "      <td>Vest top</td>\n",
       "      <td>Garment Upper body</td>\n",
       "      <td>1010016</td>\n",
       "      <td>Solid</td>\n",
       "      <td>9</td>\n",
       "      <td>Black</td>\n",
       "      <td>...</td>\n",
       "      <td>1</td>\n",
       "      <td>Ladieswear</td>\n",
       "      <td>16</td>\n",
       "      <td>Womens Everyday Basics</td>\n",
       "      <td>1002</td>\n",
       "      <td>Jersey Basic</td>\n",
       "      <td>Jersey top with narrow shoulder straps.</td>\n",
       "      <td>0</td>\n",
       "      <td>1</td>\n",
       "      <td>0</td>\n",
       "    </tr>\n",
       "    <tr>\n",
       "      <th>1</th>\n",
       "      <td>0108775044</td>\n",
       "      <td>108775</td>\n",
       "      <td>Strap top</td>\n",
       "      <td>253</td>\n",
       "      <td>Vest top</td>\n",
       "      <td>Garment Upper body</td>\n",
       "      <td>1010016</td>\n",
       "      <td>Solid</td>\n",
       "      <td>10</td>\n",
       "      <td>White</td>\n",
       "      <td>...</td>\n",
       "      <td>1</td>\n",
       "      <td>Ladieswear</td>\n",
       "      <td>16</td>\n",
       "      <td>Womens Everyday Basics</td>\n",
       "      <td>1002</td>\n",
       "      <td>Jersey Basic</td>\n",
       "      <td>Jersey top with narrow shoulder straps.</td>\n",
       "      <td>0</td>\n",
       "      <td>1</td>\n",
       "      <td>0</td>\n",
       "    </tr>\n",
       "    <tr>\n",
       "      <th>2</th>\n",
       "      <td>0108775051</td>\n",
       "      <td>108775</td>\n",
       "      <td>Strap top (1)</td>\n",
       "      <td>253</td>\n",
       "      <td>Vest top</td>\n",
       "      <td>Garment Upper body</td>\n",
       "      <td>1010017</td>\n",
       "      <td>Stripe</td>\n",
       "      <td>11</td>\n",
       "      <td>Off White</td>\n",
       "      <td>...</td>\n",
       "      <td>1</td>\n",
       "      <td>Ladieswear</td>\n",
       "      <td>16</td>\n",
       "      <td>Womens Everyday Basics</td>\n",
       "      <td>1002</td>\n",
       "      <td>Jersey Basic</td>\n",
       "      <td>Jersey top with narrow shoulder straps.</td>\n",
       "      <td>0</td>\n",
       "      <td>1</td>\n",
       "      <td>0</td>\n",
       "    </tr>\n",
       "    <tr>\n",
       "      <th>3</th>\n",
       "      <td>0110065001</td>\n",
       "      <td>110065</td>\n",
       "      <td>OP T-shirt (Idro)</td>\n",
       "      <td>306</td>\n",
       "      <td>Bra</td>\n",
       "      <td>Underwear</td>\n",
       "      <td>1010016</td>\n",
       "      <td>Solid</td>\n",
       "      <td>9</td>\n",
       "      <td>Black</td>\n",
       "      <td>...</td>\n",
       "      <td>1</td>\n",
       "      <td>Ladieswear</td>\n",
       "      <td>61</td>\n",
       "      <td>Womens Lingerie</td>\n",
       "      <td>1017</td>\n",
       "      <td>Under-, Nightwear</td>\n",
       "      <td>Microfibre T-shirt bra with underwired, moulde...</td>\n",
       "      <td>0</td>\n",
       "      <td>1</td>\n",
       "      <td>0</td>\n",
       "    </tr>\n",
       "    <tr>\n",
       "      <th>4</th>\n",
       "      <td>0110065002</td>\n",
       "      <td>110065</td>\n",
       "      <td>OP T-shirt (Idro)</td>\n",
       "      <td>306</td>\n",
       "      <td>Bra</td>\n",
       "      <td>Underwear</td>\n",
       "      <td>1010016</td>\n",
       "      <td>Solid</td>\n",
       "      <td>10</td>\n",
       "      <td>White</td>\n",
       "      <td>...</td>\n",
       "      <td>1</td>\n",
       "      <td>Ladieswear</td>\n",
       "      <td>61</td>\n",
       "      <td>Womens Lingerie</td>\n",
       "      <td>1017</td>\n",
       "      <td>Under-, Nightwear</td>\n",
       "      <td>Microfibre T-shirt bra with underwired, moulde...</td>\n",
       "      <td>0</td>\n",
       "      <td>1</td>\n",
       "      <td>0</td>\n",
       "    </tr>\n",
       "  </tbody>\n",
       "</table>\n",
       "<p>5 rows × 28 columns</p>\n",
       "</div>"
      ],
      "text/plain": [
       "   article_id  product_code          prod_name  product_type_no  \\\n",
       "0  0108775015        108775          Strap top              253   \n",
       "1  0108775044        108775          Strap top              253   \n",
       "2  0108775051        108775      Strap top (1)              253   \n",
       "3  0110065001        110065  OP T-shirt (Idro)              306   \n",
       "4  0110065002        110065  OP T-shirt (Idro)              306   \n",
       "\n",
       "  product_type_name  product_group_name  graphical_appearance_no  \\\n",
       "0          Vest top  Garment Upper body                  1010016   \n",
       "1          Vest top  Garment Upper body                  1010016   \n",
       "2          Vest top  Garment Upper body                  1010017   \n",
       "3               Bra           Underwear                  1010016   \n",
       "4               Bra           Underwear                  1010016   \n",
       "\n",
       "  graphical_appearance_name  colour_group_code colour_group_name  ...  \\\n",
       "0                     Solid                  9             Black  ...   \n",
       "1                     Solid                 10             White  ...   \n",
       "2                    Stripe                 11         Off White  ...   \n",
       "3                     Solid                  9             Black  ...   \n",
       "4                     Solid                 10             White  ...   \n",
       "\n",
       "   index_group_no index_group_name  section_no            section_name  \\\n",
       "0               1       Ladieswear          16  Womens Everyday Basics   \n",
       "1               1       Ladieswear          16  Womens Everyday Basics   \n",
       "2               1       Ladieswear          16  Womens Everyday Basics   \n",
       "3               1       Ladieswear          61         Womens Lingerie   \n",
       "4               1       Ladieswear          61         Womens Lingerie   \n",
       "\n",
       "   garment_group_no garment_group_name  \\\n",
       "0              1002       Jersey Basic   \n",
       "1              1002       Jersey Basic   \n",
       "2              1002       Jersey Basic   \n",
       "3              1017  Under-, Nightwear   \n",
       "4              1017  Under-, Nightwear   \n",
       "\n",
       "                                         detail_desc is_for_male  \\\n",
       "0            Jersey top with narrow shoulder straps.           0   \n",
       "1            Jersey top with narrow shoulder straps.           0   \n",
       "2            Jersey top with narrow shoulder straps.           0   \n",
       "3  Microfibre T-shirt bra with underwired, moulde...           0   \n",
       "4  Microfibre T-shirt bra with underwired, moulde...           0   \n",
       "\n",
       "   is_for_female is_for_mama  \n",
       "0              1           0  \n",
       "1              1           0  \n",
       "2              1           0  \n",
       "3              1           0  \n",
       "4              1           0  \n",
       "\n",
       "[5 rows x 28 columns]"
      ]
     },
     "execution_count": 7,
     "metadata": {},
     "output_type": "execute_result"
    }
   ],
   "source": [
    "df_article = pd.read_csv('../input/h-and-m-personalized-fashion-recommendations/articles.csv',dtype={'article_id': str})\n",
    "\n",
    "def set_gender_flg(x):\n",
    "    x['is_for_male'] = 0\n",
    "    x['is_for_female'] = 0\n",
    "    x['is_for_mama'] = 0\n",
    "    if x['index_group_name'] in ['Ladieswear','Divided']:\n",
    "        x['is_for_female'] = 1\n",
    "    if x['index_group_name'] == 'Menswear':\n",
    "        x['is_for_male'] = 1\n",
    "    if x['index_group_name'] in ['Baby/Children','Sport']:\n",
    "        if 'boy' in x['department_name'].lower() or 'men' in x['department_name'].lower():\n",
    "            x['is_for_male'] = 1\n",
    "        if 'girl' in x['department_name'].lower() or 'ladies' in x['department_name'].lower():\n",
    "            x['is_for_female'] = 1\n",
    "    if x['section_name'] == 'Mama':\n",
    "        x['is_for_mama'] = 1\n",
    "    return x\n",
    "\n",
    "df_article = df_article.apply(set_gender_flg, axis=1)\n",
    "df_article.head()"
   ]
  },
  {
   "cell_type": "code",
   "execution_count": 8,
   "metadata": {},
   "outputs": [],
   "source": [
    "df_article['idxgrp_idx_prdtyp'] = df_article['index_group_name'] + '_' + df_article['index_name'] + '_' + df_article['product_type_name']\n",
    "\n",
    "df_trans = pd.read_csv('../input/h-and-m-personalized-fashion-recommendations/transactions_train.csv',dtype={'article_id': str})\n",
    "df_trans = df_trans.sample(frac=0.1) # downsampling due to memory limits\n",
    "df_trans['t_dat'] = pd.to_datetime(df_trans['t_dat'])\n",
    "df_trans['YYYY_MM'] = df_trans['t_dat'].dt.year.astype(str) + '_' + df_trans['t_dat'].dt.month.astype(str)\n",
    "df_trans['year'] = df_trans['t_dat'].dt.year\n",
    "df_trans['month'] = df_trans['t_dat'].dt.month\n",
    "df = pd.merge(df_trans, df_article, on='article_id', how='left')\n",
    "del df_trans, df_article\n",
    "\n",
    "dfgrp1 = df.groupby(['idxgrp_idx_prdtyp'])[['price']].sum().reset_index()\n",
    "dfgrp2 = df.groupby(['idxgrp_idx_prdtyp', 'year', 'month'])[['price']].sum().reset_index()\n",
    "dfgrp2 = pd.merge(dfgrp2, dfgrp1, on='idxgrp_idx_prdtyp', how='left')\n",
    "dfgrp2['monthsales/ttl-sales'] = dfgrp2['price_x'] / dfgrp2['price_y'] * 100\n",
    "dfgrp2['ym_date'] = dfgrp2['year'].astype(str) + '-' + dfgrp2['month'].astype(str) + '-1'\n",
    "dfgrp2['ym_date'] = pd.to_datetime(dfgrp2['ym_date'])\n"
   ]
  },
  {
   "cell_type": "code",
   "execution_count": 9,
   "metadata": {},
   "outputs": [
    {
     "data": {
      "text/html": [
       "<div>\n",
       "<style scoped>\n",
       "    .dataframe tbody tr th:only-of-type {\n",
       "        vertical-align: middle;\n",
       "    }\n",
       "\n",
       "    .dataframe tbody tr th {\n",
       "        vertical-align: top;\n",
       "    }\n",
       "\n",
       "    .dataframe thead th {\n",
       "        text-align: right;\n",
       "    }\n",
       "</style>\n",
       "<table border=\"1\" class=\"dataframe\">\n",
       "  <thead>\n",
       "    <tr style=\"text-align: right;\">\n",
       "      <th></th>\n",
       "      <th>idxgrp_idx_prdtyp</th>\n",
       "      <th>year</th>\n",
       "      <th>month</th>\n",
       "      <th>price_x</th>\n",
       "      <th>price_y</th>\n",
       "      <th>monthsales/ttl-sales</th>\n",
       "      <th>ym_date</th>\n",
       "    </tr>\n",
       "  </thead>\n",
       "  <tbody>\n",
       "    <tr>\n",
       "      <th>0</th>\n",
       "      <td>Baby/Children_Baby Sizes 50-98_Accessories set</td>\n",
       "      <td>2020</td>\n",
       "      <td>8</td>\n",
       "      <td>0.022017</td>\n",
       "      <td>0.104441</td>\n",
       "      <td>21.080818</td>\n",
       "      <td>2020-08-01</td>\n",
       "    </tr>\n",
       "    <tr>\n",
       "      <th>1</th>\n",
       "      <td>Baby/Children_Baby Sizes 50-98_Accessories set</td>\n",
       "      <td>2020</td>\n",
       "      <td>9</td>\n",
       "      <td>0.082424</td>\n",
       "      <td>0.104441</td>\n",
       "      <td>78.919182</td>\n",
       "      <td>2020-09-01</td>\n",
       "    </tr>\n",
       "    <tr>\n",
       "      <th>2</th>\n",
       "      <td>Baby/Children_Baby Sizes 50-98_Baby Bib</td>\n",
       "      <td>2019</td>\n",
       "      <td>6</td>\n",
       "      <td>0.044034</td>\n",
       "      <td>0.467153</td>\n",
       "      <td>9.426021</td>\n",
       "      <td>2019-06-01</td>\n",
       "    </tr>\n",
       "    <tr>\n",
       "      <th>3</th>\n",
       "      <td>Baby/Children_Baby Sizes 50-98_Baby Bib</td>\n",
       "      <td>2019</td>\n",
       "      <td>10</td>\n",
       "      <td>0.044034</td>\n",
       "      <td>0.467153</td>\n",
       "      <td>9.426021</td>\n",
       "      <td>2019-10-01</td>\n",
       "    </tr>\n",
       "    <tr>\n",
       "      <th>4</th>\n",
       "      <td>Baby/Children_Baby Sizes 50-98_Baby Bib</td>\n",
       "      <td>2019</td>\n",
       "      <td>12</td>\n",
       "      <td>0.044034</td>\n",
       "      <td>0.467153</td>\n",
       "      <td>9.426021</td>\n",
       "      <td>2019-12-01</td>\n",
       "    </tr>\n",
       "  </tbody>\n",
       "</table>\n",
       "</div>"
      ],
      "text/plain": [
       "                                idxgrp_idx_prdtyp  year  month   price_x  \\\n",
       "0  Baby/Children_Baby Sizes 50-98_Accessories set  2020      8  0.022017   \n",
       "1  Baby/Children_Baby Sizes 50-98_Accessories set  2020      9  0.082424   \n",
       "2         Baby/Children_Baby Sizes 50-98_Baby Bib  2019      6  0.044034   \n",
       "3         Baby/Children_Baby Sizes 50-98_Baby Bib  2019     10  0.044034   \n",
       "4         Baby/Children_Baby Sizes 50-98_Baby Bib  2019     12  0.044034   \n",
       "\n",
       "    price_y  monthsales/ttl-sales    ym_date  \n",
       "0  0.104441             21.080818 2020-08-01  \n",
       "1  0.104441             78.919182 2020-09-01  \n",
       "2  0.467153              9.426021 2019-06-01  \n",
       "3  0.467153              9.426021 2019-10-01  \n",
       "4  0.467153              9.426021 2019-12-01  "
      ]
     },
     "execution_count": 9,
     "metadata": {},
     "output_type": "execute_result"
    }
   ],
   "source": [
    "dfgrp2.head()"
   ]
  },
  {
   "cell_type": "code",
   "execution_count": 13,
   "metadata": {},
   "outputs": [
    {
     "data": {
      "text/html": [
       "<div>\n",
       "<style scoped>\n",
       "    .dataframe tbody tr th:only-of-type {\n",
       "        vertical-align: middle;\n",
       "    }\n",
       "\n",
       "    .dataframe tbody tr th {\n",
       "        vertical-align: top;\n",
       "    }\n",
       "\n",
       "    .dataframe thead th {\n",
       "        text-align: right;\n",
       "    }\n",
       "</style>\n",
       "<table border=\"1\" class=\"dataframe\">\n",
       "  <thead>\n",
       "    <tr style=\"text-align: right;\">\n",
       "      <th>idxgrp_idx_prdtyp</th>\n",
       "      <th>ym_date</th>\n",
       "      <th>Baby/Children_Baby Sizes 50-98_Accessories set</th>\n",
       "      <th>Baby/Children_Baby Sizes 50-98_Baby Bib</th>\n",
       "      <th>Baby/Children_Baby Sizes 50-98_Ballerinas</th>\n",
       "      <th>Baby/Children_Baby Sizes 50-98_Beanie</th>\n",
       "      <th>Baby/Children_Baby Sizes 50-98_Belt</th>\n",
       "      <th>Baby/Children_Baby Sizes 50-98_Blanket</th>\n",
       "      <th>Baby/Children_Baby Sizes 50-98_Blouse</th>\n",
       "      <th>Baby/Children_Baby Sizes 50-98_Bodysuit</th>\n",
       "      <th>Baby/Children_Baby Sizes 50-98_Bootie</th>\n",
       "      <th>...</th>\n",
       "      <th>Sport_Sport_Sweater</th>\n",
       "      <th>Sport_Sport_Swimsuit</th>\n",
       "      <th>Sport_Sport_Swimwear bottom</th>\n",
       "      <th>Sport_Sport_T-shirt</th>\n",
       "      <th>Sport_Sport_Top</th>\n",
       "      <th>Sport_Sport_Trousers</th>\n",
       "      <th>Sport_Sport_Underwear bottom</th>\n",
       "      <th>Sport_Sport_Unknown</th>\n",
       "      <th>Sport_Sport_Vest top</th>\n",
       "      <th>Sport_Sport_Waterbottle</th>\n",
       "    </tr>\n",
       "  </thead>\n",
       "  <tbody>\n",
       "    <tr>\n",
       "      <th>0</th>\n",
       "      <td>2018-09-01</td>\n",
       "      <td>0.0</td>\n",
       "      <td>0.0</td>\n",
       "      <td>5.240667</td>\n",
       "      <td>0.0</td>\n",
       "      <td>8.152840</td>\n",
       "      <td>0.0</td>\n",
       "      <td>0.645293</td>\n",
       "      <td>3.717630</td>\n",
       "      <td>4.526242</td>\n",
       "      <td>...</td>\n",
       "      <td>3.237728</td>\n",
       "      <td>1.303717</td>\n",
       "      <td>0.975382</td>\n",
       "      <td>2.228232</td>\n",
       "      <td>0.511049</td>\n",
       "      <td>2.207181</td>\n",
       "      <td>0.750946</td>\n",
       "      <td>0.0</td>\n",
       "      <td>1.539181</td>\n",
       "      <td>6.212523</td>\n",
       "    </tr>\n",
       "    <tr>\n",
       "      <th>1</th>\n",
       "      <td>2018-10-01</td>\n",
       "      <td>0.0</td>\n",
       "      <td>0.0</td>\n",
       "      <td>16.523669</td>\n",
       "      <td>0.0</td>\n",
       "      <td>10.196159</td>\n",
       "      <td>0.0</td>\n",
       "      <td>8.869282</td>\n",
       "      <td>8.478238</td>\n",
       "      <td>16.014048</td>\n",
       "      <td>...</td>\n",
       "      <td>8.943889</td>\n",
       "      <td>3.117566</td>\n",
       "      <td>2.715924</td>\n",
       "      <td>5.081075</td>\n",
       "      <td>1.220311</td>\n",
       "      <td>5.699320</td>\n",
       "      <td>2.444808</td>\n",
       "      <td>0.0</td>\n",
       "      <td>3.436732</td>\n",
       "      <td>13.385549</td>\n",
       "    </tr>\n",
       "    <tr>\n",
       "      <th>2</th>\n",
       "      <td>2018-11-01</td>\n",
       "      <td>0.0</td>\n",
       "      <td>0.0</td>\n",
       "      <td>9.625004</td>\n",
       "      <td>0.0</td>\n",
       "      <td>61.258684</td>\n",
       "      <td>100.0</td>\n",
       "      <td>3.229699</td>\n",
       "      <td>8.245849</td>\n",
       "      <td>15.899021</td>\n",
       "      <td>...</td>\n",
       "      <td>10.566956</td>\n",
       "      <td>4.582184</td>\n",
       "      <td>1.247495</td>\n",
       "      <td>3.834712</td>\n",
       "      <td>1.315231</td>\n",
       "      <td>5.481981</td>\n",
       "      <td>0.000000</td>\n",
       "      <td>0.0</td>\n",
       "      <td>3.376492</td>\n",
       "      <td>11.320738</td>\n",
       "    </tr>\n",
       "    <tr>\n",
       "      <th>3</th>\n",
       "      <td>2018-12-01</td>\n",
       "      <td>0.0</td>\n",
       "      <td>0.0</td>\n",
       "      <td>11.722761</td>\n",
       "      <td>0.0</td>\n",
       "      <td>10.196159</td>\n",
       "      <td>0.0</td>\n",
       "      <td>1.181781</td>\n",
       "      <td>6.310974</td>\n",
       "      <td>11.205342</td>\n",
       "      <td>...</td>\n",
       "      <td>5.987414</td>\n",
       "      <td>1.169114</td>\n",
       "      <td>1.827279</td>\n",
       "      <td>3.011064</td>\n",
       "      <td>1.525507</td>\n",
       "      <td>4.798074</td>\n",
       "      <td>0.000000</td>\n",
       "      <td>0.0</td>\n",
       "      <td>2.505976</td>\n",
       "      <td>12.906202</td>\n",
       "    </tr>\n",
       "    <tr>\n",
       "      <th>4</th>\n",
       "      <td>2019-01-01</td>\n",
       "      <td>0.0</td>\n",
       "      <td>0.0</td>\n",
       "      <td>1.819492</td>\n",
       "      <td>0.0</td>\n",
       "      <td>0.000000</td>\n",
       "      <td>0.0</td>\n",
       "      <td>4.746515</td>\n",
       "      <td>7.124582</td>\n",
       "      <td>9.005520</td>\n",
       "      <td>...</td>\n",
       "      <td>8.877938</td>\n",
       "      <td>5.020229</td>\n",
       "      <td>1.603965</td>\n",
       "      <td>5.860243</td>\n",
       "      <td>2.364620</td>\n",
       "      <td>6.538640</td>\n",
       "      <td>12.310617</td>\n",
       "      <td>0.0</td>\n",
       "      <td>4.297864</td>\n",
       "      <td>26.887769</td>\n",
       "    </tr>\n",
       "  </tbody>\n",
       "</table>\n",
       "<p>5 rows × 501 columns</p>\n",
       "</div>"
      ],
      "text/plain": [
       "idxgrp_idx_prdtyp    ym_date  Baby/Children_Baby Sizes 50-98_Accessories set  \\\n",
       "0                 2018-09-01                                             0.0   \n",
       "1                 2018-10-01                                             0.0   \n",
       "2                 2018-11-01                                             0.0   \n",
       "3                 2018-12-01                                             0.0   \n",
       "4                 2019-01-01                                             0.0   \n",
       "\n",
       "idxgrp_idx_prdtyp  Baby/Children_Baby Sizes 50-98_Baby Bib  \\\n",
       "0                                                      0.0   \n",
       "1                                                      0.0   \n",
       "2                                                      0.0   \n",
       "3                                                      0.0   \n",
       "4                                                      0.0   \n",
       "\n",
       "idxgrp_idx_prdtyp  Baby/Children_Baby Sizes 50-98_Ballerinas  \\\n",
       "0                                                   5.240667   \n",
       "1                                                  16.523669   \n",
       "2                                                   9.625004   \n",
       "3                                                  11.722761   \n",
       "4                                                   1.819492   \n",
       "\n",
       "idxgrp_idx_prdtyp  Baby/Children_Baby Sizes 50-98_Beanie  \\\n",
       "0                                                    0.0   \n",
       "1                                                    0.0   \n",
       "2                                                    0.0   \n",
       "3                                                    0.0   \n",
       "4                                                    0.0   \n",
       "\n",
       "idxgrp_idx_prdtyp  Baby/Children_Baby Sizes 50-98_Belt  \\\n",
       "0                                             8.152840   \n",
       "1                                            10.196159   \n",
       "2                                            61.258684   \n",
       "3                                            10.196159   \n",
       "4                                             0.000000   \n",
       "\n",
       "idxgrp_idx_prdtyp  Baby/Children_Baby Sizes 50-98_Blanket  \\\n",
       "0                                                     0.0   \n",
       "1                                                     0.0   \n",
       "2                                                   100.0   \n",
       "3                                                     0.0   \n",
       "4                                                     0.0   \n",
       "\n",
       "idxgrp_idx_prdtyp  Baby/Children_Baby Sizes 50-98_Blouse  \\\n",
       "0                                               0.645293   \n",
       "1                                               8.869282   \n",
       "2                                               3.229699   \n",
       "3                                               1.181781   \n",
       "4                                               4.746515   \n",
       "\n",
       "idxgrp_idx_prdtyp  Baby/Children_Baby Sizes 50-98_Bodysuit  \\\n",
       "0                                                 3.717630   \n",
       "1                                                 8.478238   \n",
       "2                                                 8.245849   \n",
       "3                                                 6.310974   \n",
       "4                                                 7.124582   \n",
       "\n",
       "idxgrp_idx_prdtyp  Baby/Children_Baby Sizes 50-98_Bootie  ...  \\\n",
       "0                                               4.526242  ...   \n",
       "1                                              16.014048  ...   \n",
       "2                                              15.899021  ...   \n",
       "3                                              11.205342  ...   \n",
       "4                                               9.005520  ...   \n",
       "\n",
       "idxgrp_idx_prdtyp  Sport_Sport_Sweater  Sport_Sport_Swimsuit  \\\n",
       "0                             3.237728              1.303717   \n",
       "1                             8.943889              3.117566   \n",
       "2                            10.566956              4.582184   \n",
       "3                             5.987414              1.169114   \n",
       "4                             8.877938              5.020229   \n",
       "\n",
       "idxgrp_idx_prdtyp  Sport_Sport_Swimwear bottom  Sport_Sport_T-shirt  \\\n",
       "0                                     0.975382             2.228232   \n",
       "1                                     2.715924             5.081075   \n",
       "2                                     1.247495             3.834712   \n",
       "3                                     1.827279             3.011064   \n",
       "4                                     1.603965             5.860243   \n",
       "\n",
       "idxgrp_idx_prdtyp  Sport_Sport_Top  Sport_Sport_Trousers  \\\n",
       "0                         0.511049              2.207181   \n",
       "1                         1.220311              5.699320   \n",
       "2                         1.315231              5.481981   \n",
       "3                         1.525507              4.798074   \n",
       "4                         2.364620              6.538640   \n",
       "\n",
       "idxgrp_idx_prdtyp  Sport_Sport_Underwear bottom  Sport_Sport_Unknown  \\\n",
       "0                                      0.750946                  0.0   \n",
       "1                                      2.444808                  0.0   \n",
       "2                                      0.000000                  0.0   \n",
       "3                                      0.000000                  0.0   \n",
       "4                                     12.310617                  0.0   \n",
       "\n",
       "idxgrp_idx_prdtyp  Sport_Sport_Vest top  Sport_Sport_Waterbottle  \n",
       "0                              1.539181                 6.212523  \n",
       "1                              3.436732                13.385549  \n",
       "2                              3.376492                11.320738  \n",
       "3                              2.505976                12.906202  \n",
       "4                              4.297864                26.887769  \n",
       "\n",
       "[5 rows x 501 columns]"
      ]
     },
     "metadata": {},
     "output_type": "display_data"
    },
    {
     "data": {
      "application/vnd.plotly.v1+json": {
       "config": {
        "plotlyServerURL": "https://plot.ly"
       },
       "data": [
        {
         "hovertemplate": "variable=Ladieswear_Ladieswear_Jacket<br>ym_date=%{x}<br>value=%{y}<extra></extra>",
         "legendgroup": "Ladieswear_Ladieswear_Jacket",
         "line": {
          "color": "#636efa",
          "dash": "solid"
         },
         "marker": {
          "symbol": "circle"
         },
         "mode": "lines",
         "name": "Ladieswear_Ladieswear_Jacket",
         "orientation": "v",
         "showlegend": true,
         "type": "scatter",
         "x": [
          "2018-09-01T00:00:00",
          "2018-10-01T00:00:00",
          "2018-11-01T00:00:00",
          "2018-12-01T00:00:00",
          "2019-01-01T00:00:00",
          "2019-02-01T00:00:00",
          "2019-03-01T00:00:00",
          "2019-04-01T00:00:00",
          "2019-05-01T00:00:00",
          "2019-06-01T00:00:00",
          "2019-07-01T00:00:00",
          "2019-08-01T00:00:00",
          "2019-09-01T00:00:00",
          "2019-10-01T00:00:00",
          "2019-11-01T00:00:00",
          "2019-12-01T00:00:00",
          "2020-01-01T00:00:00",
          "2020-02-01T00:00:00",
          "2020-03-01T00:00:00",
          "2020-04-01T00:00:00",
          "2020-05-01T00:00:00",
          "2020-06-01T00:00:00",
          "2020-07-01T00:00:00",
          "2020-08-01T00:00:00",
          "2020-09-01T00:00:00"
         ],
         "xaxis": "x",
         "y": [
          2.7935825796750904,
          7.50916117228099,
          7.143009857211938,
          5.392559919905052,
          4.942678209488513,
          3.7481591938348546,
          3.9110392576387722,
          2.694355547956277,
          2.3296553711341663,
          1.2102943381286673,
          1.5523386014765634,
          2.4472799082126206,
          7.09451777141873,
          6.85688227156086,
          7.364115611607058,
          4.535161009348145,
          3.169615287627423,
          3.6468504613718826,
          3.4720797904775944,
          2.5670248524385233,
          2.147214498613579,
          1.6174202517194227,
          1.4000992798131777,
          3.712647828199194,
          6.742257128860908
         ],
         "yaxis": "y"
        },
        {
         "hovertemplate": "variable=Divided_Divided_Jacket<br>ym_date=%{x}<br>value=%{y}<extra></extra>",
         "legendgroup": "Divided_Divided_Jacket",
         "line": {
          "color": "#EF553B",
          "dash": "solid"
         },
         "marker": {
          "symbol": "circle"
         },
         "mode": "lines",
         "name": "Divided_Divided_Jacket",
         "orientation": "v",
         "showlegend": true,
         "type": "scatter",
         "x": [
          "2018-09-01T00:00:00",
          "2018-10-01T00:00:00",
          "2018-11-01T00:00:00",
          "2018-12-01T00:00:00",
          "2019-01-01T00:00:00",
          "2019-02-01T00:00:00",
          "2019-03-01T00:00:00",
          "2019-04-01T00:00:00",
          "2019-05-01T00:00:00",
          "2019-06-01T00:00:00",
          "2019-07-01T00:00:00",
          "2019-08-01T00:00:00",
          "2019-09-01T00:00:00",
          "2019-10-01T00:00:00",
          "2019-11-01T00:00:00",
          "2019-12-01T00:00:00",
          "2020-01-01T00:00:00",
          "2020-02-01T00:00:00",
          "2020-03-01T00:00:00",
          "2020-04-01T00:00:00",
          "2020-05-01T00:00:00",
          "2020-06-01T00:00:00",
          "2020-07-01T00:00:00",
          "2020-08-01T00:00:00",
          "2020-09-01T00:00:00"
         ],
         "xaxis": "x",
         "y": [
          1.9709173547238792,
          7.029785017341747,
          6.169673088030381,
          3.2108994124338137,
          3.1529540947203643,
          3.282302958498709,
          4.843164351588509,
          3.740278552693541,
          3.710790710196511,
          3.2173565821659733,
          2.824109808749026,
          3.5742428726760647,
          6.354388329715717,
          7.490399983441605,
          6.659272799406677,
          3.9278658298633973,
          3.5336853805235497,
          3.3321503750038333,
          4.0649031673822575,
          3.713569075928248,
          2.716570889344446,
          2.1968941225100647,
          2.431704552304661,
          2.830437049469263,
          4.021683641287755
         ],
         "yaxis": "y"
        },
        {
         "hovertemplate": "variable=Menswear_Menswear_Jacket<br>ym_date=%{x}<br>value=%{y}<extra></extra>",
         "legendgroup": "Menswear_Menswear_Jacket",
         "line": {
          "color": "#00cc96",
          "dash": "solid"
         },
         "marker": {
          "symbol": "circle"
         },
         "mode": "lines",
         "name": "Menswear_Menswear_Jacket",
         "orientation": "v",
         "showlegend": true,
         "type": "scatter",
         "x": [
          "2018-09-01T00:00:00",
          "2018-10-01T00:00:00",
          "2018-11-01T00:00:00",
          "2018-12-01T00:00:00",
          "2019-01-01T00:00:00",
          "2019-02-01T00:00:00",
          "2019-03-01T00:00:00",
          "2019-04-01T00:00:00",
          "2019-05-01T00:00:00",
          "2019-06-01T00:00:00",
          "2019-07-01T00:00:00",
          "2019-08-01T00:00:00",
          "2019-09-01T00:00:00",
          "2019-10-01T00:00:00",
          "2019-11-01T00:00:00",
          "2019-12-01T00:00:00",
          "2020-01-01T00:00:00",
          "2020-02-01T00:00:00",
          "2020-03-01T00:00:00",
          "2020-04-01T00:00:00",
          "2020-05-01T00:00:00",
          "2020-06-01T00:00:00",
          "2020-07-01T00:00:00",
          "2020-08-01T00:00:00",
          "2020-09-01T00:00:00"
         ],
         "xaxis": "x",
         "y": [
          3.227710250364307,
          9.322787601215216,
          9.259330378178134,
          5.475218530657971,
          4.497585047695902,
          3.9901734442722816,
          3.563254780299162,
          3.6171355673755192,
          4.333505495823871,
          2.3719527116084618,
          1.8073040552062243,
          1.7875439371313129,
          6.041836634044418,
          6.33942827938772,
          6.372367280198639,
          4.132195189921157,
          3.225535652652574,
          2.5964286376629477,
          2.6247476440900743,
          3.240454213557968,
          2.395577869389886,
          1.995164679412599,
          2.3473100062185277,
          2.2375871911107037,
          3.1978649225244173
         ],
         "yaxis": "y"
        },
        {
         "hovertemplate": "variable=Ladieswear_Ladieswear_Sweater<br>ym_date=%{x}<br>value=%{y}<extra></extra>",
         "legendgroup": "Ladieswear_Ladieswear_Sweater",
         "line": {
          "color": "#ab63fa",
          "dash": "solid"
         },
         "marker": {
          "symbol": "circle"
         },
         "mode": "lines",
         "name": "Ladieswear_Ladieswear_Sweater",
         "orientation": "v",
         "showlegend": true,
         "type": "scatter",
         "x": [
          "2018-09-01T00:00:00",
          "2018-10-01T00:00:00",
          "2018-11-01T00:00:00",
          "2018-12-01T00:00:00",
          "2019-01-01T00:00:00",
          "2019-02-01T00:00:00",
          "2019-03-01T00:00:00",
          "2019-04-01T00:00:00",
          "2019-05-01T00:00:00",
          "2019-06-01T00:00:00",
          "2019-07-01T00:00:00",
          "2019-08-01T00:00:00",
          "2019-09-01T00:00:00",
          "2019-10-01T00:00:00",
          "2019-11-01T00:00:00",
          "2019-12-01T00:00:00",
          "2020-01-01T00:00:00",
          "2020-02-01T00:00:00",
          "2020-03-01T00:00:00",
          "2020-04-01T00:00:00",
          "2020-05-01T00:00:00",
          "2020-06-01T00:00:00",
          "2020-07-01T00:00:00",
          "2020-08-01T00:00:00",
          "2020-09-01T00:00:00"
         ],
         "xaxis": "x",
         "y": [
          3.880926197836111,
          9.228663846555929,
          9.223073173226503,
          6.608242217662302,
          6.072422980213544,
          3.3903074332046903,
          2.566066864754861,
          1.1300998575816763,
          1.0370521379698816,
          0.854016304064815,
          1.0072248377395177,
          2.6900973721672146,
          7.849897718755633,
          8.906893414977896,
          9.574057160344555,
          6.134077910448852,
          4.368095792768199,
          2.964171163357902,
          2.3607041812281415,
          1.0027707868770994,
          0.8810798666783035,
          0.6989159149588564,
          0.8335071071352167,
          2.2575837541881074,
          4.480052005304188
         ],
         "yaxis": "y"
        },
        {
         "hovertemplate": "variable=Divided_Divided_Sweater<br>ym_date=%{x}<br>value=%{y}<extra></extra>",
         "legendgroup": "Divided_Divided_Sweater",
         "line": {
          "color": "#FFA15A",
          "dash": "solid"
         },
         "marker": {
          "symbol": "circle"
         },
         "mode": "lines",
         "name": "Divided_Divided_Sweater",
         "orientation": "v",
         "showlegend": true,
         "type": "scatter",
         "x": [
          "2018-09-01T00:00:00",
          "2018-10-01T00:00:00",
          "2018-11-01T00:00:00",
          "2018-12-01T00:00:00",
          "2019-01-01T00:00:00",
          "2019-02-01T00:00:00",
          "2019-03-01T00:00:00",
          "2019-04-01T00:00:00",
          "2019-05-01T00:00:00",
          "2019-06-01T00:00:00",
          "2019-07-01T00:00:00",
          "2019-08-01T00:00:00",
          "2019-09-01T00:00:00",
          "2019-10-01T00:00:00",
          "2019-11-01T00:00:00",
          "2019-12-01T00:00:00",
          "2020-01-01T00:00:00",
          "2020-02-01T00:00:00",
          "2020-03-01T00:00:00",
          "2020-04-01T00:00:00",
          "2020-05-01T00:00:00",
          "2020-06-01T00:00:00",
          "2020-07-01T00:00:00",
          "2020-08-01T00:00:00",
          "2020-09-01T00:00:00"
         ],
         "xaxis": "x",
         "y": [
          3.9580282645580973,
          9.65723157732371,
          8.681679425854941,
          6.061697640992406,
          5.673755513740931,
          3.8113282853017503,
          3.4725326610261926,
          1.7931098746747802,
          1.3798621263022568,
          0.9592282869792447,
          1.3358923310261621,
          3.1140407942159976,
          7.814953719558075,
          8.093331917691476,
          7.342367665103325,
          5.276645468861811,
          4.3161120091844865,
          3.382980016128498,
          2.683492347555624,
          1.1855110692146582,
          0.8495774145388055,
          0.7821155335599175,
          1.1809971764900349,
          2.998993298613286,
          4.194535581503537
         ],
         "yaxis": "y"
        },
        {
         "hovertemplate": "variable=Menswear_Menswear_Sweater<br>ym_date=%{x}<br>value=%{y}<extra></extra>",
         "legendgroup": "Menswear_Menswear_Sweater",
         "line": {
          "color": "#19d3f3",
          "dash": "solid"
         },
         "marker": {
          "symbol": "circle"
         },
         "mode": "lines",
         "name": "Menswear_Menswear_Sweater",
         "orientation": "v",
         "showlegend": true,
         "type": "scatter",
         "x": [
          "2018-09-01T00:00:00",
          "2018-10-01T00:00:00",
          "2018-11-01T00:00:00",
          "2018-12-01T00:00:00",
          "2019-01-01T00:00:00",
          "2019-02-01T00:00:00",
          "2019-03-01T00:00:00",
          "2019-04-01T00:00:00",
          "2019-05-01T00:00:00",
          "2019-06-01T00:00:00",
          "2019-07-01T00:00:00",
          "2019-08-01T00:00:00",
          "2019-09-01T00:00:00",
          "2019-10-01T00:00:00",
          "2019-11-01T00:00:00",
          "2019-12-01T00:00:00",
          "2020-01-01T00:00:00",
          "2020-02-01T00:00:00",
          "2020-03-01T00:00:00",
          "2020-04-01T00:00:00",
          "2020-05-01T00:00:00",
          "2020-06-01T00:00:00",
          "2020-07-01T00:00:00",
          "2020-08-01T00:00:00",
          "2020-09-01T00:00:00"
         ],
         "xaxis": "x",
         "y": [
          2.918073329516705,
          8.36252230142608,
          9.839398098560133,
          9.266489673752131,
          5.401906702103411,
          3.903108267026266,
          2.9040415357164395,
          1.4439918402194192,
          1.4022303698179803,
          0.8116321938708346,
          0.9664614519961626,
          1.7956980362995392,
          6.000443423764716,
          7.970950144752929,
          10.464908803508264,
          9.050346322195042,
          4.072534205980858,
          3.036345609734415,
          1.7896901489200379,
          0.8873772679366885,
          0.8593739349525807,
          0.8826297062841019,
          0.9876007799257127,
          1.6391088412527604,
          3.343137010486789
         ],
         "yaxis": "y"
        }
       ],
       "layout": {
        "legend": {
         "title": {
          "text": "variable"
         },
         "tracegroupgap": 0
        },
        "template": {
         "data": {
          "bar": [
           {
            "error_x": {
             "color": "#2a3f5f"
            },
            "error_y": {
             "color": "#2a3f5f"
            },
            "marker": {
             "line": {
              "color": "#E5ECF6",
              "width": 0.5
             },
             "pattern": {
              "fillmode": "overlay",
              "size": 10,
              "solidity": 0.2
             }
            },
            "type": "bar"
           }
          ],
          "barpolar": [
           {
            "marker": {
             "line": {
              "color": "#E5ECF6",
              "width": 0.5
             },
             "pattern": {
              "fillmode": "overlay",
              "size": 10,
              "solidity": 0.2
             }
            },
            "type": "barpolar"
           }
          ],
          "carpet": [
           {
            "aaxis": {
             "endlinecolor": "#2a3f5f",
             "gridcolor": "white",
             "linecolor": "white",
             "minorgridcolor": "white",
             "startlinecolor": "#2a3f5f"
            },
            "baxis": {
             "endlinecolor": "#2a3f5f",
             "gridcolor": "white",
             "linecolor": "white",
             "minorgridcolor": "white",
             "startlinecolor": "#2a3f5f"
            },
            "type": "carpet"
           }
          ],
          "choropleth": [
           {
            "colorbar": {
             "outlinewidth": 0,
             "ticks": ""
            },
            "type": "choropleth"
           }
          ],
          "contour": [
           {
            "colorbar": {
             "outlinewidth": 0,
             "ticks": ""
            },
            "colorscale": [
             [
              0,
              "#0d0887"
             ],
             [
              0.1111111111111111,
              "#46039f"
             ],
             [
              0.2222222222222222,
              "#7201a8"
             ],
             [
              0.3333333333333333,
              "#9c179e"
             ],
             [
              0.4444444444444444,
              "#bd3786"
             ],
             [
              0.5555555555555556,
              "#d8576b"
             ],
             [
              0.6666666666666666,
              "#ed7953"
             ],
             [
              0.7777777777777778,
              "#fb9f3a"
             ],
             [
              0.8888888888888888,
              "#fdca26"
             ],
             [
              1,
              "#f0f921"
             ]
            ],
            "type": "contour"
           }
          ],
          "contourcarpet": [
           {
            "colorbar": {
             "outlinewidth": 0,
             "ticks": ""
            },
            "type": "contourcarpet"
           }
          ],
          "heatmap": [
           {
            "colorbar": {
             "outlinewidth": 0,
             "ticks": ""
            },
            "colorscale": [
             [
              0,
              "#0d0887"
             ],
             [
              0.1111111111111111,
              "#46039f"
             ],
             [
              0.2222222222222222,
              "#7201a8"
             ],
             [
              0.3333333333333333,
              "#9c179e"
             ],
             [
              0.4444444444444444,
              "#bd3786"
             ],
             [
              0.5555555555555556,
              "#d8576b"
             ],
             [
              0.6666666666666666,
              "#ed7953"
             ],
             [
              0.7777777777777778,
              "#fb9f3a"
             ],
             [
              0.8888888888888888,
              "#fdca26"
             ],
             [
              1,
              "#f0f921"
             ]
            ],
            "type": "heatmap"
           }
          ],
          "heatmapgl": [
           {
            "colorbar": {
             "outlinewidth": 0,
             "ticks": ""
            },
            "colorscale": [
             [
              0,
              "#0d0887"
             ],
             [
              0.1111111111111111,
              "#46039f"
             ],
             [
              0.2222222222222222,
              "#7201a8"
             ],
             [
              0.3333333333333333,
              "#9c179e"
             ],
             [
              0.4444444444444444,
              "#bd3786"
             ],
             [
              0.5555555555555556,
              "#d8576b"
             ],
             [
              0.6666666666666666,
              "#ed7953"
             ],
             [
              0.7777777777777778,
              "#fb9f3a"
             ],
             [
              0.8888888888888888,
              "#fdca26"
             ],
             [
              1,
              "#f0f921"
             ]
            ],
            "type": "heatmapgl"
           }
          ],
          "histogram": [
           {
            "marker": {
             "pattern": {
              "fillmode": "overlay",
              "size": 10,
              "solidity": 0.2
             }
            },
            "type": "histogram"
           }
          ],
          "histogram2d": [
           {
            "colorbar": {
             "outlinewidth": 0,
             "ticks": ""
            },
            "colorscale": [
             [
              0,
              "#0d0887"
             ],
             [
              0.1111111111111111,
              "#46039f"
             ],
             [
              0.2222222222222222,
              "#7201a8"
             ],
             [
              0.3333333333333333,
              "#9c179e"
             ],
             [
              0.4444444444444444,
              "#bd3786"
             ],
             [
              0.5555555555555556,
              "#d8576b"
             ],
             [
              0.6666666666666666,
              "#ed7953"
             ],
             [
              0.7777777777777778,
              "#fb9f3a"
             ],
             [
              0.8888888888888888,
              "#fdca26"
             ],
             [
              1,
              "#f0f921"
             ]
            ],
            "type": "histogram2d"
           }
          ],
          "histogram2dcontour": [
           {
            "colorbar": {
             "outlinewidth": 0,
             "ticks": ""
            },
            "colorscale": [
             [
              0,
              "#0d0887"
             ],
             [
              0.1111111111111111,
              "#46039f"
             ],
             [
              0.2222222222222222,
              "#7201a8"
             ],
             [
              0.3333333333333333,
              "#9c179e"
             ],
             [
              0.4444444444444444,
              "#bd3786"
             ],
             [
              0.5555555555555556,
              "#d8576b"
             ],
             [
              0.6666666666666666,
              "#ed7953"
             ],
             [
              0.7777777777777778,
              "#fb9f3a"
             ],
             [
              0.8888888888888888,
              "#fdca26"
             ],
             [
              1,
              "#f0f921"
             ]
            ],
            "type": "histogram2dcontour"
           }
          ],
          "mesh3d": [
           {
            "colorbar": {
             "outlinewidth": 0,
             "ticks": ""
            },
            "type": "mesh3d"
           }
          ],
          "parcoords": [
           {
            "line": {
             "colorbar": {
              "outlinewidth": 0,
              "ticks": ""
             }
            },
            "type": "parcoords"
           }
          ],
          "pie": [
           {
            "automargin": true,
            "type": "pie"
           }
          ],
          "scatter": [
           {
            "marker": {
             "colorbar": {
              "outlinewidth": 0,
              "ticks": ""
             }
            },
            "type": "scatter"
           }
          ],
          "scatter3d": [
           {
            "line": {
             "colorbar": {
              "outlinewidth": 0,
              "ticks": ""
             }
            },
            "marker": {
             "colorbar": {
              "outlinewidth": 0,
              "ticks": ""
             }
            },
            "type": "scatter3d"
           }
          ],
          "scattercarpet": [
           {
            "marker": {
             "colorbar": {
              "outlinewidth": 0,
              "ticks": ""
             }
            },
            "type": "scattercarpet"
           }
          ],
          "scattergeo": [
           {
            "marker": {
             "colorbar": {
              "outlinewidth": 0,
              "ticks": ""
             }
            },
            "type": "scattergeo"
           }
          ],
          "scattergl": [
           {
            "marker": {
             "colorbar": {
              "outlinewidth": 0,
              "ticks": ""
             }
            },
            "type": "scattergl"
           }
          ],
          "scattermapbox": [
           {
            "marker": {
             "colorbar": {
              "outlinewidth": 0,
              "ticks": ""
             }
            },
            "type": "scattermapbox"
           }
          ],
          "scatterpolar": [
           {
            "marker": {
             "colorbar": {
              "outlinewidth": 0,
              "ticks": ""
             }
            },
            "type": "scatterpolar"
           }
          ],
          "scatterpolargl": [
           {
            "marker": {
             "colorbar": {
              "outlinewidth": 0,
              "ticks": ""
             }
            },
            "type": "scatterpolargl"
           }
          ],
          "scatterternary": [
           {
            "marker": {
             "colorbar": {
              "outlinewidth": 0,
              "ticks": ""
             }
            },
            "type": "scatterternary"
           }
          ],
          "surface": [
           {
            "colorbar": {
             "outlinewidth": 0,
             "ticks": ""
            },
            "colorscale": [
             [
              0,
              "#0d0887"
             ],
             [
              0.1111111111111111,
              "#46039f"
             ],
             [
              0.2222222222222222,
              "#7201a8"
             ],
             [
              0.3333333333333333,
              "#9c179e"
             ],
             [
              0.4444444444444444,
              "#bd3786"
             ],
             [
              0.5555555555555556,
              "#d8576b"
             ],
             [
              0.6666666666666666,
              "#ed7953"
             ],
             [
              0.7777777777777778,
              "#fb9f3a"
             ],
             [
              0.8888888888888888,
              "#fdca26"
             ],
             [
              1,
              "#f0f921"
             ]
            ],
            "type": "surface"
           }
          ],
          "table": [
           {
            "cells": {
             "fill": {
              "color": "#EBF0F8"
             },
             "line": {
              "color": "white"
             }
            },
            "header": {
             "fill": {
              "color": "#C8D4E3"
             },
             "line": {
              "color": "white"
             }
            },
            "type": "table"
           }
          ]
         },
         "layout": {
          "annotationdefaults": {
           "arrowcolor": "#2a3f5f",
           "arrowhead": 0,
           "arrowwidth": 1
          },
          "autotypenumbers": "strict",
          "coloraxis": {
           "colorbar": {
            "outlinewidth": 0,
            "ticks": ""
           }
          },
          "colorscale": {
           "diverging": [
            [
             0,
             "#8e0152"
            ],
            [
             0.1,
             "#c51b7d"
            ],
            [
             0.2,
             "#de77ae"
            ],
            [
             0.3,
             "#f1b6da"
            ],
            [
             0.4,
             "#fde0ef"
            ],
            [
             0.5,
             "#f7f7f7"
            ],
            [
             0.6,
             "#e6f5d0"
            ],
            [
             0.7,
             "#b8e186"
            ],
            [
             0.8,
             "#7fbc41"
            ],
            [
             0.9,
             "#4d9221"
            ],
            [
             1,
             "#276419"
            ]
           ],
           "sequential": [
            [
             0,
             "#0d0887"
            ],
            [
             0.1111111111111111,
             "#46039f"
            ],
            [
             0.2222222222222222,
             "#7201a8"
            ],
            [
             0.3333333333333333,
             "#9c179e"
            ],
            [
             0.4444444444444444,
             "#bd3786"
            ],
            [
             0.5555555555555556,
             "#d8576b"
            ],
            [
             0.6666666666666666,
             "#ed7953"
            ],
            [
             0.7777777777777778,
             "#fb9f3a"
            ],
            [
             0.8888888888888888,
             "#fdca26"
            ],
            [
             1,
             "#f0f921"
            ]
           ],
           "sequentialminus": [
            [
             0,
             "#0d0887"
            ],
            [
             0.1111111111111111,
             "#46039f"
            ],
            [
             0.2222222222222222,
             "#7201a8"
            ],
            [
             0.3333333333333333,
             "#9c179e"
            ],
            [
             0.4444444444444444,
             "#bd3786"
            ],
            [
             0.5555555555555556,
             "#d8576b"
            ],
            [
             0.6666666666666666,
             "#ed7953"
            ],
            [
             0.7777777777777778,
             "#fb9f3a"
            ],
            [
             0.8888888888888888,
             "#fdca26"
            ],
            [
             1,
             "#f0f921"
            ]
           ]
          },
          "colorway": [
           "#636efa",
           "#EF553B",
           "#00cc96",
           "#ab63fa",
           "#FFA15A",
           "#19d3f3",
           "#FF6692",
           "#B6E880",
           "#FF97FF",
           "#FECB52"
          ],
          "font": {
           "color": "#2a3f5f"
          },
          "geo": {
           "bgcolor": "white",
           "lakecolor": "white",
           "landcolor": "#E5ECF6",
           "showlakes": true,
           "showland": true,
           "subunitcolor": "white"
          },
          "hoverlabel": {
           "align": "left"
          },
          "hovermode": "closest",
          "mapbox": {
           "style": "light"
          },
          "paper_bgcolor": "white",
          "plot_bgcolor": "#E5ECF6",
          "polar": {
           "angularaxis": {
            "gridcolor": "white",
            "linecolor": "white",
            "ticks": ""
           },
           "bgcolor": "#E5ECF6",
           "radialaxis": {
            "gridcolor": "white",
            "linecolor": "white",
            "ticks": ""
           }
          },
          "scene": {
           "xaxis": {
            "backgroundcolor": "#E5ECF6",
            "gridcolor": "white",
            "gridwidth": 2,
            "linecolor": "white",
            "showbackground": true,
            "ticks": "",
            "zerolinecolor": "white"
           },
           "yaxis": {
            "backgroundcolor": "#E5ECF6",
            "gridcolor": "white",
            "gridwidth": 2,
            "linecolor": "white",
            "showbackground": true,
            "ticks": "",
            "zerolinecolor": "white"
           },
           "zaxis": {
            "backgroundcolor": "#E5ECF6",
            "gridcolor": "white",
            "gridwidth": 2,
            "linecolor": "white",
            "showbackground": true,
            "ticks": "",
            "zerolinecolor": "white"
           }
          },
          "shapedefaults": {
           "line": {
            "color": "#2a3f5f"
           }
          },
          "ternary": {
           "aaxis": {
            "gridcolor": "white",
            "linecolor": "white",
            "ticks": ""
           },
           "baxis": {
            "gridcolor": "white",
            "linecolor": "white",
            "ticks": ""
           },
           "bgcolor": "#E5ECF6",
           "caxis": {
            "gridcolor": "white",
            "linecolor": "white",
            "ticks": ""
           }
          },
          "title": {
           "x": 0.05
          },
          "xaxis": {
           "automargin": true,
           "gridcolor": "white",
           "linecolor": "white",
           "ticks": "",
           "title": {
            "standoff": 15
           },
           "zerolinecolor": "white",
           "zerolinewidth": 2
          },
          "yaxis": {
           "automargin": true,
           "gridcolor": "white",
           "linecolor": "white",
           "ticks": "",
           "title": {
            "standoff": 15
           },
           "zerolinecolor": "white",
           "zerolinewidth": 2
          }
         }
        },
        "title": {
         "text": "MothlySales / TTL sales"
        },
        "xaxis": {
         "anchor": "y",
         "domain": [
          0,
          1
         ],
         "title": {
          "text": "ym_date"
         }
        },
        "yaxis": {
         "anchor": "x",
         "domain": [
          0,
          1
         ],
         "title": {
          "text": "value"
         }
        }
       }
      }
     },
     "metadata": {},
     "output_type": "display_data"
    }
   ],
   "source": [
    "\n",
    "dfgrp2 = pd.pivot_table(dfgrp2, index='ym_date', columns='idxgrp_idx_prdtyp', \n",
    "                        values='monthsales/ttl-sales').reset_index().fillna(0)\n",
    "display(dfgrp2.head())\n",
    "\n",
    "fig = px.line(dfgrp2, x='ym_date', y=['Ladieswear_Ladieswear_Jacket',\n",
    "                                        'Divided_Divided_Jacket',\n",
    "                                        'Menswear_Menswear_Jacket',\n",
    "                                        'Ladieswear_Ladieswear_Sweater',\n",
    "                                        'Divided_Divided_Sweater',\n",
    "                                        'Menswear_Menswear_Sweater'], title=\"MothlySales / TTL sales\")\n",
    "fig.show()"
   ]
  },
  {
   "cell_type": "code",
   "execution_count": 16,
   "metadata": {},
   "outputs": [
    {
     "data": {
      "text/html": [
       "<div>\n",
       "<style scoped>\n",
       "    .dataframe tbody tr th:only-of-type {\n",
       "        vertical-align: middle;\n",
       "    }\n",
       "\n",
       "    .dataframe tbody tr th {\n",
       "        vertical-align: top;\n",
       "    }\n",
       "\n",
       "    .dataframe thead th {\n",
       "        text-align: right;\n",
       "    }\n",
       "</style>\n",
       "<table border=\"1\" class=\"dataframe\">\n",
       "  <thead>\n",
       "    <tr style=\"text-align: right;\">\n",
       "      <th>idxgrp_idx_prdtyp</th>\n",
       "      <th>idxgrp_idx_prdtyp</th>\n",
       "      <th>Ladieswear_Ladieswear_Jacket</th>\n",
       "    </tr>\n",
       "  </thead>\n",
       "  <tbody>\n",
       "    <tr>\n",
       "      <th>380</th>\n",
       "      <td>Ladieswear_Lingeries/Tights_Bikini top</td>\n",
       "      <td>-0.787629</td>\n",
       "    </tr>\n",
       "    <tr>\n",
       "      <th>397</th>\n",
       "      <td>Ladieswear_Lingeries/Tights_Swimwear bottom</td>\n",
       "      <td>-0.777839</td>\n",
       "    </tr>\n",
       "    <tr>\n",
       "      <th>396</th>\n",
       "      <td>Ladieswear_Lingeries/Tights_Swimsuit</td>\n",
       "      <td>-0.746620</td>\n",
       "    </tr>\n",
       "    <tr>\n",
       "      <th>242</th>\n",
       "      <td>Divided_Divided_Shorts</td>\n",
       "      <td>-0.725224</td>\n",
       "    </tr>\n",
       "    <tr>\n",
       "      <th>375</th>\n",
       "      <td>Ladieswear_Ladieswear_Vest top</td>\n",
       "      <td>-0.719227</td>\n",
       "    </tr>\n",
       "    <tr>\n",
       "      <th>312</th>\n",
       "      <td>Ladieswear_Ladies Accessories_Wedge</td>\n",
       "      <td>-0.717228</td>\n",
       "    </tr>\n",
       "    <tr>\n",
       "      <th>487</th>\n",
       "      <td>Sport_Sport_Shorts</td>\n",
       "      <td>-0.713245</td>\n",
       "    </tr>\n",
       "    <tr>\n",
       "      <th>358</th>\n",
       "      <td>Ladieswear_Ladieswear_Shorts</td>\n",
       "      <td>-0.712949</td>\n",
       "    </tr>\n",
       "    <tr>\n",
       "      <th>306</th>\n",
       "      <td>Ladieswear_Ladies Accessories_Sunglasses</td>\n",
       "      <td>-0.712419</td>\n",
       "    </tr>\n",
       "    <tr>\n",
       "      <th>253</th>\n",
       "      <td>Divided_Divided_T-shirt</td>\n",
       "      <td>-0.710662</td>\n",
       "    </tr>\n",
       "  </tbody>\n",
       "</table>\n",
       "</div>"
      ],
      "text/plain": [
       "idxgrp_idx_prdtyp                            idxgrp_idx_prdtyp  \\\n",
       "380                     Ladieswear_Lingeries/Tights_Bikini top   \n",
       "397                Ladieswear_Lingeries/Tights_Swimwear bottom   \n",
       "396                       Ladieswear_Lingeries/Tights_Swimsuit   \n",
       "242                                     Divided_Divided_Shorts   \n",
       "375                             Ladieswear_Ladieswear_Vest top   \n",
       "312                        Ladieswear_Ladies Accessories_Wedge   \n",
       "487                                         Sport_Sport_Shorts   \n",
       "358                               Ladieswear_Ladieswear_Shorts   \n",
       "306                   Ladieswear_Ladies Accessories_Sunglasses   \n",
       "253                                    Divided_Divided_T-shirt   \n",
       "\n",
       "idxgrp_idx_prdtyp  Ladieswear_Ladieswear_Jacket  \n",
       "380                                   -0.787629  \n",
       "397                                   -0.777839  \n",
       "396                                   -0.746620  \n",
       "242                                   -0.725224  \n",
       "375                                   -0.719227  \n",
       "312                                   -0.717228  \n",
       "487                                   -0.713245  \n",
       "358                                   -0.712949  \n",
       "306                                   -0.712419  \n",
       "253                                   -0.710662  "
      ]
     },
     "metadata": {},
     "output_type": "display_data"
    },
    {
     "data": {
      "application/vnd.plotly.v1+json": {
       "config": {
        "plotlyServerURL": "https://plot.ly"
       },
       "data": [
        {
         "hovertemplate": "variable=Ladieswear_Ladieswear_Shorts<br>ym_date=%{x}<br>value=%{y}<extra></extra>",
         "legendgroup": "Ladieswear_Ladieswear_Shorts",
         "line": {
          "color": "#636efa",
          "dash": "solid"
         },
         "marker": {
          "symbol": "circle"
         },
         "mode": "lines",
         "name": "Ladieswear_Ladieswear_Shorts",
         "orientation": "v",
         "showlegend": true,
         "type": "scatter",
         "x": [
          "2018-09-01T00:00:00",
          "2018-10-01T00:00:00",
          "2018-11-01T00:00:00",
          "2018-12-01T00:00:00",
          "2019-01-01T00:00:00",
          "2019-02-01T00:00:00",
          "2019-03-01T00:00:00",
          "2019-04-01T00:00:00",
          "2019-05-01T00:00:00",
          "2019-06-01T00:00:00",
          "2019-07-01T00:00:00",
          "2019-08-01T00:00:00",
          "2019-09-01T00:00:00",
          "2019-10-01T00:00:00",
          "2019-11-01T00:00:00",
          "2019-12-01T00:00:00",
          "2020-01-01T00:00:00",
          "2020-02-01T00:00:00",
          "2020-03-01T00:00:00",
          "2020-04-01T00:00:00",
          "2020-05-01T00:00:00",
          "2020-06-01T00:00:00",
          "2020-07-01T00:00:00",
          "2020-08-01T00:00:00",
          "2020-09-01T00:00:00"
         ],
         "xaxis": "x",
         "y": [
          0.3384283391679916,
          1.0109819248488825,
          0.5624522397740527,
          0.5729182363165229,
          0.8491653237518495,
          0.8771914287291291,
          2.0779222876574206,
          7.349456941632117,
          11.608145952359191,
          16.499884491135724,
          12.756493430633581,
          3.8621064060520607,
          0.9989022685607527,
          0.5910709316635805,
          0.48094614275801617,
          0.5078456814076154,
          0.7444259126092413,
          0.8583445601420105,
          0.9649125251852695,
          6.164809282218879,
          8.323215291670106,
          11.166320964920082,
          6.246026248917292,
          4.205229856909405,
          0.382803330979222
         ],
         "yaxis": "y"
        },
        {
         "hovertemplate": "variable=Divided_Divided_Shorts<br>ym_date=%{x}<br>value=%{y}<extra></extra>",
         "legendgroup": "Divided_Divided_Shorts",
         "line": {
          "color": "#EF553B",
          "dash": "solid"
         },
         "marker": {
          "symbol": "circle"
         },
         "mode": "lines",
         "name": "Divided_Divided_Shorts",
         "orientation": "v",
         "showlegend": true,
         "type": "scatter",
         "x": [
          "2018-09-01T00:00:00",
          "2018-10-01T00:00:00",
          "2018-11-01T00:00:00",
          "2018-12-01T00:00:00",
          "2019-01-01T00:00:00",
          "2019-02-01T00:00:00",
          "2019-03-01T00:00:00",
          "2019-04-01T00:00:00",
          "2019-05-01T00:00:00",
          "2019-06-01T00:00:00",
          "2019-07-01T00:00:00",
          "2019-08-01T00:00:00",
          "2019-09-01T00:00:00",
          "2019-10-01T00:00:00",
          "2019-11-01T00:00:00",
          "2019-12-01T00:00:00",
          "2020-01-01T00:00:00",
          "2020-02-01T00:00:00",
          "2020-03-01T00:00:00",
          "2020-04-01T00:00:00",
          "2020-05-01T00:00:00",
          "2020-06-01T00:00:00",
          "2020-07-01T00:00:00",
          "2020-08-01T00:00:00",
          "2020-09-01T00:00:00"
         ],
         "xaxis": "x",
         "y": [
          0.26733678130260613,
          0.6966366251368244,
          0.5627169968357336,
          0.6379820414885219,
          1.2808139657143593,
          1.3624141835274424,
          2.4236132401134656,
          7.5622842482847785,
          8.727998167182612,
          14.209151469740256,
          10.493725146011128,
          3.1503784612966697,
          0.925358068989637,
          0.5303549312859496,
          0.4257913709274874,
          0.2943664107436746,
          0.6721769244305928,
          0.9340728057932969,
          2.1255701268473435,
          11.195873504610269,
          10.255288441850661,
          12.284865864550813,
          5.5953347271304565,
          2.9869522438178375,
          0.39894325238758754
         ],
         "yaxis": "y"
        },
        {
         "hovertemplate": "variable=Menswear_Menswear_Shorts<br>ym_date=%{x}<br>value=%{y}<extra></extra>",
         "legendgroup": "Menswear_Menswear_Shorts",
         "line": {
          "color": "#00cc96",
          "dash": "solid"
         },
         "marker": {
          "symbol": "circle"
         },
         "mode": "lines",
         "name": "Menswear_Menswear_Shorts",
         "orientation": "v",
         "showlegend": true,
         "type": "scatter",
         "x": [
          "2018-09-01T00:00:00",
          "2018-10-01T00:00:00",
          "2018-11-01T00:00:00",
          "2018-12-01T00:00:00",
          "2019-01-01T00:00:00",
          "2019-02-01T00:00:00",
          "2019-03-01T00:00:00",
          "2019-04-01T00:00:00",
          "2019-05-01T00:00:00",
          "2019-06-01T00:00:00",
          "2019-07-01T00:00:00",
          "2019-08-01T00:00:00",
          "2019-09-01T00:00:00",
          "2019-10-01T00:00:00",
          "2019-11-01T00:00:00",
          "2019-12-01T00:00:00",
          "2020-01-01T00:00:00",
          "2020-02-01T00:00:00",
          "2020-03-01T00:00:00",
          "2020-04-01T00:00:00",
          "2020-05-01T00:00:00",
          "2020-06-01T00:00:00",
          "2020-07-01T00:00:00",
          "2020-08-01T00:00:00",
          "2020-09-01T00:00:00"
         ],
         "xaxis": "x",
         "y": [
          0.2764631408021989,
          0.7293462857834913,
          0.37214215199417106,
          0.47939030083869644,
          0.6390406624349908,
          0.6522031263959127,
          1.6198194466924414,
          6.763319740686846,
          8.793240820104211,
          17.25178966522766,
          14.723629374918929,
          4.578233910394689,
          1.0802425294956932,
          0.5299608892125172,
          0.4600507771133671,
          0.4056160220034156,
          0.5425065816992314,
          0.41192391208053475,
          0.7289865024235381,
          7.689752547546541,
          8.992313158426914,
          12.976255045844809,
          5.6997767661064245,
          3.37270733894508,
          0.23128930282769156
         ],
         "yaxis": "y"
        },
        {
         "hovertemplate": "variable=Ladieswear_Lingeries/Tights_Swimwear bottom<br>ym_date=%{x}<br>value=%{y}<extra></extra>",
         "legendgroup": "Ladieswear_Lingeries/Tights_Swimwear bottom",
         "line": {
          "color": "#ab63fa",
          "dash": "solid"
         },
         "marker": {
          "symbol": "circle"
         },
         "mode": "lines",
         "name": "Ladieswear_Lingeries/Tights_Swimwear bottom",
         "orientation": "v",
         "showlegend": true,
         "type": "scatter",
         "x": [
          "2018-09-01T00:00:00",
          "2018-10-01T00:00:00",
          "2018-11-01T00:00:00",
          "2018-12-01T00:00:00",
          "2019-01-01T00:00:00",
          "2019-02-01T00:00:00",
          "2019-03-01T00:00:00",
          "2019-04-01T00:00:00",
          "2019-05-01T00:00:00",
          "2019-06-01T00:00:00",
          "2019-07-01T00:00:00",
          "2019-08-01T00:00:00",
          "2019-09-01T00:00:00",
          "2019-10-01T00:00:00",
          "2019-11-01T00:00:00",
          "2019-12-01T00:00:00",
          "2020-01-01T00:00:00",
          "2020-02-01T00:00:00",
          "2020-03-01T00:00:00",
          "2020-04-01T00:00:00",
          "2020-05-01T00:00:00",
          "2020-06-01T00:00:00",
          "2020-07-01T00:00:00",
          "2020-08-01T00:00:00",
          "2020-09-01T00:00:00"
         ],
         "xaxis": "x",
         "y": [
          0.32004006716765676,
          0.6573472280160338,
          0.427279254232241,
          0.6469570063970735,
          3.0486865567895127,
          2.9360858370943164,
          4.709223574308117,
          7.59597838018389,
          9.677199416801043,
          13.14741964483573,
          9.798230278888544,
          2.680590884895732,
          0.6940264077387144,
          0.43165268693340486,
          0.3147553446083369,
          0.5568549996827551,
          2.136038772434338,
          2.8192444428458687,
          3.007512565487581,
          6.196253278687679,
          8.531897719595275,
          9.783789037213353,
          5.376648094023037,
          4.01531475235755,
          0.4909737687822079
         ],
         "yaxis": "y"
        },
        {
         "hovertemplate": "variable=Ladieswear_Lingeries/Tights_Swimsuit<br>ym_date=%{x}<br>value=%{y}<extra></extra>",
         "legendgroup": "Ladieswear_Lingeries/Tights_Swimsuit",
         "line": {
          "color": "#FFA15A",
          "dash": "solid"
         },
         "marker": {
          "symbol": "circle"
         },
         "mode": "lines",
         "name": "Ladieswear_Lingeries/Tights_Swimsuit",
         "orientation": "v",
         "showlegend": true,
         "type": "scatter",
         "x": [
          "2018-09-01T00:00:00",
          "2018-10-01T00:00:00",
          "2018-11-01T00:00:00",
          "2018-12-01T00:00:00",
          "2019-01-01T00:00:00",
          "2019-02-01T00:00:00",
          "2019-03-01T00:00:00",
          "2019-04-01T00:00:00",
          "2019-05-01T00:00:00",
          "2019-06-01T00:00:00",
          "2019-07-01T00:00:00",
          "2019-08-01T00:00:00",
          "2019-09-01T00:00:00",
          "2019-10-01T00:00:00",
          "2019-11-01T00:00:00",
          "2019-12-01T00:00:00",
          "2020-01-01T00:00:00",
          "2020-02-01T00:00:00",
          "2020-03-01T00:00:00",
          "2020-04-01T00:00:00",
          "2020-05-01T00:00:00",
          "2020-06-01T00:00:00",
          "2020-07-01T00:00:00",
          "2020-08-01T00:00:00",
          "2020-09-01T00:00:00"
         ],
         "xaxis": "x",
         "y": [
          0.6899977754338915,
          1.447181147968278,
          1.000407138888194,
          1.0582416683156572,
          4.35028355886449,
          4.797410174939153,
          6.31033856276272,
          7.919408215142494,
          8.972634834470915,
          12.545388549866383,
          7.056819789337918,
          2.182218357432333,
          0.6434920548916225,
          0.4119217751506888,
          0.29953440515618934,
          0.632072475889013,
          2.6864515964159494,
          4.006498721467986,
          3.1220835735832146,
          5.219410924281383,
          7.025085159825927,
          8.513446266255007,
          4.522271984417702,
          4.011929218300316,
          0.5754720709425722
         ],
         "yaxis": "y"
        },
        {
         "hovertemplate": "variable=Menswear_Menswear_Swimwear bottom<br>ym_date=%{x}<br>value=%{y}<extra></extra>",
         "legendgroup": "Menswear_Menswear_Swimwear bottom",
         "line": {
          "color": "#19d3f3",
          "dash": "solid"
         },
         "marker": {
          "symbol": "circle"
         },
         "mode": "lines",
         "name": "Menswear_Menswear_Swimwear bottom",
         "orientation": "v",
         "showlegend": true,
         "type": "scatter",
         "x": [
          "2018-09-01T00:00:00",
          "2018-10-01T00:00:00",
          "2018-11-01T00:00:00",
          "2018-12-01T00:00:00",
          "2019-01-01T00:00:00",
          "2019-02-01T00:00:00",
          "2019-03-01T00:00:00",
          "2019-04-01T00:00:00",
          "2019-05-01T00:00:00",
          "2019-06-01T00:00:00",
          "2019-07-01T00:00:00",
          "2019-08-01T00:00:00",
          "2019-09-01T00:00:00",
          "2019-10-01T00:00:00",
          "2019-11-01T00:00:00",
          "2019-12-01T00:00:00",
          "2020-01-01T00:00:00",
          "2020-02-01T00:00:00",
          "2020-03-01T00:00:00",
          "2020-04-01T00:00:00",
          "2020-05-01T00:00:00",
          "2020-06-01T00:00:00",
          "2020-07-01T00:00:00",
          "2020-08-01T00:00:00",
          "2020-09-01T00:00:00"
         ],
         "xaxis": "x",
         "y": [
          0.46928153959365904,
          1.1910207880340182,
          1.0007910370728021,
          0.901287591224259,
          1.402525802823831,
          1.7445497458131287,
          2.786884456493618,
          6.625800065927054,
          9.27498628708561,
          15.054197202434139,
          12.820557158009985,
          4.311414704359196,
          1.6906830541648081,
          0.9870234023524488,
          0.9059278751045707,
          0.7482019994370372,
          1.2952958465519404,
          1.6177517999704953,
          1.3386124588120092,
          3.1662495518405076,
          6.264492679076655,
          11.720481556403744,
          7.328036989191198,
          4.872604508167115,
          0.48134190005616506
         ],
         "yaxis": "y"
        }
       ],
       "layout": {
        "legend": {
         "title": {
          "text": "variable"
         },
         "tracegroupgap": 0
        },
        "template": {
         "data": {
          "bar": [
           {
            "error_x": {
             "color": "#2a3f5f"
            },
            "error_y": {
             "color": "#2a3f5f"
            },
            "marker": {
             "line": {
              "color": "#E5ECF6",
              "width": 0.5
             },
             "pattern": {
              "fillmode": "overlay",
              "size": 10,
              "solidity": 0.2
             }
            },
            "type": "bar"
           }
          ],
          "barpolar": [
           {
            "marker": {
             "line": {
              "color": "#E5ECF6",
              "width": 0.5
             },
             "pattern": {
              "fillmode": "overlay",
              "size": 10,
              "solidity": 0.2
             }
            },
            "type": "barpolar"
           }
          ],
          "carpet": [
           {
            "aaxis": {
             "endlinecolor": "#2a3f5f",
             "gridcolor": "white",
             "linecolor": "white",
             "minorgridcolor": "white",
             "startlinecolor": "#2a3f5f"
            },
            "baxis": {
             "endlinecolor": "#2a3f5f",
             "gridcolor": "white",
             "linecolor": "white",
             "minorgridcolor": "white",
             "startlinecolor": "#2a3f5f"
            },
            "type": "carpet"
           }
          ],
          "choropleth": [
           {
            "colorbar": {
             "outlinewidth": 0,
             "ticks": ""
            },
            "type": "choropleth"
           }
          ],
          "contour": [
           {
            "colorbar": {
             "outlinewidth": 0,
             "ticks": ""
            },
            "colorscale": [
             [
              0,
              "#0d0887"
             ],
             [
              0.1111111111111111,
              "#46039f"
             ],
             [
              0.2222222222222222,
              "#7201a8"
             ],
             [
              0.3333333333333333,
              "#9c179e"
             ],
             [
              0.4444444444444444,
              "#bd3786"
             ],
             [
              0.5555555555555556,
              "#d8576b"
             ],
             [
              0.6666666666666666,
              "#ed7953"
             ],
             [
              0.7777777777777778,
              "#fb9f3a"
             ],
             [
              0.8888888888888888,
              "#fdca26"
             ],
             [
              1,
              "#f0f921"
             ]
            ],
            "type": "contour"
           }
          ],
          "contourcarpet": [
           {
            "colorbar": {
             "outlinewidth": 0,
             "ticks": ""
            },
            "type": "contourcarpet"
           }
          ],
          "heatmap": [
           {
            "colorbar": {
             "outlinewidth": 0,
             "ticks": ""
            },
            "colorscale": [
             [
              0,
              "#0d0887"
             ],
             [
              0.1111111111111111,
              "#46039f"
             ],
             [
              0.2222222222222222,
              "#7201a8"
             ],
             [
              0.3333333333333333,
              "#9c179e"
             ],
             [
              0.4444444444444444,
              "#bd3786"
             ],
             [
              0.5555555555555556,
              "#d8576b"
             ],
             [
              0.6666666666666666,
              "#ed7953"
             ],
             [
              0.7777777777777778,
              "#fb9f3a"
             ],
             [
              0.8888888888888888,
              "#fdca26"
             ],
             [
              1,
              "#f0f921"
             ]
            ],
            "type": "heatmap"
           }
          ],
          "heatmapgl": [
           {
            "colorbar": {
             "outlinewidth": 0,
             "ticks": ""
            },
            "colorscale": [
             [
              0,
              "#0d0887"
             ],
             [
              0.1111111111111111,
              "#46039f"
             ],
             [
              0.2222222222222222,
              "#7201a8"
             ],
             [
              0.3333333333333333,
              "#9c179e"
             ],
             [
              0.4444444444444444,
              "#bd3786"
             ],
             [
              0.5555555555555556,
              "#d8576b"
             ],
             [
              0.6666666666666666,
              "#ed7953"
             ],
             [
              0.7777777777777778,
              "#fb9f3a"
             ],
             [
              0.8888888888888888,
              "#fdca26"
             ],
             [
              1,
              "#f0f921"
             ]
            ],
            "type": "heatmapgl"
           }
          ],
          "histogram": [
           {
            "marker": {
             "pattern": {
              "fillmode": "overlay",
              "size": 10,
              "solidity": 0.2
             }
            },
            "type": "histogram"
           }
          ],
          "histogram2d": [
           {
            "colorbar": {
             "outlinewidth": 0,
             "ticks": ""
            },
            "colorscale": [
             [
              0,
              "#0d0887"
             ],
             [
              0.1111111111111111,
              "#46039f"
             ],
             [
              0.2222222222222222,
              "#7201a8"
             ],
             [
              0.3333333333333333,
              "#9c179e"
             ],
             [
              0.4444444444444444,
              "#bd3786"
             ],
             [
              0.5555555555555556,
              "#d8576b"
             ],
             [
              0.6666666666666666,
              "#ed7953"
             ],
             [
              0.7777777777777778,
              "#fb9f3a"
             ],
             [
              0.8888888888888888,
              "#fdca26"
             ],
             [
              1,
              "#f0f921"
             ]
            ],
            "type": "histogram2d"
           }
          ],
          "histogram2dcontour": [
           {
            "colorbar": {
             "outlinewidth": 0,
             "ticks": ""
            },
            "colorscale": [
             [
              0,
              "#0d0887"
             ],
             [
              0.1111111111111111,
              "#46039f"
             ],
             [
              0.2222222222222222,
              "#7201a8"
             ],
             [
              0.3333333333333333,
              "#9c179e"
             ],
             [
              0.4444444444444444,
              "#bd3786"
             ],
             [
              0.5555555555555556,
              "#d8576b"
             ],
             [
              0.6666666666666666,
              "#ed7953"
             ],
             [
              0.7777777777777778,
              "#fb9f3a"
             ],
             [
              0.8888888888888888,
              "#fdca26"
             ],
             [
              1,
              "#f0f921"
             ]
            ],
            "type": "histogram2dcontour"
           }
          ],
          "mesh3d": [
           {
            "colorbar": {
             "outlinewidth": 0,
             "ticks": ""
            },
            "type": "mesh3d"
           }
          ],
          "parcoords": [
           {
            "line": {
             "colorbar": {
              "outlinewidth": 0,
              "ticks": ""
             }
            },
            "type": "parcoords"
           }
          ],
          "pie": [
           {
            "automargin": true,
            "type": "pie"
           }
          ],
          "scatter": [
           {
            "marker": {
             "colorbar": {
              "outlinewidth": 0,
              "ticks": ""
             }
            },
            "type": "scatter"
           }
          ],
          "scatter3d": [
           {
            "line": {
             "colorbar": {
              "outlinewidth": 0,
              "ticks": ""
             }
            },
            "marker": {
             "colorbar": {
              "outlinewidth": 0,
              "ticks": ""
             }
            },
            "type": "scatter3d"
           }
          ],
          "scattercarpet": [
           {
            "marker": {
             "colorbar": {
              "outlinewidth": 0,
              "ticks": ""
             }
            },
            "type": "scattercarpet"
           }
          ],
          "scattergeo": [
           {
            "marker": {
             "colorbar": {
              "outlinewidth": 0,
              "ticks": ""
             }
            },
            "type": "scattergeo"
           }
          ],
          "scattergl": [
           {
            "marker": {
             "colorbar": {
              "outlinewidth": 0,
              "ticks": ""
             }
            },
            "type": "scattergl"
           }
          ],
          "scattermapbox": [
           {
            "marker": {
             "colorbar": {
              "outlinewidth": 0,
              "ticks": ""
             }
            },
            "type": "scattermapbox"
           }
          ],
          "scatterpolar": [
           {
            "marker": {
             "colorbar": {
              "outlinewidth": 0,
              "ticks": ""
             }
            },
            "type": "scatterpolar"
           }
          ],
          "scatterpolargl": [
           {
            "marker": {
             "colorbar": {
              "outlinewidth": 0,
              "ticks": ""
             }
            },
            "type": "scatterpolargl"
           }
          ],
          "scatterternary": [
           {
            "marker": {
             "colorbar": {
              "outlinewidth": 0,
              "ticks": ""
             }
            },
            "type": "scatterternary"
           }
          ],
          "surface": [
           {
            "colorbar": {
             "outlinewidth": 0,
             "ticks": ""
            },
            "colorscale": [
             [
              0,
              "#0d0887"
             ],
             [
              0.1111111111111111,
              "#46039f"
             ],
             [
              0.2222222222222222,
              "#7201a8"
             ],
             [
              0.3333333333333333,
              "#9c179e"
             ],
             [
              0.4444444444444444,
              "#bd3786"
             ],
             [
              0.5555555555555556,
              "#d8576b"
             ],
             [
              0.6666666666666666,
              "#ed7953"
             ],
             [
              0.7777777777777778,
              "#fb9f3a"
             ],
             [
              0.8888888888888888,
              "#fdca26"
             ],
             [
              1,
              "#f0f921"
             ]
            ],
            "type": "surface"
           }
          ],
          "table": [
           {
            "cells": {
             "fill": {
              "color": "#EBF0F8"
             },
             "line": {
              "color": "white"
             }
            },
            "header": {
             "fill": {
              "color": "#C8D4E3"
             },
             "line": {
              "color": "white"
             }
            },
            "type": "table"
           }
          ]
         },
         "layout": {
          "annotationdefaults": {
           "arrowcolor": "#2a3f5f",
           "arrowhead": 0,
           "arrowwidth": 1
          },
          "autotypenumbers": "strict",
          "coloraxis": {
           "colorbar": {
            "outlinewidth": 0,
            "ticks": ""
           }
          },
          "colorscale": {
           "diverging": [
            [
             0,
             "#8e0152"
            ],
            [
             0.1,
             "#c51b7d"
            ],
            [
             0.2,
             "#de77ae"
            ],
            [
             0.3,
             "#f1b6da"
            ],
            [
             0.4,
             "#fde0ef"
            ],
            [
             0.5,
             "#f7f7f7"
            ],
            [
             0.6,
             "#e6f5d0"
            ],
            [
             0.7,
             "#b8e186"
            ],
            [
             0.8,
             "#7fbc41"
            ],
            [
             0.9,
             "#4d9221"
            ],
            [
             1,
             "#276419"
            ]
           ],
           "sequential": [
            [
             0,
             "#0d0887"
            ],
            [
             0.1111111111111111,
             "#46039f"
            ],
            [
             0.2222222222222222,
             "#7201a8"
            ],
            [
             0.3333333333333333,
             "#9c179e"
            ],
            [
             0.4444444444444444,
             "#bd3786"
            ],
            [
             0.5555555555555556,
             "#d8576b"
            ],
            [
             0.6666666666666666,
             "#ed7953"
            ],
            [
             0.7777777777777778,
             "#fb9f3a"
            ],
            [
             0.8888888888888888,
             "#fdca26"
            ],
            [
             1,
             "#f0f921"
            ]
           ],
           "sequentialminus": [
            [
             0,
             "#0d0887"
            ],
            [
             0.1111111111111111,
             "#46039f"
            ],
            [
             0.2222222222222222,
             "#7201a8"
            ],
            [
             0.3333333333333333,
             "#9c179e"
            ],
            [
             0.4444444444444444,
             "#bd3786"
            ],
            [
             0.5555555555555556,
             "#d8576b"
            ],
            [
             0.6666666666666666,
             "#ed7953"
            ],
            [
             0.7777777777777778,
             "#fb9f3a"
            ],
            [
             0.8888888888888888,
             "#fdca26"
            ],
            [
             1,
             "#f0f921"
            ]
           ]
          },
          "colorway": [
           "#636efa",
           "#EF553B",
           "#00cc96",
           "#ab63fa",
           "#FFA15A",
           "#19d3f3",
           "#FF6692",
           "#B6E880",
           "#FF97FF",
           "#FECB52"
          ],
          "font": {
           "color": "#2a3f5f"
          },
          "geo": {
           "bgcolor": "white",
           "lakecolor": "white",
           "landcolor": "#E5ECF6",
           "showlakes": true,
           "showland": true,
           "subunitcolor": "white"
          },
          "hoverlabel": {
           "align": "left"
          },
          "hovermode": "closest",
          "mapbox": {
           "style": "light"
          },
          "paper_bgcolor": "white",
          "plot_bgcolor": "#E5ECF6",
          "polar": {
           "angularaxis": {
            "gridcolor": "white",
            "linecolor": "white",
            "ticks": ""
           },
           "bgcolor": "#E5ECF6",
           "radialaxis": {
            "gridcolor": "white",
            "linecolor": "white",
            "ticks": ""
           }
          },
          "scene": {
           "xaxis": {
            "backgroundcolor": "#E5ECF6",
            "gridcolor": "white",
            "gridwidth": 2,
            "linecolor": "white",
            "showbackground": true,
            "ticks": "",
            "zerolinecolor": "white"
           },
           "yaxis": {
            "backgroundcolor": "#E5ECF6",
            "gridcolor": "white",
            "gridwidth": 2,
            "linecolor": "white",
            "showbackground": true,
            "ticks": "",
            "zerolinecolor": "white"
           },
           "zaxis": {
            "backgroundcolor": "#E5ECF6",
            "gridcolor": "white",
            "gridwidth": 2,
            "linecolor": "white",
            "showbackground": true,
            "ticks": "",
            "zerolinecolor": "white"
           }
          },
          "shapedefaults": {
           "line": {
            "color": "#2a3f5f"
           }
          },
          "ternary": {
           "aaxis": {
            "gridcolor": "white",
            "linecolor": "white",
            "ticks": ""
           },
           "baxis": {
            "gridcolor": "white",
            "linecolor": "white",
            "ticks": ""
           },
           "bgcolor": "#E5ECF6",
           "caxis": {
            "gridcolor": "white",
            "linecolor": "white",
            "ticks": ""
           }
          },
          "title": {
           "x": 0.05
          },
          "xaxis": {
           "automargin": true,
           "gridcolor": "white",
           "linecolor": "white",
           "ticks": "",
           "title": {
            "standoff": 15
           },
           "zerolinecolor": "white",
           "zerolinewidth": 2
          },
          "yaxis": {
           "automargin": true,
           "gridcolor": "white",
           "linecolor": "white",
           "ticks": "",
           "title": {
            "standoff": 15
           },
           "zerolinecolor": "white",
           "zerolinewidth": 2
          }
         }
        },
        "title": {
         "text": "MothlySales / TTL sales"
        },
        "xaxis": {
         "anchor": "y",
         "domain": [
          0,
          1
         ],
         "title": {
          "text": "ym_date"
         }
        },
        "yaxis": {
         "anchor": "x",
         "domain": [
          0,
          1
         ],
         "title": {
          "text": "value"
         }
        }
       }
      }
     },
     "metadata": {},
     "output_type": "display_data"
    }
   ],
   "source": [
    "display(dfgrp2.corr()[['Ladieswear_Ladieswear_Jacket']].reset_index().sort_values(by='Ladieswear_Ladieswear_Jacket').head(10))\n",
    "\n",
    "fig = px.line(dfgrp2, x='ym_date', y=['Ladieswear_Ladieswear_Shorts',\n",
    "                                        'Divided_Divided_Shorts',\n",
    "                                        'Menswear_Menswear_Shorts',\n",
    "                                        'Ladieswear_Lingeries/Tights_Swimwear bottom',\n",
    "                                        'Ladieswear_Lingeries/Tights_Swimsuit',\n",
    "                                        'Menswear_Menswear_Swimwear bottom'], title=\"MothlySales / TTL sales\")\n",
    "fig.show()"
   ]
  },
  {
   "cell_type": "code",
   "execution_count": 17,
   "metadata": {},
   "outputs": [
    {
     "data": {
      "application/vnd.plotly.v1+json": {
       "config": {
        "plotlyServerURL": "https://plot.ly"
       },
       "data": [
        {
         "hovertemplate": "<b>%{hovertext}</b><br><br>PC1=%{x}<br>PC2=%{y}<br>autumn_sales_indicator=%{marker.color}<extra></extra>",
         "hovertext": [
          "Baby/Children_Baby Sizes 50-98_Accessories set",
          "Baby/Children_Baby Sizes 50-98_Baby Bib",
          "Baby/Children_Baby Sizes 50-98_Ballerinas",
          "Baby/Children_Baby Sizes 50-98_Beanie",
          "Baby/Children_Baby Sizes 50-98_Belt",
          "Baby/Children_Baby Sizes 50-98_Blanket",
          "Baby/Children_Baby Sizes 50-98_Blouse",
          "Baby/Children_Baby Sizes 50-98_Bodysuit",
          "Baby/Children_Baby Sizes 50-98_Bootie",
          "Baby/Children_Baby Sizes 50-98_Boots",
          "Baby/Children_Baby Sizes 50-98_Bucket hat",
          "Baby/Children_Baby Sizes 50-98_Cap",
          "Baby/Children_Baby Sizes 50-98_Cap/peaked",
          "Baby/Children_Baby Sizes 50-98_Cardigan",
          "Baby/Children_Baby Sizes 50-98_Coat",
          "Baby/Children_Baby Sizes 50-98_Costumes",
          "Baby/Children_Baby Sizes 50-98_Cushion",
          "Baby/Children_Baby Sizes 50-98_Dress",
          "Baby/Children_Baby Sizes 50-98_Dungarees",
          "Baby/Children_Baby Sizes 50-98_Flat shoe",
          "Baby/Children_Baby Sizes 50-98_Garment Set",
          "Baby/Children_Baby Sizes 50-98_Gloves",
          "Baby/Children_Baby Sizes 50-98_Hair/alice band",
          "Baby/Children_Baby Sizes 50-98_Hat/beanie",
          "Baby/Children_Baby Sizes 50-98_Hat/brim",
          "Baby/Children_Baby Sizes 50-98_Hoodie",
          "Baby/Children_Baby Sizes 50-98_Jacket",
          "Baby/Children_Baby Sizes 50-98_Jumpsuit/Playsuit",
          "Baby/Children_Baby Sizes 50-98_Leggings/Tights",
          "Baby/Children_Baby Sizes 50-98_Moccasins",
          "Baby/Children_Baby Sizes 50-98_Night gown",
          "Baby/Children_Baby Sizes 50-98_Other accessories",
          "Baby/Children_Baby Sizes 50-98_Other shoe",
          "Baby/Children_Baby Sizes 50-98_Outdoor Waistcoat",
          "Baby/Children_Baby Sizes 50-98_Outdoor overall",
          "Baby/Children_Baby Sizes 50-98_Outdoor trousers",
          "Baby/Children_Baby Sizes 50-98_Polo shirt",
          "Baby/Children_Baby Sizes 50-98_Pyjama jumpsuit/playsuit",
          "Baby/Children_Baby Sizes 50-98_Pyjama set",
          "Baby/Children_Baby Sizes 50-98_Robe",
          "Baby/Children_Baby Sizes 50-98_Sandals",
          "Baby/Children_Baby Sizes 50-98_Scarf",
          "Baby/Children_Baby Sizes 50-98_Shirt",
          "Baby/Children_Baby Sizes 50-98_Shorts",
          "Baby/Children_Baby Sizes 50-98_Skirt",
          "Baby/Children_Baby Sizes 50-98_Sleep Bag",
          "Baby/Children_Baby Sizes 50-98_Sleeping sack",
          "Baby/Children_Baby Sizes 50-98_Slippers",
          "Baby/Children_Baby Sizes 50-98_Sneakers",
          "Baby/Children_Baby Sizes 50-98_Socks",
          "Baby/Children_Baby Sizes 50-98_Soft Toys",
          "Baby/Children_Baby Sizes 50-98_Sunglasses",
          "Baby/Children_Baby Sizes 50-98_Sweater",
          "Baby/Children_Baby Sizes 50-98_Swimsuit",
          "Baby/Children_Baby Sizes 50-98_Swimwear bottom",
          "Baby/Children_Baby Sizes 50-98_T-shirt",
          "Baby/Children_Baby Sizes 50-98_Tailored Waistcoat",
          "Baby/Children_Baby Sizes 50-98_Tie",
          "Baby/Children_Baby Sizes 50-98_Top",
          "Baby/Children_Baby Sizes 50-98_Towel",
          "Baby/Children_Baby Sizes 50-98_Trousers",
          "Baby/Children_Baby Sizes 50-98_Underwear Tights",
          "Baby/Children_Baby Sizes 50-98_Underwear body",
          "Baby/Children_Baby Sizes 50-98_Unknown",
          "Baby/Children_Baby Sizes 50-98_Vest top",
          "Baby/Children_Children Accessories, Swimwear_Alice band",
          "Baby/Children_Children Accessories, Swimwear_Backpack",
          "Baby/Children_Children Accessories, Swimwear_Bag",
          "Baby/Children_Children Accessories, Swimwear_Ballerinas",
          "Baby/Children_Children Accessories, Swimwear_Belt",
          "Baby/Children_Children Accessories, Swimwear_Bikini top",
          "Baby/Children_Children Accessories, Swimwear_Bodysuit",
          "Baby/Children_Children Accessories, Swimwear_Bootie",
          "Baby/Children_Children Accessories, Swimwear_Boots",
          "Baby/Children_Children Accessories, Swimwear_Bracelet",
          "Baby/Children_Children Accessories, Swimwear_Bumbag",
          "Baby/Children_Children Accessories, Swimwear_Cap/peaked",
          "Baby/Children_Children Accessories, Swimwear_Chem. cosmetics",
          "Baby/Children_Children Accessories, Swimwear_Costumes",
          "Baby/Children_Children Accessories, Swimwear_Dress",
          "Baby/Children_Children Accessories, Swimwear_Dungarees",
          "Baby/Children_Children Accessories, Swimwear_Fine cosmetics",
          "Baby/Children_Children Accessories, Swimwear_Flat shoe",
          "Baby/Children_Children Accessories, Swimwear_Flip flop",
          "Baby/Children_Children Accessories, Swimwear_Garment Set",
          "Baby/Children_Children Accessories, Swimwear_Giftbox",
          "Baby/Children_Children Accessories, Swimwear_Gloves",
          "Baby/Children_Children Accessories, Swimwear_Hair clip",
          "Baby/Children_Children Accessories, Swimwear_Hair string",
          "Baby/Children_Children Accessories, Swimwear_Hair ties",
          "Baby/Children_Children Accessories, Swimwear_Hair/alice band",
          "Baby/Children_Children Accessories, Swimwear_Hat/beanie",
          "Baby/Children_Children Accessories, Swimwear_Hat/brim",
          "Baby/Children_Children Accessories, Swimwear_Jacket",
          "Baby/Children_Children Accessories, Swimwear_Jumpsuit/Playsuit",
          "Baby/Children_Children Accessories, Swimwear_Leg warmers",
          "Baby/Children_Children Accessories, Swimwear_Leggings/Tights",
          "Baby/Children_Children Accessories, Swimwear_Necklace",
          "Baby/Children_Children Accessories, Swimwear_Other accessories",
          "Baby/Children_Children Accessories, Swimwear_Other shoe",
          "Baby/Children_Children Accessories, Swimwear_Sandals",
          "Baby/Children_Children Accessories, Swimwear_Sarong",
          "Baby/Children_Children Accessories, Swimwear_Scarf",
          "Baby/Children_Children Accessories, Swimwear_Shirt",
          "Baby/Children_Children Accessories, Swimwear_Shorts",
          "Baby/Children_Children Accessories, Swimwear_Skirt",
          "Baby/Children_Children Accessories, Swimwear_Slippers",
          "Baby/Children_Children Accessories, Swimwear_Sneakers",
          "Baby/Children_Children Accessories, Swimwear_Socks",
          "Baby/Children_Children Accessories, Swimwear_Soft Toys",
          "Baby/Children_Children Accessories, Swimwear_Sunglasses",
          "Baby/Children_Children Accessories, Swimwear_Swimsuit",
          "Baby/Children_Children Accessories, Swimwear_Swimwear bottom",
          "Baby/Children_Children Accessories, Swimwear_Swimwear set",
          "Baby/Children_Children Accessories, Swimwear_Swimwear top",
          "Baby/Children_Children Accessories, Swimwear_T-shirt",
          "Baby/Children_Children Accessories, Swimwear_Tie",
          "Baby/Children_Children Accessories, Swimwear_Top",
          "Baby/Children_Children Accessories, Swimwear_Unknown",
          "Baby/Children_Children Accessories, Swimwear_Waterbottle",
          "Baby/Children_Children Sizes 134-170_Blazer",
          "Baby/Children_Children Sizes 134-170_Blouse",
          "Baby/Children_Children Sizes 134-170_Cardigan",
          "Baby/Children_Children Sizes 134-170_Coat",
          "Baby/Children_Children Sizes 134-170_Dress",
          "Baby/Children_Children Sizes 134-170_Dungarees",
          "Baby/Children_Children Sizes 134-170_Garment Set",
          "Baby/Children_Children Sizes 134-170_Hoodie",
          "Baby/Children_Children Sizes 134-170_Jacket",
          "Baby/Children_Children Sizes 134-170_Jumpsuit/Playsuit",
          "Baby/Children_Children Sizes 134-170_Kids Underwear top",
          "Baby/Children_Children Sizes 134-170_Leggings/Tights",
          "Baby/Children_Children Sizes 134-170_Long John",
          "Baby/Children_Children Sizes 134-170_Night gown",
          "Baby/Children_Children Sizes 134-170_Outdoor Waistcoat",
          "Baby/Children_Children Sizes 134-170_Outdoor trousers",
          "Baby/Children_Children Sizes 134-170_Polo shirt",
          "Baby/Children_Children Sizes 134-170_Pyjama bottom",
          "Baby/Children_Children Sizes 134-170_Pyjama jumpsuit/playsuit",
          "Baby/Children_Children Sizes 134-170_Pyjama set",
          "Baby/Children_Children Sizes 134-170_Robe",
          "Baby/Children_Children Sizes 134-170_Shirt",
          "Baby/Children_Children Sizes 134-170_Shorts",
          "Baby/Children_Children Sizes 134-170_Skirt",
          "Baby/Children_Children Sizes 134-170_Socks",
          "Baby/Children_Children Sizes 134-170_Sweater",
          "Baby/Children_Children Sizes 134-170_T-shirt",
          "Baby/Children_Children Sizes 134-170_Tailored Waistcoat",
          "Baby/Children_Children Sizes 134-170_Top",
          "Baby/Children_Children Sizes 134-170_Trousers",
          "Baby/Children_Children Sizes 134-170_Underwear Tights",
          "Baby/Children_Children Sizes 134-170_Underwear bottom",
          "Baby/Children_Children Sizes 134-170_Underwear set",
          "Baby/Children_Children Sizes 134-170_Unknown",
          "Baby/Children_Children Sizes 134-170_Vest top",
          "Baby/Children_Children Sizes 92-140_Blazer",
          "Baby/Children_Children Sizes 92-140_Blouse",
          "Baby/Children_Children Sizes 92-140_Cap/peaked",
          "Baby/Children_Children Sizes 92-140_Cardigan",
          "Baby/Children_Children Sizes 92-140_Coat",
          "Baby/Children_Children Sizes 92-140_Costumes",
          "Baby/Children_Children Sizes 92-140_Dress",
          "Baby/Children_Children Sizes 92-140_Dungarees",
          "Baby/Children_Children Sizes 92-140_Garment Set",
          "Baby/Children_Children Sizes 92-140_Gloves",
          "Baby/Children_Children Sizes 92-140_Hair/alice band",
          "Baby/Children_Children Sizes 92-140_Hat/beanie",
          "Baby/Children_Children Sizes 92-140_Hoodie",
          "Baby/Children_Children Sizes 92-140_Jacket",
          "Baby/Children_Children Sizes 92-140_Jumpsuit/Playsuit",
          "Baby/Children_Children Sizes 92-140_Leggings/Tights",
          "Baby/Children_Children Sizes 92-140_Long John",
          "Baby/Children_Children Sizes 92-140_Night gown",
          "Baby/Children_Children Sizes 92-140_Outdoor Waistcoat",
          "Baby/Children_Children Sizes 92-140_Outdoor trousers",
          "Baby/Children_Children Sizes 92-140_Polo shirt",
          "Baby/Children_Children Sizes 92-140_Pyjama jumpsuit/playsuit",
          "Baby/Children_Children Sizes 92-140_Pyjama set",
          "Baby/Children_Children Sizes 92-140_Robe",
          "Baby/Children_Children Sizes 92-140_Scarf",
          "Baby/Children_Children Sizes 92-140_Shirt",
          "Baby/Children_Children Sizes 92-140_Shorts",
          "Baby/Children_Children Sizes 92-140_Skirt",
          "Baby/Children_Children Sizes 92-140_Socks",
          "Baby/Children_Children Sizes 92-140_Sweater",
          "Baby/Children_Children Sizes 92-140_Swimwear top",
          "Baby/Children_Children Sizes 92-140_T-shirt",
          "Baby/Children_Children Sizes 92-140_Tailored Waistcoat",
          "Baby/Children_Children Sizes 92-140_Top",
          "Baby/Children_Children Sizes 92-140_Trousers",
          "Baby/Children_Children Sizes 92-140_Underwear Tights",
          "Baby/Children_Children Sizes 92-140_Underwear bottom",
          "Baby/Children_Children Sizes 92-140_Underwear set",
          "Baby/Children_Children Sizes 92-140_Unknown",
          "Baby/Children_Children Sizes 92-140_Vest top",
          "Divided_Divided_Backpack",
          "Divided_Divided_Bag",
          "Divided_Divided_Ballerinas",
          "Divided_Divided_Beanie",
          "Divided_Divided_Belt",
          "Divided_Divided_Bikini top",
          "Divided_Divided_Blazer",
          "Divided_Divided_Blouse",
          "Divided_Divided_Bodysuit",
          "Divided_Divided_Boots",
          "Divided_Divided_Bra",
          "Divided_Divided_Bracelet",
          "Divided_Divided_Bucket hat",
          "Divided_Divided_Cap",
          "Divided_Divided_Cap/peaked",
          "Divided_Divided_Cardigan",
          "Divided_Divided_Coat",
          "Divided_Divided_Cross-body bag",
          "Divided_Divided_Dress",
          "Divided_Divided_Dungarees",
          "Divided_Divided_Earring",
          "Divided_Divided_Felt hat",
          "Divided_Divided_Flat shoe",
          "Divided_Divided_Flip flop",
          "Divided_Divided_Giftbox",
          "Divided_Divided_Gloves",
          "Divided_Divided_Hair clip",
          "Divided_Divided_Hair string",
          "Divided_Divided_Hair ties",
          "Divided_Divided_Hair/alice band",
          "Divided_Divided_Hat/beanie",
          "Divided_Divided_Hat/brim",
          "Divided_Divided_Heels",
          "Divided_Divided_Hoodie",
          "Divided_Divided_Jacket",
          "Divided_Divided_Jumpsuit/Playsuit",
          "Divided_Divided_Leggings/Tights",
          "Divided_Divided_Necklace",
          "Divided_Divided_Other accessories",
          "Divided_Divided_Outdoor Waistcoat",
          "Divided_Divided_Outdoor trousers",
          "Divided_Divided_Polo shirt",
          "Divided_Divided_Pumps",
          "Divided_Divided_Ring",
          "Divided_Divided_Sandals",
          "Divided_Divided_Scarf",
          "Divided_Divided_Shirt",
          "Divided_Divided_Shorts",
          "Divided_Divided_Shoulder bag",
          "Divided_Divided_Skirt",
          "Divided_Divided_Slippers",
          "Divided_Divided_Sneakers",
          "Divided_Divided_Socks",
          "Divided_Divided_Straw hat",
          "Divided_Divided_Sunglasses",
          "Divided_Divided_Sweater",
          "Divided_Divided_Swimsuit",
          "Divided_Divided_Swimwear bottom",
          "Divided_Divided_T-shirt",
          "Divided_Divided_Tailored Waistcoat",
          "Divided_Divided_Top",
          "Divided_Divided_Tote bag",
          "Divided_Divided_Trousers",
          "Divided_Divided_Umbrella",
          "Divided_Divided_Underwear Tights",
          "Divided_Divided_Underwear bottom",
          "Divided_Divided_Underwear set",
          "Divided_Divided_Unknown",
          "Divided_Divided_Vest top",
          "Divided_Divided_Wallet",
          "Divided_Divided_Waterbottle",
          "Divided_Divided_Wedge",
          "Divided_Divided_Weekend/Gym bag",
          "Ladieswear_Ladies Accessories_Alice band",
          "Ladieswear_Ladies Accessories_Bag",
          "Ladieswear_Ladies Accessories_Ballerinas",
          "Ladieswear_Ladies Accessories_Belt",
          "Ladieswear_Ladies Accessories_Bootie",
          "Ladieswear_Ladies Accessories_Boots",
          "Ladieswear_Ladies Accessories_Bracelet",
          "Ladieswear_Ladies Accessories_Cap/peaked",
          "Ladieswear_Ladies Accessories_Cross-body bag",
          "Ladieswear_Ladies Accessories_Dog Wear",
          "Ladieswear_Ladies Accessories_Dog wear",
          "Ladieswear_Ladies Accessories_Earring",
          "Ladieswear_Ladies Accessories_Earrings",
          "Ladieswear_Ladies Accessories_Felt hat",
          "Ladieswear_Ladies Accessories_Flat shoe",
          "Ladieswear_Ladies Accessories_Flat shoes",
          "Ladieswear_Ladies Accessories_Flip flop",
          "Ladieswear_Ladies Accessories_Gloves",
          "Ladieswear_Ladies Accessories_Hair clip",
          "Ladieswear_Ladies Accessories_Hair string",
          "Ladieswear_Ladies Accessories_Hair ties",
          "Ladieswear_Ladies Accessories_Hair/alice band",
          "Ladieswear_Ladies Accessories_Hairband",
          "Ladieswear_Ladies Accessories_Hat/beanie",
          "Ladieswear_Ladies Accessories_Hat/brim",
          "Ladieswear_Ladies Accessories_Headband",
          "Ladieswear_Ladies Accessories_Heeled sandals",
          "Ladieswear_Ladies Accessories_Heels",
          "Ladieswear_Ladies Accessories_Mobile case",
          "Ladieswear_Ladies Accessories_Necklace",
          "Ladieswear_Ladies Accessories_Other accessories",
          "Ladieswear_Ladies Accessories_Other shoe",
          "Ladieswear_Ladies Accessories_Pumps",
          "Ladieswear_Ladies Accessories_Ring",
          "Ladieswear_Ladies Accessories_Sandals",
          "Ladieswear_Ladies Accessories_Scarf",
          "Ladieswear_Ladies Accessories_Slippers",
          "Ladieswear_Ladies Accessories_Sneakers",
          "Ladieswear_Ladies Accessories_Sunglasses",
          "Ladieswear_Ladies Accessories_Top",
          "Ladieswear_Ladies Accessories_Umbrella",
          "Ladieswear_Ladies Accessories_Unknown",
          "Ladieswear_Ladies Accessories_Wallet",
          "Ladieswear_Ladies Accessories_Watch",
          "Ladieswear_Ladies Accessories_Wedge",
          "Ladieswear_Ladies Accessories_Wireless earphone case",
          "Ladieswear_Ladieswear_Bag",
          "Ladieswear_Ladieswear_Belt",
          "Ladieswear_Ladieswear_Bikini top",
          "Ladieswear_Ladieswear_Blazer",
          "Ladieswear_Ladieswear_Blouse",
          "Ladieswear_Ladieswear_Bodysuit",
          "Ladieswear_Ladieswear_Boots",
          "Ladieswear_Ladieswear_Bra",
          "Ladieswear_Ladieswear_Bracelet",
          "Ladieswear_Ladieswear_Cap/peaked",
          "Ladieswear_Ladieswear_Cardigan",
          "Ladieswear_Ladieswear_Coat",
          "Ladieswear_Ladieswear_Costumes",
          "Ladieswear_Ladieswear_Dress",
          "Ladieswear_Ladieswear_Dungarees",
          "Ladieswear_Ladieswear_Earring",
          "Ladieswear_Ladieswear_Garment Set",
          "Ladieswear_Ladieswear_Gloves",
          "Ladieswear_Ladieswear_Hair clip",
          "Ladieswear_Ladieswear_Hair/alice band",
          "Ladieswear_Ladieswear_Hat/beanie",
          "Ladieswear_Ladieswear_Hat/brim",
          "Ladieswear_Ladieswear_Heeled sandals",
          "Ladieswear_Ladieswear_Hoodie",
          "Ladieswear_Ladieswear_Jacket",
          "Ladieswear_Ladieswear_Jumpsuit/Playsuit",
          "Ladieswear_Ladieswear_Leggings/Tights",
          "Ladieswear_Ladieswear_Marker pen",
          "Ladieswear_Ladieswear_Necklace",
          "Ladieswear_Ladieswear_Night gown",
          "Ladieswear_Ladieswear_Other accessories",
          "Ladieswear_Ladieswear_Outdoor Waistcoat",
          "Ladieswear_Ladieswear_Outdoor trousers",
          "Ladieswear_Ladieswear_Polo shirt",
          "Ladieswear_Ladieswear_Pumps",
          "Ladieswear_Ladieswear_Pyjama bottom",
          "Ladieswear_Ladieswear_Pyjama jumpsuit/playsuit",
          "Ladieswear_Ladieswear_Pyjama set",
          "Ladieswear_Ladieswear_Ring",
          "Ladieswear_Ladieswear_Robe",
          "Ladieswear_Ladieswear_Sandals",
          "Ladieswear_Ladieswear_Scarf",
          "Ladieswear_Ladieswear_Sewing kit",
          "Ladieswear_Ladieswear_Shirt",
          "Ladieswear_Ladieswear_Shorts",
          "Ladieswear_Ladieswear_Side table",
          "Ladieswear_Ladieswear_Skirt",
          "Ladieswear_Ladieswear_Slippers",
          "Ladieswear_Ladieswear_Socks",
          "Ladieswear_Ladieswear_Stain remover spray",
          "Ladieswear_Ladieswear_Sunglasses",
          "Ladieswear_Ladieswear_Sweater",
          "Ladieswear_Ladieswear_Swimsuit",
          "Ladieswear_Ladieswear_Swimwear bottom",
          "Ladieswear_Ladieswear_Swimwear set",
          "Ladieswear_Ladieswear_T-shirt",
          "Ladieswear_Ladieswear_Tailored Waistcoat",
          "Ladieswear_Ladieswear_Top",
          "Ladieswear_Ladieswear_Trousers",
          "Ladieswear_Ladieswear_Underwear bottom",
          "Ladieswear_Ladieswear_Unknown",
          "Ladieswear_Ladieswear_Vest top",
          "Ladieswear_Ladieswear_Wallet",
          "Ladieswear_Ladieswear_Washing bag",
          "Ladieswear_Ladieswear_Wood balls",
          "Ladieswear_Ladieswear_Zipper head",
          "Ladieswear_Lingeries/Tights_Bikini top",
          "Ladieswear_Lingeries/Tights_Bra",
          "Ladieswear_Lingeries/Tights_Bra extender",
          "Ladieswear_Lingeries/Tights_Dress",
          "Ladieswear_Lingeries/Tights_Leggings/Tights",
          "Ladieswear_Lingeries/Tights_Night gown",
          "Ladieswear_Lingeries/Tights_Nipple covers",
          "Ladieswear_Lingeries/Tights_Other accessories",
          "Ladieswear_Lingeries/Tights_Pyjama bottom",
          "Ladieswear_Lingeries/Tights_Pyjama jumpsuit/playsuit",
          "Ladieswear_Lingeries/Tights_Pyjama set",
          "Ladieswear_Lingeries/Tights_Robe",
          "Ladieswear_Lingeries/Tights_Sarong",
          "Ladieswear_Lingeries/Tights_Scarf",
          "Ladieswear_Lingeries/Tights_Slippers",
          "Ladieswear_Lingeries/Tights_Socks",
          "Ladieswear_Lingeries/Tights_Swimsuit",
          "Ladieswear_Lingeries/Tights_Swimwear bottom",
          "Ladieswear_Lingeries/Tights_Swimwear set",
          "Ladieswear_Lingeries/Tights_Top",
          "Ladieswear_Lingeries/Tights_Underdress",
          "Ladieswear_Lingeries/Tights_Underwear Tights",
          "Ladieswear_Lingeries/Tights_Underwear body",
          "Ladieswear_Lingeries/Tights_Underwear bottom",
          "Ladieswear_Lingeries/Tights_Underwear corset",
          "Ladieswear_Lingeries/Tights_Underwear set",
          "Ladieswear_Lingeries/Tights_Unknown",
          "Menswear_Menswear_Backpack",
          "Menswear_Menswear_Bag",
          "Menswear_Menswear_Beanie",
          "Menswear_Menswear_Belt",
          "Menswear_Menswear_Blazer",
          "Menswear_Menswear_Boots",
          "Menswear_Menswear_Bra",
          "Menswear_Menswear_Bracelet",
          "Menswear_Menswear_Braces",
          "Menswear_Menswear_Bucket hat",
          "Menswear_Menswear_Cap",
          "Menswear_Menswear_Cap/peaked",
          "Menswear_Menswear_Cardigan",
          "Menswear_Menswear_Coat",
          "Menswear_Menswear_Costumes",
          "Menswear_Menswear_Cross-body bag",
          "Menswear_Menswear_Dungarees",
          "Menswear_Menswear_Earring",
          "Menswear_Menswear_Felt hat",
          "Menswear_Menswear_Flat shoes",
          "Menswear_Menswear_Flip flop",
          "Menswear_Menswear_Garment Set",
          "Menswear_Menswear_Giftbox",
          "Menswear_Menswear_Gloves",
          "Menswear_Menswear_Hat/beanie",
          "Menswear_Menswear_Hat/brim",
          "Menswear_Menswear_Hoodie",
          "Menswear_Menswear_Jacket",
          "Menswear_Menswear_Jumpsuit/Playsuit",
          "Menswear_Menswear_Keychain",
          "Menswear_Menswear_Long John",
          "Menswear_Menswear_Necklace",
          "Menswear_Menswear_Other accessories",
          "Menswear_Menswear_Other shoe",
          "Menswear_Menswear_Outdoor Waistcoat",
          "Menswear_Menswear_Polo shirt",
          "Menswear_Menswear_Pyjama bottom",
          "Menswear_Menswear_Pyjama set",
          "Menswear_Menswear_Ring",
          "Menswear_Menswear_Robe",
          "Menswear_Menswear_Sandals",
          "Menswear_Menswear_Scarf",
          "Menswear_Menswear_Shirt",
          "Menswear_Menswear_Shorts",
          "Menswear_Menswear_Slippers",
          "Menswear_Menswear_Sneakers",
          "Menswear_Menswear_Socks",
          "Menswear_Menswear_Straw hat",
          "Menswear_Menswear_Sunglasses",
          "Menswear_Menswear_Sweater",
          "Menswear_Menswear_Swimwear bottom",
          "Menswear_Menswear_T-shirt",
          "Menswear_Menswear_Tailored Waistcoat",
          "Menswear_Menswear_Tie",
          "Menswear_Menswear_Top",
          "Menswear_Menswear_Trousers",
          "Menswear_Menswear_Underwear bottom",
          "Menswear_Menswear_Unknown",
          "Menswear_Menswear_Vest top",
          "Menswear_Menswear_Wallet",
          "Menswear_Menswear_Watch",
          "Menswear_Menswear_Weekend/Gym bag",
          "Sport_Sport_Bag",
          "Sport_Sport_Bikini top",
          "Sport_Sport_Bra",
          "Sport_Sport_Cap/peaked",
          "Sport_Sport_Garment Set",
          "Sport_Sport_Giftbox",
          "Sport_Sport_Gloves",
          "Sport_Sport_Hair string",
          "Sport_Sport_Hat/beanie",
          "Sport_Sport_Hoodie",
          "Sport_Sport_Jacket",
          "Sport_Sport_Leggings/Tights",
          "Sport_Sport_Long John",
          "Sport_Sport_Other accessories",
          "Sport_Sport_Outdoor Waistcoat",
          "Sport_Sport_Outdoor trousers",
          "Sport_Sport_Sandals",
          "Sport_Sport_Sarong",
          "Sport_Sport_Shorts",
          "Sport_Sport_Skirt",
          "Sport_Sport_Socks",
          "Sport_Sport_Sweater",
          "Sport_Sport_Swimsuit",
          "Sport_Sport_Swimwear bottom",
          "Sport_Sport_T-shirt",
          "Sport_Sport_Top",
          "Sport_Sport_Trousers",
          "Sport_Sport_Underwear bottom",
          "Sport_Sport_Unknown",
          "Sport_Sport_Vest top",
          "Sport_Sport_Waterbottle"
         ],
         "legendgroup": "",
         "marker": {
          "color": [
           0.26147238080119567,
           -0.22615084289886608,
           0.41481715124395563,
           -0.08573684096843112,
           0.37354273710112834,
           0.3157910539489962,
           -0.14470584051601942,
           0.37097414079550345,
           0.5568508073387691,
           0.8242960893185193,
           -0.18252128630229278,
           -0.3049968276127327,
           0.36451586017374754,
           0.41173786753086633,
           -0.10018901686382052,
           0.34611949894109517,
           -0.07342670354420265,
           0.49602060022969024,
           0.1906764651225274,
           0.37776002724390517,
           0.8190296254563137,
           0.6463834258614456,
           0.4725735753857294,
           0.6798428255544114,
           -0.44666970708930565,
           0.3970510171691114,
           0.6825917326543292,
           0.6500576808636126,
           0.1567692947228206,
           -0.16746023510946312,
           -0.14397687334413065,
           -0.13006601980441454,
           -0.04617299250306502,
           0.05305674083595169,
           0.7089712650367225,
           0.5275573126190777,
           -0.40334287315705136,
           0.6593523040551645,
           0.4379022214761887,
           -0.2804436341238757,
           -0.5796355744725303,
           0.5814980144306435,
           0.4060808783404714,
           -0.6439156145807149,
           -0.11272189132056645,
           0.11472845643659313,
           0.41906354302975524,
           0.6999925299428004,
           0.40811850308360015,
           0.6253392442478382,
           -0.3420151662188531,
           -0.3439377277438089,
           0.7237407205493154,
           -0.3772975125028941,
           -0.06315464079527378,
           -0.12003728105759046,
           0.5036190133233333,
           -0.025303475718909726,
           0.24965824597169683,
           -0.03548237837978085,
           0.548311570684408,
           0.6859751942192296,
           -0.3943400764975334,
           -0.3192894404681773,
           -0.20826494180395722,
           -0.2095393583491709,
           -0.2095393583491709,
           0.13429620426885922,
           0.37850535696676535,
           0.15014884145248275,
           -0.27427209977221223,
           0.1452944023128393,
           0.2755257884206311,
           0.6877068647545163,
           -0.2005326913644973,
           -0.2393875310637699,
           -0.4575462890049109,
           0.24011822426784477,
           0.24752936989536992,
           0.5200198417623777,
           0.24920373812221586,
           0.39592947984279875,
           -0.24923440211048628,
           -0.3004282275050117,
           0.6334666544429279,
           -0.008295139169478088,
           0.6391509680055325,
           0.38271495865850447,
           0.2695812077157175,
           0.18603051243581958,
           0.4912933678050972,
           0.615939822719809,
           -0.4151109368204498,
           -0.0288714478509479,
           0.3937899389086808,
           0.44290125687311893,
           0.3171454108218531,
           0.31964312505731984,
           0.6225219983119392,
           0.5544021674761026,
           -0.47453937725965933,
           0.3157910539489962,
           0.5855208065486361,
           0.33800645332307305,
           -0.41716124487265704,
           0.2322869586447455,
           0.5611665243671279,
           0.4355699355420075,
           -0.20922194940219854,
           0.28359917053225336,
           -0.35572957680638667,
           -0.19833203692273277,
           -0.5110835621718293,
           -0.5250621087455243,
           -0.34677582171814875,
           -0.32825154611294516,
           0.2771835734564643,
           -0.24592655062038157,
           0.26894227061113607,
           0.12090220148221327,
           0.49440697747574386,
           0.03137392057917995,
           0.6339575691945887,
           0.3303339528179328,
           0.19991415463355433,
           -0.07195833610823721,
           0.3722727145210485,
           0.6892582976015813,
           0.6363539320102536,
           -0.1906088410444517,
           0.24175959600506672,
           0.5122894940166325,
           0.6663619738923955,
           -0.27359467798456133,
           0.4956950454244389,
           0.5701580263082265,
           -0.2222502544624364,
           0.3707235008212172,
           0.39795656972971133,
           0.5904573235609799,
           0.5010372326949439,
           0.5612468822562323,
           -0.5585292431552238,
           0.09220587998884566,
           0.5321416070911161,
           0.6658296376304262,
           -0.1463437265478792,
           0.2998576095154121,
           0.40647595139906934,
           0.5861466041508125,
           0.5345977153229358,
           0.3024395829276067,
           0.13926152243788253,
           -0.05304230242342944,
           -0.09465472488861802,
           0.44609485757283235,
           0.3112044405628605,
           -0.2393875310637699,
           0.5273357280584539,
           0.5106020250259895,
           0.4246043290008922,
           0.30141310880768507,
           0.26017208743443504,
           0.5401202320052644,
           -0.021425551420478268,
           -0.16984352891282262,
           -0.1614289283571404,
           0.5008957418228087,
           0.5372310577380643,
           -0.028806836997664755,
           0.5033693650286726,
           0.5741468226270644,
           -0.09721084415411752,
           0.5428310105280532,
           0.5737848561006206,
           -0.0729545057264411,
           0.052402522945238963,
           0.6331367068996262,
           0.47118301793102985,
           0.33800645332307305,
           0.33858963468044323,
           -0.4619940604340691,
           0.5866124938987406,
           0.41757699250746166,
           0.606298329401251,
           -0.1861569364415722,
           0.1457795143980344,
           0.4066305318077803,
           0.5384695762218416,
           0.5066258041061494,
           0.5310537229639731,
           0.4939059992725989,
           0.5861190441417631,
           -0.2961022819001564,
           0.047137000593140334,
           -0.09302474772553097,
           0.42481516445563744,
           -0.4860865996461049,
           0.38901978232810974,
           -0.2877783697004208,
           -0.5895529454659467,
           0.052182518275308024,
           -0.06340584809440745,
           0.6645082536827048,
           0.6493618883856641,
           0.15460321556737872,
           -0.3441526287358548,
           -0.36159372637853143,
           -0.05304230242342944,
           0.6161118846859118,
           0.9360786518927672,
           0.7523582401542739,
           -0.1677518167314522,
           -0.5702330379948107,
           -0.619005815425256,
           0.32297590200492043,
           -0.17806678684470867,
           -0.3862734991807113,
           0.4346457409449496,
           0.3120964054913587,
           0.6651539128408639,
           -0.25720254862539066,
           0.28593867938224776,
           0.21100668664688316,
           -0.05505168677437657,
           0.7685763273866549,
           -0.3130740871751237,
           -0.503107897821963,
           0.9210637054790489,
           0.8197231658208571,
           -0.5431793272394132,
           0.7699388848596866,
           -0.001161052913009043,
           0.35270357133240476,
           0.044321593402232164,
           -0.0814067092691165,
           0.5466286255983085,
           0.39534050570646373,
           0.4255319552566964,
           -0.5959940802151829,
           0.8270747784333448,
           0.004924347482219394,
           -0.7252236686448418,
           0.284042887750526,
           -0.41450283477300304,
           0.352579773979622,
           0.46465052121184375,
           0.38508552128071805,
           -0.6141014862012507,
           -0.4960631638164985,
           0.9305058387914729,
           -0.3695824303096071,
           -0.47943079476201067,
           -0.7106621769721351,
           -0.27782583809926487,
           0.5606545788853811,
           0.18940275394555245,
           0.4667923986325574,
           0.25435705863168906,
           0.372575972107893,
           -0.2697814476052672,
           -0.05947352514892382,
           0.2211887659377229,
           -0.6259174015410485,
           0.4240646388685407,
           0.15222620893773364,
           0.06798514888895589,
           0.18882207775615556,
           0.39083570062807643,
           -0.09269872975511637,
           -0.7091975514023358,
           0.042568897303019396,
           0.3579306707444237,
           0.9149455970074155,
           -0.6551226073358224,
           -0.19033404532433454,
           -0.17416710778880334,
           0.5114634876558092,
           0.2755257884206311,
           -0.01740722123216621,
           -0.26922689751371365,
           0.09760507606991552,
           -0.41279245857895247,
           0.1887993075575863,
           -0.6942428955526507,
           0.7381679360423752,
           0.07616175452523805,
           -0.20277554452849794,
           -0.04446954515827564,
           -0.4870274566936735,
           -0.04832328777175816,
           0.7202922534531997,
           -0.6382028203752774,
           0.42670588330461057,
           -0.7100307272189506,
           -0.3257745372941335,
           -0.192529030972998,
           -0.24855707680391495,
           0.21043513487932392,
           -0.28181375845020984,
           0.08066960303807766,
           -0.04524580918476061,
           -0.7063578263000759,
           0.8526519352563099,
           -0.2762855681214048,
           -0.30633138591880776,
           -0.7124193128364261,
           0.10126277051076117,
           0.4418111330709238,
           0.2516628190161712,
           -0.19000424062929308,
           0.36559566094745893,
           -0.7172278081972238,
           -0.02375328099953423,
           -0.39834104646386753,
           0.33132175509033457,
           -0.5601116861376906,
           0.55557956722166,
           -0.23400035282179835,
           -0.08110965587459464,
           0.5823467565355093,
           0.31395100843805174,
           0.04848132640286414,
           -0.1866083473179747,
           0.8193478178821867,
           0.8254476199966264,
           -0.6268625974216114,
           -0.6058686641067906,
           -0.2075229132479481,
           0.3693577337621529,
           -0.04087364541379309,
           0.719691286491661,
           0.38408018175335745,
           0.35124395797423275,
           0.6419816399736246,
           0.4416036185257521,
           0.17273289476890197,
           0.6945412432347381,
           1,
           -0.4565925288655732,
           0.36676601161180383,
           -0.28748885777254,
           0.4449175012795522,
           0.2186791449558216,
           -0.12319284963535074,
           0.6205463216070581,
           -0.23361929626152717,
           0.6174605344617677,
           -0.13118343763620727,
           0.16325966339187287,
           -0.10291843546197894,
           0.24913599583189913,
           -0.21055605030317104,
           -0.024549119321779316,
           -0.226473337623266,
           0.8052607751499199,
           0.11412328069082732,
           -0.05096107796204498,
           -0.7129489949592122,
           0.4308991141490798,
           -0.4658500433134275,
           0.33174691736437867,
           -0.19779551108290522,
           -0.23938753106376995,
           -0.5285142113498046,
           0.9299534726117109,
           -0.4932666343312491,
           -0.3859112305773119,
           -0.269503913580799,
           -0.6720998036985365,
           0.2807452007879329,
           -0.011303655727718728,
           0.08146251271936861,
           0.5875028688999974,
           0.10160383164609442,
           -0.7192267926315934,
           0.28704264527655643,
           -0.16067816797868012,
           0.15651032326275746,
           -0.13189974660410195,
           -0.7876286799080705,
           -0.5667328029320821,
           -0.24676238845071505,
           -0.4907197284010942,
           0.7477911202841404,
           0.43289936592791833,
           -0.38404499996371383,
           0.37778675140553336,
           0.4737703227439454,
           -0.20326659873897127,
           0.682715854151697,
           0.5427791564353855,
           -0.5684020238830392,
           0.4193989226870376,
           0.01134163636512353,
           0.4106076232013801,
           -0.7466197773039841,
           -0.7778386216680813,
           -0.32046282477434457,
           -0.43396909900189273,
           -0.4234431985697608,
           0.8135799487780541,
           0.582182145764776,
           -0.5129783450325498,
           0.31941577962465917,
           0.16207485297152197,
           -0.48767221530856364,
           0.027084987453211754,
           -0.22375165588016438,
           0.39625998273945034,
           0.240834707122577,
           0.2883511535995194,
           0.6677257525696972,
           0.4587210841918962,
           -0.09929556540498116,
           0.4136026656246712,
           -0.3912503423421527,
           -0.5739722194344357,
           -0.20612902359043703,
           0.7439309375130212,
           0.7412542137576046,
           0.4827743537869714,
           -0.00709464938097413,
           -0.38940753656822386,
           -0.27002601495866074,
           -0.16027884928946656,
           -0.28105697782494804,
           -0.5690260311521073,
           0.19981535361405245,
           -0.008938249597237252,
           0.6392894788475721,
           0.6135720267595073,
           -0.5381639004092359,
           0.9591821000785475,
           0.8287466170610064,
           -0.2078328034684132,
           -0.06312357623526667,
           0.7311092541849807,
           -0.32734339746834124,
           0.4052716902578266,
           0.18180979405264286,
           0.18690262798871712,
           -0.6980998494945292,
           0.7273796129266875,
           0.5065431916955045,
           -0.3247384239657895,
           0.5167208239028196,
           -0.6304965952525831,
           0.614316693854541,
           0.09337786035372429,
           -0.707052542237339,
           0.5855196601239058,
           -0.5577181874791507,
           0.14247917630657983,
           -0.6925732268702787,
           -0.7036619591245596,
           0.8487677437584297,
           -0.7091965934625536,
           -0.6989635745183389,
           0.4049371172801846,
           0.28368538309560143,
           0.8117187433984461,
           0.6533340998125418,
           -0.24307251917175393,
           -0.2518765565012687,
           -0.5949875374668875,
           0.4016533274032663,
           0.18668643863994772,
           -0.03521612042774271,
           0.09934103186472582,
           -0.54536641545271,
           -0.28452107075127975,
           -0.4807577789075085,
           0.12218063691656912,
           0.02439452531188987,
           0.514761487807826,
           0.05264897408496191,
           0.3401699633123342,
           0.7724563572313995,
           0.6370660386745041,
           0.05515936500348991,
           0.3237504801736286,
           0.32845792937283136,
           0.4906309311935993,
           0.33038699102314517,
           0.35710426503445203,
           -0.39591014496250254,
           -0.7132448220394609,
           -0.3003813602030132,
           -0.3436778726179103,
           0.5993234508482235,
           -0.2778490534267199,
           -0.6472710100089141,
           0.21486213285118283,
           -0.08729185740711241,
           0.6747925629310617,
           -0.14827765543152183,
           -0.09970213676713746,
           -0.5060077505189343,
           0.3689327780214476
          ],
          "coloraxis": "coloraxis",
          "symbol": "circle"
         },
         "mode": "markers",
         "name": "",
         "orientation": "v",
         "showlegend": false,
         "type": "scatter",
         "x": [
          -0.00896576599031027,
          -0.03732118298592338,
          0.05814112264564279,
          -0.03483592347992945,
          0.05107950660465481,
          0.03971697850397382,
          -0.0031064798284647743,
          0.06149236913962538,
          0.07421794321494309,
          0.07496950308303332,
          -0.021071599930054814,
          -0.03821723759406969,
          0.052832801978135356,
          0.05812289835906064,
          -0.0013047521974916844,
          0.011404136393641543,
          0.0012720764041763127,
          0.06869313353404495,
          0.04695721858537207,
          0.03445546506946309,
          0.07419606751044669,
          0.06709925868139793,
          0.07090828722949905,
          0.07136226009604822,
          -0.024647016519693362,
          0.058125290290687866,
          0.06738889083560085,
          0.06443706649673596,
          0.016331292110292658,
          -0.01863585120212254,
          -0.017501114245024475,
          -0.021549514028416712,
          0.01223808004146719,
          0.0023637086671197366,
          0.0669238151058211,
          0.06303090081391194,
          -0.033588895080054956,
          0.07028867003823132,
          0.0059247666064177334,
          -0.00557044058144511,
          -0.04131210522592246,
          0.07070207187457506,
          0.06768222545695746,
          -0.044925569267222805,
          -0.015137953257802442,
          0.03175107410398541,
          0.04927345300847907,
          0.07933957124904253,
          0.05352197250312385,
          0.06583924965952423,
          -0.02906423350941066,
          -0.02057441394057838,
          0.08030074650596761,
          -0.012162568617542233,
          0.014635675852463774,
          0.02033441099057294,
          0.06401568164152135,
          0.009871794409773297,
          0.039636527758334233,
          -0.00582172180148186,
          0.07368980084722167,
          0.07928711647270484,
          -0.028126177621522072,
          -0.030060327162117064,
          0.003215540193327129,
          -0.021626808412842178,
          -0.021626808412842178,
          0.036738949422426594,
          0.060773099647471324,
          0.03340330033931233,
          -0.014084788585960096,
          0.006552872344511843,
          -0.005569948943825357,
          0.07986337344460818,
          -0.005503342073717267,
          -0.019908452662556926,
          -0.02204562104255715,
          0.017167875297249037,
          0.03903920875010972,
          0.07471328185567265,
          0.014152049085205249,
          0.0651864019120326,
          -0.011953690517046603,
          -0.011214363947382493,
          0.050459984148262804,
          0.004964502647134169,
          0.07637117241654652,
          0.06079598977991569,
          0.057279987853902335,
          -0.013574902020210024,
          0.07301468103075474,
          0.07602186215870599,
          -0.013934287577226144,
          -0.013526765979688141,
          0.0385569246029169,
          0.05773583079087474,
          0.03857954342459491,
          0.054433019404956234,
          0.0777622429661478,
          0.07226768687582767,
          -0.02965534878280438,
          0.03971697850397382,
          0.07520827877338002,
          0.01043139650231126,
          -0.047549671434716695,
          0.03869888061673807,
          0.06675059944399327,
          0.07225590859706225,
          -0.021108138723351974,
          0.05815649025000636,
          -0.013744665975649696,
          0.012978151728357824,
          -0.023493273007406997,
          -0.029735100573510073,
          -0.01587658801984741,
          -0.03499553498520012,
          0.030570906878082716,
          -0.01629632943916006,
          0.023206632699994158,
          0.021995732664779256,
          0.061111021329235356,
          0.03429974018569464,
          0.07630169258959271,
          -0.00024523357291663343,
          0.04551254119480935,
          0.0257553351403559,
          0.029787750160716147,
          0.07988423938581099,
          0.0703801184317609,
          0.0007450642029070702,
          0.04275847976634954,
          0.07399346502917385,
          0.06280374722268275,
          -0.012375193039729114,
          0.06814954185893099,
          0.06203485634611925,
          -0.030019346518088342,
          0.06189018879850025,
          0.03984426637028501,
          0.07550547787765606,
          0.05715834246695832,
          0.07412598525756034,
          -0.03880947998027392,
          0.03374216754971395,
          0.07367584447166657,
          0.07840020510714764,
          0.01869838314888864,
          0.04648386558398479,
          0.06367841369996398,
          0.07468390563957396,
          0.07535810825884064,
          0.06117955985793421,
          0.02735430753265917,
          -0.008769655436509503,
          0.02239747671144375,
          0.0569721888448018,
          0.06263939292775035,
          -0.019908452662556926,
          0.07230645962705907,
          0.025942568555559476,
          0.011617327937100743,
          0.06441634412475132,
          0.053048525945470534,
          0.06419508177289586,
          0.0026783281974076837,
          -0.018762759470781664,
          -0.013507853846034297,
          0.07316570688196934,
          0.07431917394074336,
          0.023921346771268125,
          0.0703289892454785,
          0.04627341629579302,
          0.012748994871967902,
          0.076445848584879,
          0.06778362008379321,
          0.030793095640541557,
          0.02905257362210609,
          0.07593531901307803,
          0.05834477839121674,
          0.01043139650231126,
          0.059061728313941235,
          -0.02591092648300415,
          0.07483233886005991,
          0.0655055667207997,
          0.07944913925509749,
          -0.01753087827308307,
          0.04936615187475064,
          0.06150954249180824,
          0.07241717276564005,
          0.07357313788194335,
          0.07313743672777945,
          0.06938445677349488,
          0.0647468460164946,
          -0.023392359887159354,
          0.037393106119932594,
          -0.018892652395774645,
          0.053901002061672566,
          -0.023671159580833805,
          0.017447050708058732,
          -0.04157948067268336,
          -0.0366148211391793,
          0.02144502913106238,
          0.01838352639737024,
          0.06628353104324698,
          0.0729469061859777,
          -0.022618233594375762,
          -0.0382185199550848,
          -0.026635727693679476,
          -0.008769655436509503,
          0.06983819493353914,
          0.05403664549096267,
          0.07288379494768743,
          -0.025852782351292257,
          -0.04573855772043531,
          -0.053340733308664824,
          0.06329749966980369,
          -0.02798271505827605,
          -0.02513173912870487,
          0.06319759187043227,
          0.05012700590311837,
          0.06209991901801109,
          -0.02917931951238414,
          0.054273766614702255,
          -0.012673986266489145,
          0.01025259630602868,
          0.0668749854886522,
          -0.03384617795113864,
          -0.044980432966653675,
          0.05396744216280415,
          0.045347437328044284,
          -0.03937761810299377,
          0.057076100760790185,
          -0.017672638561885463,
          0.058312918720515916,
          -0.017927280342378216,
          -0.001536096917890348,
          0.035664054376774966,
          0.06833908707189003,
          0.0660877117894293,
          -0.037614376827716,
          0.07393734184413966,
          -0.00046751453725057593,
          -0.057494637328418134,
          -0.008246630545139855,
          -0.03245049235224164,
          0.038813294236619944,
          0.06309638163416642,
          0.04475510332434862,
          -0.051661713815883234,
          -0.03339188087736276,
          0.0734220181471828,
          -0.01567473554954523,
          -0.030100037443701252,
          -0.058524304279193536,
          -0.021313081154796305,
          0.011338179781734924,
          -0.02167091443044003,
          0.015010613848288811,
          0.04711575783563933,
          0.014568131437751186,
          -0.034861408042919276,
          -0.024215136763585953,
          -0.011741093365678287,
          -0.041430914475270066,
          0.0678848381062075,
          0.044963156561286945,
          0.020077789802790083,
          -0.02146081890535148,
          0.0348614807971614,
          0.0006781431576471846,
          -0.05946266642575413,
          -0.033347438163950985,
          -0.0014059020790562536,
          0.06451819455523589,
          -0.05640721712019983,
          0.004605456148261728,
          -0.02250340351045601,
          0.01363583692915324,
          -0.005569948943825357,
          -0.004848185959510376,
          -0.03221637554266757,
          -0.01484267342530568,
          -0.037363204917168914,
          -0.013491251304446112,
          -0.052415615241522995,
          0.05750925360786276,
          -0.011058057280522133,
          -0.0346090650900316,
          -0.021578921200281348,
          -0.05585873809128526,
          0.018084510002953965,
          0.06967378537558291,
          -0.05419478110921781,
          0.01362853793221204,
          -0.056232672636107726,
          -0.04490397243279366,
          -0.03181018277314564,
          -0.00580923910670497,
          0.0369741144868282,
          -0.011019737500850819,
          0.02364043054069169,
          0.007228949202269517,
          -0.056488754093675785,
          0.0693145548916531,
          -0.011354541029019454,
          -0.017175904824772294,
          -0.04888732913586794,
          -0.01533987820159234,
          0.018301407255195287,
          -0.01007065113765513,
          -0.03406038029129354,
          0.05489019520240815,
          -0.05700956078364992,
          -0.018688563096918773,
          -0.018883124991215385,
          0.0031207112567900124,
          -0.033067309124667876,
          0.012325635640631997,
          -0.014784801000551047,
          -0.014729174736128763,
          0.05033529332894548,
          -0.0038061248487192426,
          0.0020909861405646667,
          -0.01919537665824284,
          0.036497599447997124,
          0.06259945580058238,
          -0.04184433955000956,
          -0.05618633531069007,
          -0.013101714349753393,
          0.035375761080730504,
          -0.003080490710487442,
          0.06662609236191487,
          0.003691031010831133,
          0.00005808744566472809,
          0.058917262352230375,
          0.060666022565965094,
          0.041252410760711046,
          0.03203873842548258,
          0.06361825333433402,
          -0.05516559845176675,
          -0.006463748865468697,
          -0.02723560788001103,
          0.02807834096475346,
          -0.012783475154884007,
          -0.030009776289270793,
          0.0677857976542987,
          -0.018976241033819646,
          0.07013702969532834,
          -0.008741873694772468,
          -0.019454863652081118,
          -0.010362689075224163,
          -0.017848148754368805,
          -0.014922732160641047,
          -0.013611261433340613,
          -0.01546431231442785,
          0.050174661549790285,
          -0.008331521557146422,
          -0.035782204821855776,
          -0.05471854185816473,
          0.012757637679237807,
          -0.048553314770658176,
          0.005888971822474858,
          -0.0004894303344691905,
          -0.019908452662556926,
          -0.0399512456036388,
          0.07102710160257053,
          -0.03407999830898292,
          -0.020901816009550517,
          -0.022497114732438792,
          -0.05415308467423725,
          0.005254173116502388,
          -0.022668311591694912,
          -0.0008315882707625367,
          0.06887650951216157,
          -0.022336650683810886,
          -0.057078730766357694,
          0.007177424292188067,
          -0.02941773435661632,
          -0.004679281132646385,
          -0.015131143647271528,
          -0.06048615054181474,
          -0.046950453988247376,
          -0.017023964261444147,
          -0.04514782480638963,
          0.0547222829686282,
          0.04278652416413276,
          -0.015434699079454096,
          0.06672204228370988,
          0.03471373161480372,
          -0.021092954905992514,
          0.04961486134500597,
          0.054624553039663966,
          -0.04739831349680159,
          0.06355732789228236,
          -0.013705756140034518,
          0.03940629279411785,
          -0.05264904275138028,
          -0.058958205033228746,
          -0.03452524451832819,
          -0.02872062838464633,
          -0.021444648022674494,
          0.07284085585783409,
          0.05416205434383817,
          -0.051421989863013294,
          0.05533513138802752,
          0.002618443009006373,
          -0.056572277806486666,
          -0.014370846013039187,
          -0.0008781686233739942,
          0.015761767632417115,
          0.021925104463161545,
          0.04187488234640653,
          0.06147344258440264,
          0.02556304815615414,
          -0.022756266880642816,
          0.042217265424894186,
          -0.044069422705586545,
          -0.05234176786788304,
          -0.010342577171121557,
          0.04999089539778378,
          0.05104457496121243,
          0.056723603261607046,
          -0.017646865538245415,
          -0.024675847824413646,
          -0.023850411605843835,
          -0.02606233305264467,
          -0.05403204771215292,
          -0.047457423752382925,
          0.0018402517957682083,
          -0.002968255010699275,
          0.06325325623974473,
          0.06884487312688073,
          -0.05326883472904538,
          0.06069023354071366,
          0.0720123484435888,
          -0.020706569508606668,
          -0.01848930672808976,
          0.06434844467041216,
          -0.0457687807092785,
          0.054122506174793604,
          0.019613053409328365,
          0.05107448610378566,
          -0.054027595486357494,
          0.05232412850860807,
          0.05674319038418046,
          -0.036991595082188966,
          0.03718837078815117,
          -0.048857904993264416,
          0.06495906925464762,
          0.01902766805547669,
          -0.054482689219962514,
          0.048963399231187685,
          -0.037346560350918975,
          0.020807870369723525,
          -0.05046961826343575,
          -0.05302800751939189,
          0.07128309210036188,
          -0.05341665346784202,
          -0.05450572758890186,
          0.060783712030834394,
          0.04782449238826958,
          0.04531418252484842,
          0.041835528781036725,
          -0.027139534620078263,
          -0.024833176448567904,
          -0.041043917262585834,
          0.04374603428985107,
          0.03805212502251702,
          -0.02292497687928517,
          0.010131899746379777,
          -0.03710682038273403,
          -0.031230985865681692,
          -0.040852421907156475,
          0.012246667295336097,
          0.004902872980736339,
          0.06359278490330622,
          0.03709711073487808,
          0.06346097825764221,
          0.04893317721946607,
          0.042377511210134534,
          -0.011383194880059339,
          0.01742246532663087,
          0.05610200540775607,
          0.062382549206896606,
          0.05335975529491014,
          0.05227242690558156,
          -0.039928756279661685,
          -0.056607996703872746,
          -0.02653145907042724,
          -0.041750332575543884,
          0.07194118986130897,
          -0.013341886132165795,
          -0.05163862636365257,
          0.016295861160640697,
          -0.03460759063617224,
          0.05240237959508812,
          0.002092622860312097,
          -0.028274154457879595,
          -0.04928708591180438,
          0.05722052613738479
         ],
         "xaxis": "x",
         "y": [
          -0.04265548821704559,
          -0.03913137205686331,
          0.03869398427093339,
          -0.06379901557391252,
          0.0204963693622115,
          0.012778920356721613,
          0.040605746835513684,
          0.036322010390633416,
          0.04115225886687825,
          -0.016172708688434012,
          0.002986377826583228,
          -0.01910711939174412,
          0.06242601442047896,
          0.001626125270206555,
          0.04137858940972645,
          -0.050057966068040236,
          0.03448386454972838,
          0.042998167199123714,
          0.05572066818874818,
          0.007410882557322818,
          -0.011437247396864657,
          0.001293151277924477,
          0.04684002071296284,
          0.014149876972819855,
          0.0763069002483995,
          0.03190385083380449,
          -0.0012614034281829044,
          0.020230902158718606,
          -0.04018995410718994,
          -0.009849308360664517,
          0.002463471685203571,
          -0.020509415618792038,
          0.06481694360082067,
          -0.002786450549909227,
          -0.027624541406952603,
          0.00037285014898135284,
          0.06889319919901836,
          0.010345539209254613,
          -0.046973706593465586,
          0.06774454043359136,
          0.08166407190833623,
          0.024931482601460175,
          0.031904933858892905,
          0.07919037316304757,
          0.031457485583957875,
          0.007466404361207843,
          0.02852508179673856,
          0.005793180606885456,
          0.026006760372102096,
          -0.01057000088135271,
          -0.003220731767127968,
          0.06747057267937714,
          0.0009238981489521437,
          0.05773529547963362,
          0.038787806884422744,
          0.0891338637662958,
          0.018304247178731577,
          0.022208397701185614,
          0.04083020966418669,
          -0.01890368955245613,
          0.02537689429421422,
          0.009881601887741428,
          0.06591610685454864,
          -0.016936641449438117,
          0.06546793896724903,
          -0.024909379920857823,
          -0.024909379920857823,
          0.06756354688849513,
          0.026682549875375175,
          0.04131102319578773,
          0.047759973994311214,
          -0.010117054471105528,
          -0.037054469398093114,
          0.004744753373212121,
          0.008161698351843376,
          0.0063992324952313676,
          0.08358006419022523,
          -0.02038246544498183,
          0.002915197805569081,
          0.021848996620346128,
          0.011189748381655026,
          0.03616285745471049,
          0.05146044861588183,
          0.0977604066272522,
          -0.032761860059241824,
          -0.02644424596853195,
          0.014328726258273573,
          0.01607160160444635,
          0.046630331172492344,
          -0.04499674406080185,
          0.028696911760736164,
          0.016176181344353543,
          0.10120385874848176,
          -0.02484102154632733,
          -0.01745476693202089,
          0.019347826158773583,
          0.01609252430663423,
          0.032910540486163306,
          0.026023723724332065,
          0.02472965998370676,
          0.08959553051263561,
          0.012778920356721662,
          0.01759533348720398,
          -0.0331278678599615,
          0.0013538639205727915,
          0.032508516675932325,
          0.009397842826603789,
          0.046428257402994014,
          0.00948146599614677,
          0.04984955325528735,
          0.07590835760045875,
          0.07310317533941438,
          0.09740100527526986,
          0.09626413456409466,
          0.05885110868460164,
          0.002344219109243358,
          -0.001956738970719328,
          0.024405271329802195,
          -0.036903458416248466,
          -0.017664097130085425,
          0.01790071652617062,
          0.08922132805384074,
          0.005789195952651271,
          -0.06566888866772562,
          0.0657110729370673,
          0.07804803485218269,
          -0.03145806289951408,
          0.011559737371208386,
          0.019111479281019292,
          0.08252467399399378,
          0.0649598290633363,
          0.04186356450689077,
          0.0011638628364046852,
          0.058739068936706135,
          0.02440913416134988,
          0.005075238722846079,
          -0.006096741631295583,
          0.03830062715225279,
          0.05010043721115867,
          0.03124962780614447,
          0.0037012146924135236,
          0.021926824248662973,
          0.08570863560939658,
          0.07941554615874309,
          0.041352913006595354,
          0.011274945098833077,
          0.10365322673887312,
          0.026159816542681177,
          0.055222154379191646,
          0.03118757191236815,
          0.026116920574055784,
          0.06823652595674037,
          0.04491119789055801,
          -0.015277283531940118,
          0.0994649340617307,
          0.02146174953915951,
          0.054829044973565146,
          0.0063992324952313676,
          0.027541724230019077,
          -0.030673989380491797,
          -0.039765172589823906,
          0.05354946219866878,
          0.01580627616827465,
          0.003224241728162584,
          -0.03928824153033246,
          -0.010489467120162717,
          -0.017674652239551936,
          0.03119152327207527,
          0.023435634723946434,
          0.04735937369478951,
          0.03232640972121957,
          -0.00926889259463369,
          0.027467102945560155,
          0.020175606009126573,
          0.011815962503374765,
          0.09245960625335718,
          0.06617553027692162,
          0.012716987953264553,
          0.017465285291903564,
          -0.0331278678599615,
          0.03209193492115944,
          0.09371371752582097,
          0.028098236129230843,
          0.04679789503291759,
          0.020064438466159264,
          0.0025605833044662356,
          0.07386307732549414,
          0.03711187945985815,
          0.026350211020710626,
          0.03312250009426818,
          0.014516309639192992,
          0.03150627305962287,
          0.014030981785736583,
          -0.01629802890682979,
          0.08177031900558052,
          -0.04313506986588078,
          0.028120025318564484,
          0.07568842656477802,
          -0.05539596601743862,
          -0.053166039267433705,
          0.0706277861878312,
          0.04464643320012789,
          0.09450979798799901,
          0.012025308726081044,
          -0.007508528500434943,
          -0.03526318960553765,
          -0.013612977607468468,
          -0.002385726986506449,
          -0.015277283531940118,
          0.017931896996838087,
          -0.05766732901800274,
          0.001382188790691154,
          -0.03823926656012988,
          0.07264703376724263,
          0.06436359467442221,
          0.05523420108295094,
          -0.027448502890931356,
          0.04280429104408529,
          0.04016153445726538,
          0.02653788751542968,
          -0.0273189472316716,
          -0.02185751948788372,
          0.0606458347962192,
          -0.04549393265005575,
          0.020619031586653205,
          -0.03737225765478465,
          0.030553906907878577,
          0.03413691664418838,
          -0.051253133473355576,
          -0.02146247285768947,
          0.07147164536021508,
          -0.04001850086515497,
          -0.02454823539573451,
          0.0529817252959933,
          -0.005631070983917478,
          0.04476736331897246,
          -0.04043120299194071,
          0.0501878170972751,
          0.024976104086991163,
          0.06793815339505731,
          -0.02348562432272384,
          0.040408490739217345,
          0.062183201606184714,
          -0.0800765160677415,
          0.06478535162233177,
          0.02071741363884221,
          0.016437481623813595,
          0.03661424632654821,
          0.0552976217651545,
          0.08245890202071862,
          -0.03399838072278426,
          0.08306969320141273,
          0.06944976525210154,
          0.06462898413298339,
          0.05477686924986311,
          -0.06288164206244358,
          -0.08143977629122359,
          -0.0012218247004631842,
          0.02666594264804362,
          -0.045083367019270106,
          0.024539090610498065,
          -0.024838175796914785,
          -0.04440482817240836,
          0.07043087865465504,
          0.0355116226614228,
          0.009059470386732238,
          0.06938601476695966,
          -0.09096556104014554,
          -0.031673317895171464,
          0.06511775698624328,
          0.06316660792449881,
          -0.032587733326974906,
          -0.04215102095978557,
          -0.049949869946684884,
          0.04910020276093896,
          0.012227246599235003,
          -0.03001481594124962,
          -0.05864118130712391,
          -0.037054469398093114,
          0.025793055488031097,
          -0.028466652150603084,
          -0.03932434847471694,
          0.05324073975803275,
          -0.04508488442978583,
          0.049817804846968766,
          -0.030802810154042157,
          -0.05710341839999643,
          -0.0600406428719177,
          -0.03953642479412475,
          0.015536784485217387,
          0.0548651318783698,
          -0.029191683170432622,
          0.05907102869264175,
          -0.049376437968882,
          0.06791306516892456,
          -0.0298893985809916,
          -0.0504188800756145,
          0.05862440624441534,
          0.02585765701883745,
          0.08973703159561726,
          0.07263171863347882,
          0.03883248875488758,
          0.06152267493482361,
          -0.03608026300455566,
          0.08081923442703269,
          0.07430293335896204,
          0.08515482985891762,
          -0.05150563214541863,
          -0.04336391752589264,
          -0.0439890751883256,
          -0.03599733957553886,
          0.04208647053293527,
          0.06747257811483819,
          -0.03598760390929446,
          0.08639640076707197,
          -0.02221761058416233,
          0.07652262900800562,
          -0.05416009328329326,
          0.09002655318577325,
          -0.0062080272694767374,
          -0.0029428729964359342,
          -0.04414705701474918,
          0.001742278365407816,
          0.013647027425711137,
          -0.05295790945125241,
          -0.031528216847426606,
          0.08520574478402669,
          0.051045189680617616,
          0.03548413862187621,
          0.03573097933138864,
          0.03850960577308968,
          -0.01765926068458268,
          -0.029830077080481358,
          -0.03785864026507867,
          -0.02229418021869425,
          0.02759796086959917,
          0.04325820043206345,
          -0.07263424997799463,
          -0.044354239986932734,
          0.003909322973902835,
          -0.02821009431802183,
          0.00044974200828933807,
          -0.03498965678381379,
          -0.045113129382342756,
          -0.04117304765833017,
          0.031459087217944624,
          0.018938829286282467,
          0.002102660807496325,
          0.037625506522840683,
          -0.05215748245426914,
          -0.03533253274090158,
          -0.07295782064913188,
          0.04770823977371904,
          -0.037697443673746465,
          0.058473079392934994,
          -0.034945488815227105,
          -0.03176529229426855,
          -0.003125429468095674,
          0.06655768994212594,
          -0.05447569401087954,
          0.04748596674169236,
          -0.0422493413764605,
          0.023797423122825977,
          0.0063992324952313676,
          0.07475634594736913,
          -0.04059080293459526,
          0.07544169738114341,
          0.0823843272573078,
          0.04051777471283257,
          0.0740445017969996,
          -0.06328324863849395,
          0.048068922162339774,
          0.06517674496478627,
          0.02186024468566562,
          -0.04738822397080758,
          0.06779719788255532,
          -0.026040702725460066,
          -0.028785527214440946,
          -0.03952268672382172,
          -0.012416123658695972,
          0.06845094241802575,
          0.030623975718929528,
          0.008280101961006661,
          0.024315757412119183,
          -0.05792931103797812,
          -0.016575956521664017,
          0.05542056540970053,
          0.04950650452572245,
          -0.030488965913088,
          0.01692210997033273,
          -0.03313134357150529,
          -0.006701395433925338,
          0.045013971928815615,
          0.028884186178076886,
          -0.05477972581581578,
          0.010249484794718508,
          0.07973794607497672,
          0.0712423169097798,
          -0.03507150848935717,
          0.05477672339886386,
          0.08016677850365335,
          -0.024168414089729796,
          -0.03477104352870126,
          0.02060359631958996,
          0.040681289334043885,
          -0.06651238054941033,
          -0.030444155749085024,
          -0.032517534780434135,
          0.0430508723221007,
          -0.06416325073738029,
          0.00800876233394755,
          0.0430459922172647,
          -0.025072481666270855,
          -0.04017895681079819,
          -0.012035790116064203,
          -0.018107678501307185,
          -0.032594441099438515,
          0.006127004183552101,
          0.044538123286519765,
          -0.06196519212410947,
          -0.051704865561213724,
          0.02419490845981085,
          -0.03761902507814477,
          0.013127782945795289,
          -0.029931455587276938,
          -0.0345827992136796,
          -0.027381917770647256,
          0.05294540152044941,
          -0.04624009170097644,
          0.02236926996105265,
          -0.02042063484050459,
          -0.00937678329238233,
          0.023745992585419446,
          -0.05408645702674859,
          0.002782796081499377,
          0.021234737846324202,
          -0.04131674717049694,
          -0.00024096063668842908,
          -0.0327899737589871,
          0.004496264374817616,
          0.04554047363428451,
          0.06449906849935831,
          0.06761997144546475,
          -0.05303282579736308,
          -0.009754750350951268,
          -0.026457398044359256,
          -0.021686749991175022,
          0.0706426872444389,
          -0.017285764396933887,
          0.03739180536593463,
          0.062279034514823264,
          -0.01680582560501128,
          0.0716645930908715,
          0.018714182062541523,
          0.053911041991533216,
          0.05025200719535643,
          -0.03314154681098883,
          0.06346139938188151,
          0.06742442072716427,
          0.023575001722051195,
          0.010755585763385289,
          -0.03658849762672084,
          -0.01816816684251358,
          -0.0007119768845383119,
          -0.01654858893258707,
          0.06375108379286502,
          0.004156760726125096,
          0.04373522372480426,
          -0.020241047245396236,
          -0.01925313506927571,
          0.07506701447256892,
          0.00699700723433633,
          0.03769848595048905,
          -0.0000248339405719976,
          -0.036104291353359935,
          0.020311978607309582,
          0.007009946016518769,
          0.037954523010002156,
          -0.019415032456368907,
          -0.053778724404298,
          -0.028970270502899808,
          -0.04706157259742906,
          0.024241996149382692,
          0.04288121372129038,
          0.022938396924246002,
          0.026210150639588214,
          -0.004785305246265736,
          0.05763444951110311,
          -0.0025254968191460517,
          -0.0043653553209607645,
          0.011572832497090168,
          0.0756338264596876,
          0.05044177407808079,
          0.013260794320266766,
          -0.04377117656351945,
          0.00668055366773421,
          0.0693582349128518,
          -0.04080370281930972,
          0.009646653097709698,
          0.03741575777868437
         ],
         "yaxis": "y"
        }
       ],
       "layout": {
        "coloraxis": {
         "colorbar": {
          "title": {
           "text": "autumn_sales_indicator"
          }
         },
         "colorscale": [
          [
           0,
           "#0d0887"
          ],
          [
           0.1111111111111111,
           "#46039f"
          ],
          [
           0.2222222222222222,
           "#7201a8"
          ],
          [
           0.3333333333333333,
           "#9c179e"
          ],
          [
           0.4444444444444444,
           "#bd3786"
          ],
          [
           0.5555555555555556,
           "#d8576b"
          ],
          [
           0.6666666666666666,
           "#ed7953"
          ],
          [
           0.7777777777777778,
           "#fb9f3a"
          ],
          [
           0.8888888888888888,
           "#fdca26"
          ],
          [
           1,
           "#f0f921"
          ]
         ]
        },
        "legend": {
         "tracegroupgap": 0
        },
        "margin": {
         "t": 60
        },
        "template": {
         "data": {
          "bar": [
           {
            "error_x": {
             "color": "#2a3f5f"
            },
            "error_y": {
             "color": "#2a3f5f"
            },
            "marker": {
             "line": {
              "color": "#E5ECF6",
              "width": 0.5
             },
             "pattern": {
              "fillmode": "overlay",
              "size": 10,
              "solidity": 0.2
             }
            },
            "type": "bar"
           }
          ],
          "barpolar": [
           {
            "marker": {
             "line": {
              "color": "#E5ECF6",
              "width": 0.5
             },
             "pattern": {
              "fillmode": "overlay",
              "size": 10,
              "solidity": 0.2
             }
            },
            "type": "barpolar"
           }
          ],
          "carpet": [
           {
            "aaxis": {
             "endlinecolor": "#2a3f5f",
             "gridcolor": "white",
             "linecolor": "white",
             "minorgridcolor": "white",
             "startlinecolor": "#2a3f5f"
            },
            "baxis": {
             "endlinecolor": "#2a3f5f",
             "gridcolor": "white",
             "linecolor": "white",
             "minorgridcolor": "white",
             "startlinecolor": "#2a3f5f"
            },
            "type": "carpet"
           }
          ],
          "choropleth": [
           {
            "colorbar": {
             "outlinewidth": 0,
             "ticks": ""
            },
            "type": "choropleth"
           }
          ],
          "contour": [
           {
            "colorbar": {
             "outlinewidth": 0,
             "ticks": ""
            },
            "colorscale": [
             [
              0,
              "#0d0887"
             ],
             [
              0.1111111111111111,
              "#46039f"
             ],
             [
              0.2222222222222222,
              "#7201a8"
             ],
             [
              0.3333333333333333,
              "#9c179e"
             ],
             [
              0.4444444444444444,
              "#bd3786"
             ],
             [
              0.5555555555555556,
              "#d8576b"
             ],
             [
              0.6666666666666666,
              "#ed7953"
             ],
             [
              0.7777777777777778,
              "#fb9f3a"
             ],
             [
              0.8888888888888888,
              "#fdca26"
             ],
             [
              1,
              "#f0f921"
             ]
            ],
            "type": "contour"
           }
          ],
          "contourcarpet": [
           {
            "colorbar": {
             "outlinewidth": 0,
             "ticks": ""
            },
            "type": "contourcarpet"
           }
          ],
          "heatmap": [
           {
            "colorbar": {
             "outlinewidth": 0,
             "ticks": ""
            },
            "colorscale": [
             [
              0,
              "#0d0887"
             ],
             [
              0.1111111111111111,
              "#46039f"
             ],
             [
              0.2222222222222222,
              "#7201a8"
             ],
             [
              0.3333333333333333,
              "#9c179e"
             ],
             [
              0.4444444444444444,
              "#bd3786"
             ],
             [
              0.5555555555555556,
              "#d8576b"
             ],
             [
              0.6666666666666666,
              "#ed7953"
             ],
             [
              0.7777777777777778,
              "#fb9f3a"
             ],
             [
              0.8888888888888888,
              "#fdca26"
             ],
             [
              1,
              "#f0f921"
             ]
            ],
            "type": "heatmap"
           }
          ],
          "heatmapgl": [
           {
            "colorbar": {
             "outlinewidth": 0,
             "ticks": ""
            },
            "colorscale": [
             [
              0,
              "#0d0887"
             ],
             [
              0.1111111111111111,
              "#46039f"
             ],
             [
              0.2222222222222222,
              "#7201a8"
             ],
             [
              0.3333333333333333,
              "#9c179e"
             ],
             [
              0.4444444444444444,
              "#bd3786"
             ],
             [
              0.5555555555555556,
              "#d8576b"
             ],
             [
              0.6666666666666666,
              "#ed7953"
             ],
             [
              0.7777777777777778,
              "#fb9f3a"
             ],
             [
              0.8888888888888888,
              "#fdca26"
             ],
             [
              1,
              "#f0f921"
             ]
            ],
            "type": "heatmapgl"
           }
          ],
          "histogram": [
           {
            "marker": {
             "pattern": {
              "fillmode": "overlay",
              "size": 10,
              "solidity": 0.2
             }
            },
            "type": "histogram"
           }
          ],
          "histogram2d": [
           {
            "colorbar": {
             "outlinewidth": 0,
             "ticks": ""
            },
            "colorscale": [
             [
              0,
              "#0d0887"
             ],
             [
              0.1111111111111111,
              "#46039f"
             ],
             [
              0.2222222222222222,
              "#7201a8"
             ],
             [
              0.3333333333333333,
              "#9c179e"
             ],
             [
              0.4444444444444444,
              "#bd3786"
             ],
             [
              0.5555555555555556,
              "#d8576b"
             ],
             [
              0.6666666666666666,
              "#ed7953"
             ],
             [
              0.7777777777777778,
              "#fb9f3a"
             ],
             [
              0.8888888888888888,
              "#fdca26"
             ],
             [
              1,
              "#f0f921"
             ]
            ],
            "type": "histogram2d"
           }
          ],
          "histogram2dcontour": [
           {
            "colorbar": {
             "outlinewidth": 0,
             "ticks": ""
            },
            "colorscale": [
             [
              0,
              "#0d0887"
             ],
             [
              0.1111111111111111,
              "#46039f"
             ],
             [
              0.2222222222222222,
              "#7201a8"
             ],
             [
              0.3333333333333333,
              "#9c179e"
             ],
             [
              0.4444444444444444,
              "#bd3786"
             ],
             [
              0.5555555555555556,
              "#d8576b"
             ],
             [
              0.6666666666666666,
              "#ed7953"
             ],
             [
              0.7777777777777778,
              "#fb9f3a"
             ],
             [
              0.8888888888888888,
              "#fdca26"
             ],
             [
              1,
              "#f0f921"
             ]
            ],
            "type": "histogram2dcontour"
           }
          ],
          "mesh3d": [
           {
            "colorbar": {
             "outlinewidth": 0,
             "ticks": ""
            },
            "type": "mesh3d"
           }
          ],
          "parcoords": [
           {
            "line": {
             "colorbar": {
              "outlinewidth": 0,
              "ticks": ""
             }
            },
            "type": "parcoords"
           }
          ],
          "pie": [
           {
            "automargin": true,
            "type": "pie"
           }
          ],
          "scatter": [
           {
            "marker": {
             "colorbar": {
              "outlinewidth": 0,
              "ticks": ""
             }
            },
            "type": "scatter"
           }
          ],
          "scatter3d": [
           {
            "line": {
             "colorbar": {
              "outlinewidth": 0,
              "ticks": ""
             }
            },
            "marker": {
             "colorbar": {
              "outlinewidth": 0,
              "ticks": ""
             }
            },
            "type": "scatter3d"
           }
          ],
          "scattercarpet": [
           {
            "marker": {
             "colorbar": {
              "outlinewidth": 0,
              "ticks": ""
             }
            },
            "type": "scattercarpet"
           }
          ],
          "scattergeo": [
           {
            "marker": {
             "colorbar": {
              "outlinewidth": 0,
              "ticks": ""
             }
            },
            "type": "scattergeo"
           }
          ],
          "scattergl": [
           {
            "marker": {
             "colorbar": {
              "outlinewidth": 0,
              "ticks": ""
             }
            },
            "type": "scattergl"
           }
          ],
          "scattermapbox": [
           {
            "marker": {
             "colorbar": {
              "outlinewidth": 0,
              "ticks": ""
             }
            },
            "type": "scattermapbox"
           }
          ],
          "scatterpolar": [
           {
            "marker": {
             "colorbar": {
              "outlinewidth": 0,
              "ticks": ""
             }
            },
            "type": "scatterpolar"
           }
          ],
          "scatterpolargl": [
           {
            "marker": {
             "colorbar": {
              "outlinewidth": 0,
              "ticks": ""
             }
            },
            "type": "scatterpolargl"
           }
          ],
          "scatterternary": [
           {
            "marker": {
             "colorbar": {
              "outlinewidth": 0,
              "ticks": ""
             }
            },
            "type": "scatterternary"
           }
          ],
          "surface": [
           {
            "colorbar": {
             "outlinewidth": 0,
             "ticks": ""
            },
            "colorscale": [
             [
              0,
              "#0d0887"
             ],
             [
              0.1111111111111111,
              "#46039f"
             ],
             [
              0.2222222222222222,
              "#7201a8"
             ],
             [
              0.3333333333333333,
              "#9c179e"
             ],
             [
              0.4444444444444444,
              "#bd3786"
             ],
             [
              0.5555555555555556,
              "#d8576b"
             ],
             [
              0.6666666666666666,
              "#ed7953"
             ],
             [
              0.7777777777777778,
              "#fb9f3a"
             ],
             [
              0.8888888888888888,
              "#fdca26"
             ],
             [
              1,
              "#f0f921"
             ]
            ],
            "type": "surface"
           }
          ],
          "table": [
           {
            "cells": {
             "fill": {
              "color": "#EBF0F8"
             },
             "line": {
              "color": "white"
             }
            },
            "header": {
             "fill": {
              "color": "#C8D4E3"
             },
             "line": {
              "color": "white"
             }
            },
            "type": "table"
           }
          ]
         },
         "layout": {
          "annotationdefaults": {
           "arrowcolor": "#2a3f5f",
           "arrowhead": 0,
           "arrowwidth": 1
          },
          "autotypenumbers": "strict",
          "coloraxis": {
           "colorbar": {
            "outlinewidth": 0,
            "ticks": ""
           }
          },
          "colorscale": {
           "diverging": [
            [
             0,
             "#8e0152"
            ],
            [
             0.1,
             "#c51b7d"
            ],
            [
             0.2,
             "#de77ae"
            ],
            [
             0.3,
             "#f1b6da"
            ],
            [
             0.4,
             "#fde0ef"
            ],
            [
             0.5,
             "#f7f7f7"
            ],
            [
             0.6,
             "#e6f5d0"
            ],
            [
             0.7,
             "#b8e186"
            ],
            [
             0.8,
             "#7fbc41"
            ],
            [
             0.9,
             "#4d9221"
            ],
            [
             1,
             "#276419"
            ]
           ],
           "sequential": [
            [
             0,
             "#0d0887"
            ],
            [
             0.1111111111111111,
             "#46039f"
            ],
            [
             0.2222222222222222,
             "#7201a8"
            ],
            [
             0.3333333333333333,
             "#9c179e"
            ],
            [
             0.4444444444444444,
             "#bd3786"
            ],
            [
             0.5555555555555556,
             "#d8576b"
            ],
            [
             0.6666666666666666,
             "#ed7953"
            ],
            [
             0.7777777777777778,
             "#fb9f3a"
            ],
            [
             0.8888888888888888,
             "#fdca26"
            ],
            [
             1,
             "#f0f921"
            ]
           ],
           "sequentialminus": [
            [
             0,
             "#0d0887"
            ],
            [
             0.1111111111111111,
             "#46039f"
            ],
            [
             0.2222222222222222,
             "#7201a8"
            ],
            [
             0.3333333333333333,
             "#9c179e"
            ],
            [
             0.4444444444444444,
             "#bd3786"
            ],
            [
             0.5555555555555556,
             "#d8576b"
            ],
            [
             0.6666666666666666,
             "#ed7953"
            ],
            [
             0.7777777777777778,
             "#fb9f3a"
            ],
            [
             0.8888888888888888,
             "#fdca26"
            ],
            [
             1,
             "#f0f921"
            ]
           ]
          },
          "colorway": [
           "#636efa",
           "#EF553B",
           "#00cc96",
           "#ab63fa",
           "#FFA15A",
           "#19d3f3",
           "#FF6692",
           "#B6E880",
           "#FF97FF",
           "#FECB52"
          ],
          "font": {
           "color": "#2a3f5f"
          },
          "geo": {
           "bgcolor": "white",
           "lakecolor": "white",
           "landcolor": "#E5ECF6",
           "showlakes": true,
           "showland": true,
           "subunitcolor": "white"
          },
          "hoverlabel": {
           "align": "left"
          },
          "hovermode": "closest",
          "mapbox": {
           "style": "light"
          },
          "paper_bgcolor": "white",
          "plot_bgcolor": "#E5ECF6",
          "polar": {
           "angularaxis": {
            "gridcolor": "white",
            "linecolor": "white",
            "ticks": ""
           },
           "bgcolor": "#E5ECF6",
           "radialaxis": {
            "gridcolor": "white",
            "linecolor": "white",
            "ticks": ""
           }
          },
          "scene": {
           "xaxis": {
            "backgroundcolor": "#E5ECF6",
            "gridcolor": "white",
            "gridwidth": 2,
            "linecolor": "white",
            "showbackground": true,
            "ticks": "",
            "zerolinecolor": "white"
           },
           "yaxis": {
            "backgroundcolor": "#E5ECF6",
            "gridcolor": "white",
            "gridwidth": 2,
            "linecolor": "white",
            "showbackground": true,
            "ticks": "",
            "zerolinecolor": "white"
           },
           "zaxis": {
            "backgroundcolor": "#E5ECF6",
            "gridcolor": "white",
            "gridwidth": 2,
            "linecolor": "white",
            "showbackground": true,
            "ticks": "",
            "zerolinecolor": "white"
           }
          },
          "shapedefaults": {
           "line": {
            "color": "#2a3f5f"
           }
          },
          "ternary": {
           "aaxis": {
            "gridcolor": "white",
            "linecolor": "white",
            "ticks": ""
           },
           "baxis": {
            "gridcolor": "white",
            "linecolor": "white",
            "ticks": ""
           },
           "bgcolor": "#E5ECF6",
           "caxis": {
            "gridcolor": "white",
            "linecolor": "white",
            "ticks": ""
           }
          },
          "title": {
           "x": 0.05
          },
          "xaxis": {
           "automargin": true,
           "gridcolor": "white",
           "linecolor": "white",
           "ticks": "",
           "title": {
            "standoff": 15
           },
           "zerolinecolor": "white",
           "zerolinewidth": 2
          },
          "yaxis": {
           "automargin": true,
           "gridcolor": "white",
           "linecolor": "white",
           "ticks": "",
           "title": {
            "standoff": 15
           },
           "zerolinecolor": "white",
           "zerolinewidth": 2
          }
         }
        },
        "xaxis": {
         "anchor": "y",
         "domain": [
          0,
          1
         ],
         "title": {
          "text": "PC1"
         }
        },
        "yaxis": {
         "anchor": "x",
         "domain": [
          0,
          1
         ],
         "title": {
          "text": "PC2"
         }
        }
       }
      }
     },
     "metadata": {},
     "output_type": "display_data"
    }
   ],
   "source": [
    "from sklearn.decomposition import PCA\n",
    "from sklearn.preprocessing import StandardScaler\n",
    "\n",
    "feat_cols = [col for col in dfgrp2.columns if col != 'ym_date']\n",
    "\n",
    "df_pca = StandardScaler().fit_transform(dfgrp2[feat_cols])\n",
    "model_pca = PCA(n_components=5)\n",
    "model_pca.fit(df_pca)\n",
    "feature = model_pca.transform(df_pca)\n",
    "\n",
    "df_eigen = model_pca.components_.T\n",
    "df_eigen = pd.DataFrame(df_eigen,\n",
    "                        index=None,\n",
    "                        columns=['PC1','PC2','PC3','PC4','PC5'])\n",
    "df_eigen['idxgrp_idx_prdtyp'] = feat_cols\n",
    "df_eigen = pd.merge(\n",
    "    df_eigen,\n",
    "    dfgrp2.corr()[['Ladieswear_Ladieswear_Jacket']].reset_index().rename(columns={'Ladieswear_Ladieswear_Jacket': 'autumn_sales_indicator'}),\n",
    "    on='idxgrp_idx_prdtyp',\n",
    "    how='left'\n",
    ")\n",
    "px.scatter(df_eigen, x='PC1', y='PC2', hover_name='idxgrp_idx_prdtyp', color='autumn_sales_indicator')"
   ]
  },
  {
   "cell_type": "code",
   "execution_count": 18,
   "metadata": {},
   "outputs": [
    {
     "data": {
      "application/vnd.plotly.v1+json": {
       "config": {
        "plotlyServerURL": "https://plot.ly"
       },
       "data": [
        {
         "hovertemplate": "<b>%{hovertext}</b><br><br>PC1=%{x}<br>PC2=%{y}<br>product_seasonal_type=%{marker.color}<extra></extra>",
         "hovertext": [
          "Baby/Children_Baby Sizes 50-98_Accessories set",
          "Baby/Children_Baby Sizes 50-98_Baby Bib",
          "Baby/Children_Baby Sizes 50-98_Ballerinas",
          "Baby/Children_Baby Sizes 50-98_Beanie",
          "Baby/Children_Baby Sizes 50-98_Belt",
          "Baby/Children_Baby Sizes 50-98_Blanket",
          "Baby/Children_Baby Sizes 50-98_Blouse",
          "Baby/Children_Baby Sizes 50-98_Bodysuit",
          "Baby/Children_Baby Sizes 50-98_Bootie",
          "Baby/Children_Baby Sizes 50-98_Boots",
          "Baby/Children_Baby Sizes 50-98_Bucket hat",
          "Baby/Children_Baby Sizes 50-98_Cap",
          "Baby/Children_Baby Sizes 50-98_Cap/peaked",
          "Baby/Children_Baby Sizes 50-98_Cardigan",
          "Baby/Children_Baby Sizes 50-98_Coat",
          "Baby/Children_Baby Sizes 50-98_Costumes",
          "Baby/Children_Baby Sizes 50-98_Cushion",
          "Baby/Children_Baby Sizes 50-98_Dress",
          "Baby/Children_Baby Sizes 50-98_Dungarees",
          "Baby/Children_Baby Sizes 50-98_Flat shoe",
          "Baby/Children_Baby Sizes 50-98_Garment Set",
          "Baby/Children_Baby Sizes 50-98_Gloves",
          "Baby/Children_Baby Sizes 50-98_Hair/alice band",
          "Baby/Children_Baby Sizes 50-98_Hat/beanie",
          "Baby/Children_Baby Sizes 50-98_Hat/brim",
          "Baby/Children_Baby Sizes 50-98_Hoodie",
          "Baby/Children_Baby Sizes 50-98_Jacket",
          "Baby/Children_Baby Sizes 50-98_Jumpsuit/Playsuit",
          "Baby/Children_Baby Sizes 50-98_Leggings/Tights",
          "Baby/Children_Baby Sizes 50-98_Moccasins",
          "Baby/Children_Baby Sizes 50-98_Night gown",
          "Baby/Children_Baby Sizes 50-98_Other accessories",
          "Baby/Children_Baby Sizes 50-98_Other shoe",
          "Baby/Children_Baby Sizes 50-98_Outdoor Waistcoat",
          "Baby/Children_Baby Sizes 50-98_Outdoor overall",
          "Baby/Children_Baby Sizes 50-98_Outdoor trousers",
          "Baby/Children_Baby Sizes 50-98_Polo shirt",
          "Baby/Children_Baby Sizes 50-98_Pyjama jumpsuit/playsuit",
          "Baby/Children_Baby Sizes 50-98_Pyjama set",
          "Baby/Children_Baby Sizes 50-98_Robe",
          "Baby/Children_Baby Sizes 50-98_Sandals",
          "Baby/Children_Baby Sizes 50-98_Scarf",
          "Baby/Children_Baby Sizes 50-98_Shirt",
          "Baby/Children_Baby Sizes 50-98_Shorts",
          "Baby/Children_Baby Sizes 50-98_Skirt",
          "Baby/Children_Baby Sizes 50-98_Sleep Bag",
          "Baby/Children_Baby Sizes 50-98_Sleeping sack",
          "Baby/Children_Baby Sizes 50-98_Slippers",
          "Baby/Children_Baby Sizes 50-98_Sneakers",
          "Baby/Children_Baby Sizes 50-98_Socks",
          "Baby/Children_Baby Sizes 50-98_Soft Toys",
          "Baby/Children_Baby Sizes 50-98_Sunglasses",
          "Baby/Children_Baby Sizes 50-98_Sweater",
          "Baby/Children_Baby Sizes 50-98_Swimsuit",
          "Baby/Children_Baby Sizes 50-98_Swimwear bottom",
          "Baby/Children_Baby Sizes 50-98_T-shirt",
          "Baby/Children_Baby Sizes 50-98_Tailored Waistcoat",
          "Baby/Children_Baby Sizes 50-98_Tie",
          "Baby/Children_Baby Sizes 50-98_Top",
          "Baby/Children_Baby Sizes 50-98_Towel",
          "Baby/Children_Baby Sizes 50-98_Trousers",
          "Baby/Children_Baby Sizes 50-98_Underwear Tights",
          "Baby/Children_Baby Sizes 50-98_Underwear body",
          "Baby/Children_Baby Sizes 50-98_Unknown",
          "Baby/Children_Baby Sizes 50-98_Vest top",
          "Baby/Children_Children Accessories, Swimwear_Alice band",
          "Baby/Children_Children Accessories, Swimwear_Backpack",
          "Baby/Children_Children Accessories, Swimwear_Bag",
          "Baby/Children_Children Accessories, Swimwear_Ballerinas",
          "Baby/Children_Children Accessories, Swimwear_Belt",
          "Baby/Children_Children Accessories, Swimwear_Bikini top",
          "Baby/Children_Children Accessories, Swimwear_Bodysuit",
          "Baby/Children_Children Accessories, Swimwear_Bootie",
          "Baby/Children_Children Accessories, Swimwear_Boots",
          "Baby/Children_Children Accessories, Swimwear_Bracelet",
          "Baby/Children_Children Accessories, Swimwear_Bumbag",
          "Baby/Children_Children Accessories, Swimwear_Cap/peaked",
          "Baby/Children_Children Accessories, Swimwear_Chem. cosmetics",
          "Baby/Children_Children Accessories, Swimwear_Costumes",
          "Baby/Children_Children Accessories, Swimwear_Dress",
          "Baby/Children_Children Accessories, Swimwear_Dungarees",
          "Baby/Children_Children Accessories, Swimwear_Fine cosmetics",
          "Baby/Children_Children Accessories, Swimwear_Flat shoe",
          "Baby/Children_Children Accessories, Swimwear_Flip flop",
          "Baby/Children_Children Accessories, Swimwear_Garment Set",
          "Baby/Children_Children Accessories, Swimwear_Giftbox",
          "Baby/Children_Children Accessories, Swimwear_Gloves",
          "Baby/Children_Children Accessories, Swimwear_Hair clip",
          "Baby/Children_Children Accessories, Swimwear_Hair string",
          "Baby/Children_Children Accessories, Swimwear_Hair ties",
          "Baby/Children_Children Accessories, Swimwear_Hair/alice band",
          "Baby/Children_Children Accessories, Swimwear_Hat/beanie",
          "Baby/Children_Children Accessories, Swimwear_Hat/brim",
          "Baby/Children_Children Accessories, Swimwear_Jacket",
          "Baby/Children_Children Accessories, Swimwear_Jumpsuit/Playsuit",
          "Baby/Children_Children Accessories, Swimwear_Leg warmers",
          "Baby/Children_Children Accessories, Swimwear_Leggings/Tights",
          "Baby/Children_Children Accessories, Swimwear_Necklace",
          "Baby/Children_Children Accessories, Swimwear_Other accessories",
          "Baby/Children_Children Accessories, Swimwear_Other shoe",
          "Baby/Children_Children Accessories, Swimwear_Sandals",
          "Baby/Children_Children Accessories, Swimwear_Sarong",
          "Baby/Children_Children Accessories, Swimwear_Scarf",
          "Baby/Children_Children Accessories, Swimwear_Shirt",
          "Baby/Children_Children Accessories, Swimwear_Shorts",
          "Baby/Children_Children Accessories, Swimwear_Skirt",
          "Baby/Children_Children Accessories, Swimwear_Slippers",
          "Baby/Children_Children Accessories, Swimwear_Sneakers",
          "Baby/Children_Children Accessories, Swimwear_Socks",
          "Baby/Children_Children Accessories, Swimwear_Soft Toys",
          "Baby/Children_Children Accessories, Swimwear_Sunglasses",
          "Baby/Children_Children Accessories, Swimwear_Swimsuit",
          "Baby/Children_Children Accessories, Swimwear_Swimwear bottom",
          "Baby/Children_Children Accessories, Swimwear_Swimwear set",
          "Baby/Children_Children Accessories, Swimwear_Swimwear top",
          "Baby/Children_Children Accessories, Swimwear_T-shirt",
          "Baby/Children_Children Accessories, Swimwear_Tie",
          "Baby/Children_Children Accessories, Swimwear_Top",
          "Baby/Children_Children Accessories, Swimwear_Unknown",
          "Baby/Children_Children Accessories, Swimwear_Waterbottle",
          "Baby/Children_Children Sizes 134-170_Blazer",
          "Baby/Children_Children Sizes 134-170_Blouse",
          "Baby/Children_Children Sizes 134-170_Cardigan",
          "Baby/Children_Children Sizes 134-170_Coat",
          "Baby/Children_Children Sizes 134-170_Dress",
          "Baby/Children_Children Sizes 134-170_Dungarees",
          "Baby/Children_Children Sizes 134-170_Garment Set",
          "Baby/Children_Children Sizes 134-170_Hoodie",
          "Baby/Children_Children Sizes 134-170_Jacket",
          "Baby/Children_Children Sizes 134-170_Jumpsuit/Playsuit",
          "Baby/Children_Children Sizes 134-170_Kids Underwear top",
          "Baby/Children_Children Sizes 134-170_Leggings/Tights",
          "Baby/Children_Children Sizes 134-170_Long John",
          "Baby/Children_Children Sizes 134-170_Night gown",
          "Baby/Children_Children Sizes 134-170_Outdoor Waistcoat",
          "Baby/Children_Children Sizes 134-170_Outdoor trousers",
          "Baby/Children_Children Sizes 134-170_Polo shirt",
          "Baby/Children_Children Sizes 134-170_Pyjama bottom",
          "Baby/Children_Children Sizes 134-170_Pyjama jumpsuit/playsuit",
          "Baby/Children_Children Sizes 134-170_Pyjama set",
          "Baby/Children_Children Sizes 134-170_Robe",
          "Baby/Children_Children Sizes 134-170_Shirt",
          "Baby/Children_Children Sizes 134-170_Shorts",
          "Baby/Children_Children Sizes 134-170_Skirt",
          "Baby/Children_Children Sizes 134-170_Socks",
          "Baby/Children_Children Sizes 134-170_Sweater",
          "Baby/Children_Children Sizes 134-170_T-shirt",
          "Baby/Children_Children Sizes 134-170_Tailored Waistcoat",
          "Baby/Children_Children Sizes 134-170_Top",
          "Baby/Children_Children Sizes 134-170_Trousers",
          "Baby/Children_Children Sizes 134-170_Underwear Tights",
          "Baby/Children_Children Sizes 134-170_Underwear bottom",
          "Baby/Children_Children Sizes 134-170_Underwear set",
          "Baby/Children_Children Sizes 134-170_Unknown",
          "Baby/Children_Children Sizes 134-170_Vest top",
          "Baby/Children_Children Sizes 92-140_Blazer",
          "Baby/Children_Children Sizes 92-140_Blouse",
          "Baby/Children_Children Sizes 92-140_Cap/peaked",
          "Baby/Children_Children Sizes 92-140_Cardigan",
          "Baby/Children_Children Sizes 92-140_Coat",
          "Baby/Children_Children Sizes 92-140_Costumes",
          "Baby/Children_Children Sizes 92-140_Dress",
          "Baby/Children_Children Sizes 92-140_Dungarees",
          "Baby/Children_Children Sizes 92-140_Garment Set",
          "Baby/Children_Children Sizes 92-140_Gloves",
          "Baby/Children_Children Sizes 92-140_Hair/alice band",
          "Baby/Children_Children Sizes 92-140_Hat/beanie",
          "Baby/Children_Children Sizes 92-140_Hoodie",
          "Baby/Children_Children Sizes 92-140_Jacket",
          "Baby/Children_Children Sizes 92-140_Jumpsuit/Playsuit",
          "Baby/Children_Children Sizes 92-140_Leggings/Tights",
          "Baby/Children_Children Sizes 92-140_Long John",
          "Baby/Children_Children Sizes 92-140_Night gown",
          "Baby/Children_Children Sizes 92-140_Outdoor Waistcoat",
          "Baby/Children_Children Sizes 92-140_Outdoor trousers",
          "Baby/Children_Children Sizes 92-140_Polo shirt",
          "Baby/Children_Children Sizes 92-140_Pyjama jumpsuit/playsuit",
          "Baby/Children_Children Sizes 92-140_Pyjama set",
          "Baby/Children_Children Sizes 92-140_Robe",
          "Baby/Children_Children Sizes 92-140_Scarf",
          "Baby/Children_Children Sizes 92-140_Shirt",
          "Baby/Children_Children Sizes 92-140_Shorts",
          "Baby/Children_Children Sizes 92-140_Skirt",
          "Baby/Children_Children Sizes 92-140_Socks",
          "Baby/Children_Children Sizes 92-140_Sweater",
          "Baby/Children_Children Sizes 92-140_Swimwear top",
          "Baby/Children_Children Sizes 92-140_T-shirt",
          "Baby/Children_Children Sizes 92-140_Tailored Waistcoat",
          "Baby/Children_Children Sizes 92-140_Top",
          "Baby/Children_Children Sizes 92-140_Trousers",
          "Baby/Children_Children Sizes 92-140_Underwear Tights",
          "Baby/Children_Children Sizes 92-140_Underwear bottom",
          "Baby/Children_Children Sizes 92-140_Underwear set",
          "Baby/Children_Children Sizes 92-140_Unknown",
          "Baby/Children_Children Sizes 92-140_Vest top",
          "Divided_Divided_Backpack",
          "Divided_Divided_Bag",
          "Divided_Divided_Ballerinas",
          "Divided_Divided_Beanie",
          "Divided_Divided_Belt",
          "Divided_Divided_Bikini top",
          "Divided_Divided_Blazer",
          "Divided_Divided_Blouse",
          "Divided_Divided_Bodysuit",
          "Divided_Divided_Boots",
          "Divided_Divided_Bra",
          "Divided_Divided_Bracelet",
          "Divided_Divided_Bucket hat",
          "Divided_Divided_Cap",
          "Divided_Divided_Cap/peaked",
          "Divided_Divided_Cardigan",
          "Divided_Divided_Coat",
          "Divided_Divided_Cross-body bag",
          "Divided_Divided_Dress",
          "Divided_Divided_Dungarees",
          "Divided_Divided_Earring",
          "Divided_Divided_Felt hat",
          "Divided_Divided_Flat shoe",
          "Divided_Divided_Flip flop",
          "Divided_Divided_Giftbox",
          "Divided_Divided_Gloves",
          "Divided_Divided_Hair clip",
          "Divided_Divided_Hair string",
          "Divided_Divided_Hair ties",
          "Divided_Divided_Hair/alice band",
          "Divided_Divided_Hat/beanie",
          "Divided_Divided_Hat/brim",
          "Divided_Divided_Heels",
          "Divided_Divided_Hoodie",
          "Divided_Divided_Jacket",
          "Divided_Divided_Jumpsuit/Playsuit",
          "Divided_Divided_Leggings/Tights",
          "Divided_Divided_Necklace",
          "Divided_Divided_Other accessories",
          "Divided_Divided_Outdoor Waistcoat",
          "Divided_Divided_Outdoor trousers",
          "Divided_Divided_Polo shirt",
          "Divided_Divided_Pumps",
          "Divided_Divided_Ring",
          "Divided_Divided_Sandals",
          "Divided_Divided_Scarf",
          "Divided_Divided_Shirt",
          "Divided_Divided_Shorts",
          "Divided_Divided_Shoulder bag",
          "Divided_Divided_Skirt",
          "Divided_Divided_Slippers",
          "Divided_Divided_Sneakers",
          "Divided_Divided_Socks",
          "Divided_Divided_Straw hat",
          "Divided_Divided_Sunglasses",
          "Divided_Divided_Sweater",
          "Divided_Divided_Swimsuit",
          "Divided_Divided_Swimwear bottom",
          "Divided_Divided_T-shirt",
          "Divided_Divided_Tailored Waistcoat",
          "Divided_Divided_Top",
          "Divided_Divided_Tote bag",
          "Divided_Divided_Trousers",
          "Divided_Divided_Umbrella",
          "Divided_Divided_Underwear Tights",
          "Divided_Divided_Underwear bottom",
          "Divided_Divided_Underwear set",
          "Divided_Divided_Unknown",
          "Divided_Divided_Vest top",
          "Divided_Divided_Wallet",
          "Divided_Divided_Waterbottle",
          "Divided_Divided_Wedge",
          "Divided_Divided_Weekend/Gym bag",
          "Ladieswear_Ladies Accessories_Alice band",
          "Ladieswear_Ladies Accessories_Bag",
          "Ladieswear_Ladies Accessories_Ballerinas",
          "Ladieswear_Ladies Accessories_Belt",
          "Ladieswear_Ladies Accessories_Bootie",
          "Ladieswear_Ladies Accessories_Boots",
          "Ladieswear_Ladies Accessories_Bracelet",
          "Ladieswear_Ladies Accessories_Cap/peaked",
          "Ladieswear_Ladies Accessories_Cross-body bag",
          "Ladieswear_Ladies Accessories_Dog Wear",
          "Ladieswear_Ladies Accessories_Dog wear",
          "Ladieswear_Ladies Accessories_Earring",
          "Ladieswear_Ladies Accessories_Earrings",
          "Ladieswear_Ladies Accessories_Felt hat",
          "Ladieswear_Ladies Accessories_Flat shoe",
          "Ladieswear_Ladies Accessories_Flat shoes",
          "Ladieswear_Ladies Accessories_Flip flop",
          "Ladieswear_Ladies Accessories_Gloves",
          "Ladieswear_Ladies Accessories_Hair clip",
          "Ladieswear_Ladies Accessories_Hair string",
          "Ladieswear_Ladies Accessories_Hair ties",
          "Ladieswear_Ladies Accessories_Hair/alice band",
          "Ladieswear_Ladies Accessories_Hairband",
          "Ladieswear_Ladies Accessories_Hat/beanie",
          "Ladieswear_Ladies Accessories_Hat/brim",
          "Ladieswear_Ladies Accessories_Headband",
          "Ladieswear_Ladies Accessories_Heeled sandals",
          "Ladieswear_Ladies Accessories_Heels",
          "Ladieswear_Ladies Accessories_Mobile case",
          "Ladieswear_Ladies Accessories_Necklace",
          "Ladieswear_Ladies Accessories_Other accessories",
          "Ladieswear_Ladies Accessories_Other shoe",
          "Ladieswear_Ladies Accessories_Pumps",
          "Ladieswear_Ladies Accessories_Ring",
          "Ladieswear_Ladies Accessories_Sandals",
          "Ladieswear_Ladies Accessories_Scarf",
          "Ladieswear_Ladies Accessories_Slippers",
          "Ladieswear_Ladies Accessories_Sneakers",
          "Ladieswear_Ladies Accessories_Sunglasses",
          "Ladieswear_Ladies Accessories_Top",
          "Ladieswear_Ladies Accessories_Umbrella",
          "Ladieswear_Ladies Accessories_Unknown",
          "Ladieswear_Ladies Accessories_Wallet",
          "Ladieswear_Ladies Accessories_Watch",
          "Ladieswear_Ladies Accessories_Wedge",
          "Ladieswear_Ladies Accessories_Wireless earphone case",
          "Ladieswear_Ladieswear_Bag",
          "Ladieswear_Ladieswear_Belt",
          "Ladieswear_Ladieswear_Bikini top",
          "Ladieswear_Ladieswear_Blazer",
          "Ladieswear_Ladieswear_Blouse",
          "Ladieswear_Ladieswear_Bodysuit",
          "Ladieswear_Ladieswear_Boots",
          "Ladieswear_Ladieswear_Bra",
          "Ladieswear_Ladieswear_Bracelet",
          "Ladieswear_Ladieswear_Cap/peaked",
          "Ladieswear_Ladieswear_Cardigan",
          "Ladieswear_Ladieswear_Coat",
          "Ladieswear_Ladieswear_Costumes",
          "Ladieswear_Ladieswear_Dress",
          "Ladieswear_Ladieswear_Dungarees",
          "Ladieswear_Ladieswear_Earring",
          "Ladieswear_Ladieswear_Garment Set",
          "Ladieswear_Ladieswear_Gloves",
          "Ladieswear_Ladieswear_Hair clip",
          "Ladieswear_Ladieswear_Hair/alice band",
          "Ladieswear_Ladieswear_Hat/beanie",
          "Ladieswear_Ladieswear_Hat/brim",
          "Ladieswear_Ladieswear_Heeled sandals",
          "Ladieswear_Ladieswear_Hoodie",
          "Ladieswear_Ladieswear_Jacket",
          "Ladieswear_Ladieswear_Jumpsuit/Playsuit",
          "Ladieswear_Ladieswear_Leggings/Tights",
          "Ladieswear_Ladieswear_Marker pen",
          "Ladieswear_Ladieswear_Necklace",
          "Ladieswear_Ladieswear_Night gown",
          "Ladieswear_Ladieswear_Other accessories",
          "Ladieswear_Ladieswear_Outdoor Waistcoat",
          "Ladieswear_Ladieswear_Outdoor trousers",
          "Ladieswear_Ladieswear_Polo shirt",
          "Ladieswear_Ladieswear_Pumps",
          "Ladieswear_Ladieswear_Pyjama bottom",
          "Ladieswear_Ladieswear_Pyjama jumpsuit/playsuit",
          "Ladieswear_Ladieswear_Pyjama set",
          "Ladieswear_Ladieswear_Ring",
          "Ladieswear_Ladieswear_Robe",
          "Ladieswear_Ladieswear_Sandals",
          "Ladieswear_Ladieswear_Scarf",
          "Ladieswear_Ladieswear_Sewing kit",
          "Ladieswear_Ladieswear_Shirt",
          "Ladieswear_Ladieswear_Shorts",
          "Ladieswear_Ladieswear_Side table",
          "Ladieswear_Ladieswear_Skirt",
          "Ladieswear_Ladieswear_Slippers",
          "Ladieswear_Ladieswear_Socks",
          "Ladieswear_Ladieswear_Stain remover spray",
          "Ladieswear_Ladieswear_Sunglasses",
          "Ladieswear_Ladieswear_Sweater",
          "Ladieswear_Ladieswear_Swimsuit",
          "Ladieswear_Ladieswear_Swimwear bottom",
          "Ladieswear_Ladieswear_Swimwear set",
          "Ladieswear_Ladieswear_T-shirt",
          "Ladieswear_Ladieswear_Tailored Waistcoat",
          "Ladieswear_Ladieswear_Top",
          "Ladieswear_Ladieswear_Trousers",
          "Ladieswear_Ladieswear_Underwear bottom",
          "Ladieswear_Ladieswear_Unknown",
          "Ladieswear_Ladieswear_Vest top",
          "Ladieswear_Ladieswear_Wallet",
          "Ladieswear_Ladieswear_Washing bag",
          "Ladieswear_Ladieswear_Wood balls",
          "Ladieswear_Ladieswear_Zipper head",
          "Ladieswear_Lingeries/Tights_Bikini top",
          "Ladieswear_Lingeries/Tights_Bra",
          "Ladieswear_Lingeries/Tights_Bra extender",
          "Ladieswear_Lingeries/Tights_Dress",
          "Ladieswear_Lingeries/Tights_Leggings/Tights",
          "Ladieswear_Lingeries/Tights_Night gown",
          "Ladieswear_Lingeries/Tights_Nipple covers",
          "Ladieswear_Lingeries/Tights_Other accessories",
          "Ladieswear_Lingeries/Tights_Pyjama bottom",
          "Ladieswear_Lingeries/Tights_Pyjama jumpsuit/playsuit",
          "Ladieswear_Lingeries/Tights_Pyjama set",
          "Ladieswear_Lingeries/Tights_Robe",
          "Ladieswear_Lingeries/Tights_Sarong",
          "Ladieswear_Lingeries/Tights_Scarf",
          "Ladieswear_Lingeries/Tights_Slippers",
          "Ladieswear_Lingeries/Tights_Socks",
          "Ladieswear_Lingeries/Tights_Swimsuit",
          "Ladieswear_Lingeries/Tights_Swimwear bottom",
          "Ladieswear_Lingeries/Tights_Swimwear set",
          "Ladieswear_Lingeries/Tights_Top",
          "Ladieswear_Lingeries/Tights_Underdress",
          "Ladieswear_Lingeries/Tights_Underwear Tights",
          "Ladieswear_Lingeries/Tights_Underwear body",
          "Ladieswear_Lingeries/Tights_Underwear bottom",
          "Ladieswear_Lingeries/Tights_Underwear corset",
          "Ladieswear_Lingeries/Tights_Underwear set",
          "Ladieswear_Lingeries/Tights_Unknown",
          "Menswear_Menswear_Backpack",
          "Menswear_Menswear_Bag",
          "Menswear_Menswear_Beanie",
          "Menswear_Menswear_Belt",
          "Menswear_Menswear_Blazer",
          "Menswear_Menswear_Boots",
          "Menswear_Menswear_Bra",
          "Menswear_Menswear_Bracelet",
          "Menswear_Menswear_Braces",
          "Menswear_Menswear_Bucket hat",
          "Menswear_Menswear_Cap",
          "Menswear_Menswear_Cap/peaked",
          "Menswear_Menswear_Cardigan",
          "Menswear_Menswear_Coat",
          "Menswear_Menswear_Costumes",
          "Menswear_Menswear_Cross-body bag",
          "Menswear_Menswear_Dungarees",
          "Menswear_Menswear_Earring",
          "Menswear_Menswear_Felt hat",
          "Menswear_Menswear_Flat shoes",
          "Menswear_Menswear_Flip flop",
          "Menswear_Menswear_Garment Set",
          "Menswear_Menswear_Giftbox",
          "Menswear_Menswear_Gloves",
          "Menswear_Menswear_Hat/beanie",
          "Menswear_Menswear_Hat/brim",
          "Menswear_Menswear_Hoodie",
          "Menswear_Menswear_Jacket",
          "Menswear_Menswear_Jumpsuit/Playsuit",
          "Menswear_Menswear_Keychain",
          "Menswear_Menswear_Long John",
          "Menswear_Menswear_Necklace",
          "Menswear_Menswear_Other accessories",
          "Menswear_Menswear_Other shoe",
          "Menswear_Menswear_Outdoor Waistcoat",
          "Menswear_Menswear_Polo shirt",
          "Menswear_Menswear_Pyjama bottom",
          "Menswear_Menswear_Pyjama set",
          "Menswear_Menswear_Ring",
          "Menswear_Menswear_Robe",
          "Menswear_Menswear_Sandals",
          "Menswear_Menswear_Scarf",
          "Menswear_Menswear_Shirt",
          "Menswear_Menswear_Shorts",
          "Menswear_Menswear_Slippers",
          "Menswear_Menswear_Sneakers",
          "Menswear_Menswear_Socks",
          "Menswear_Menswear_Straw hat",
          "Menswear_Menswear_Sunglasses",
          "Menswear_Menswear_Sweater",
          "Menswear_Menswear_Swimwear bottom",
          "Menswear_Menswear_T-shirt",
          "Menswear_Menswear_Tailored Waistcoat",
          "Menswear_Menswear_Tie",
          "Menswear_Menswear_Top",
          "Menswear_Menswear_Trousers",
          "Menswear_Menswear_Underwear bottom",
          "Menswear_Menswear_Unknown",
          "Menswear_Menswear_Vest top",
          "Menswear_Menswear_Wallet",
          "Menswear_Menswear_Watch",
          "Menswear_Menswear_Weekend/Gym bag",
          "Sport_Sport_Bag",
          "Sport_Sport_Bikini top",
          "Sport_Sport_Bra",
          "Sport_Sport_Cap/peaked",
          "Sport_Sport_Garment Set",
          "Sport_Sport_Giftbox",
          "Sport_Sport_Gloves",
          "Sport_Sport_Hair string",
          "Sport_Sport_Hat/beanie",
          "Sport_Sport_Hoodie",
          "Sport_Sport_Jacket",
          "Sport_Sport_Leggings/Tights",
          "Sport_Sport_Long John",
          "Sport_Sport_Other accessories",
          "Sport_Sport_Outdoor Waistcoat",
          "Sport_Sport_Outdoor trousers",
          "Sport_Sport_Sandals",
          "Sport_Sport_Sarong",
          "Sport_Sport_Shorts",
          "Sport_Sport_Skirt",
          "Sport_Sport_Socks",
          "Sport_Sport_Sweater",
          "Sport_Sport_Swimsuit",
          "Sport_Sport_Swimwear bottom",
          "Sport_Sport_T-shirt",
          "Sport_Sport_Top",
          "Sport_Sport_Trousers",
          "Sport_Sport_Underwear bottom",
          "Sport_Sport_Unknown",
          "Sport_Sport_Vest top",
          "Sport_Sport_Waterbottle"
         ],
         "legendgroup": "",
         "marker": {
          "color": [
           1,
           1,
           0,
           1,
           0,
           0,
           1,
           0,
           0,
           3,
           1,
           1,
           0,
           0,
           2,
           3,
           1,
           0,
           0,
           3,
           0,
           0,
           0,
           0,
           2,
           0,
           0,
           0,
           1,
           1,
           1,
           1,
           2,
           1,
           0,
           0,
           2,
           0,
           1,
           2,
           2,
           0,
           0,
           2,
           1,
           1,
           0,
           0,
           0,
           0,
           1,
           2,
           0,
           2,
           2,
           2,
           0,
           1,
           0,
           1,
           0,
           0,
           2,
           1,
           2,
           1,
           1,
           0,
           0,
           0,
           2,
           1,
           1,
           0,
           1,
           1,
           2,
           1,
           0,
           0,
           1,
           0,
           2,
           2,
           3,
           1,
           0,
           0,
           0,
           1,
           0,
           0,
           2,
           1,
           1,
           0,
           0,
           0,
           0,
           0,
           2,
           0,
           0,
           3,
           1,
           0,
           0,
           0,
           1,
           0,
           2,
           2,
           2,
           2,
           2,
           1,
           3,
           1,
           3,
           3,
           0,
           2,
           0,
           1,
           0,
           2,
           1,
           0,
           0,
           2,
           0,
           0,
           0,
           2,
           0,
           0,
           1,
           0,
           0,
           0,
           0,
           0,
           2,
           2,
           0,
           0,
           2,
           0,
           0,
           0,
           0,
           0,
           0,
           1,
           2,
           0,
           0,
           1,
           0,
           3,
           3,
           0,
           0,
           0,
           3,
           1,
           1,
           0,
           0,
           2,
           0,
           3,
           1,
           0,
           0,
           2,
           2,
           0,
           0,
           3,
           0,
           2,
           0,
           0,
           0,
           1,
           0,
           0,
           0,
           0,
           0,
           0,
           0,
           1,
           2,
           1,
           0,
           2,
           3,
           1,
           2,
           2,
           2,
           3,
           3,
           1,
           1,
           1,
           1,
           0,
           3,
           0,
           1,
           2,
           2,
           0,
           1,
           2,
           0,
           0,
           3,
           1,
           0,
           1,
           1,
           3,
           1,
           2,
           3,
           3,
           2,
           3,
           1,
           0,
           1,
           2,
           3,
           0,
           0,
           2,
           3,
           1,
           2,
           1,
           2,
           0,
           0,
           0,
           2,
           2,
           3,
           2,
           2,
           2,
           2,
           3,
           1,
           1,
           0,
           3,
           1,
           3,
           1,
           2,
           0,
           0,
           2,
           1,
           3,
           2,
           2,
           1,
           1,
           3,
           2,
           1,
           1,
           3,
           1,
           1,
           1,
           1,
           2,
           1,
           2,
           3,
           3,
           1,
           1,
           1,
           2,
           3,
           2,
           3,
           2,
           1,
           1,
           2,
           0,
           2,
           2,
           1,
           2,
           3,
           2,
           2,
           2,
           1,
           1,
           1,
           3,
           0,
           2,
           1,
           2,
           1,
           2,
           1,
           2,
           1,
           0,
           1,
           1,
           1,
           1,
           3,
           2,
           2,
           1,
           0,
           2,
           3,
           3,
           3,
           3,
           0,
           0,
           1,
           3,
           1,
           1,
           1,
           3,
           3,
           1,
           0,
           1,
           0,
           2,
           1,
           1,
           3,
           2,
           1,
           2,
           3,
           3,
           1,
           2,
           3,
           2,
           3,
           1,
           1,
           2,
           3,
           2,
           2,
           2,
           2,
           3,
           2,
           2,
           0,
           1,
           2,
           3,
           1,
           1,
           1,
           2,
           2,
           1,
           1,
           3,
           3,
           2,
           0,
           3,
           1,
           3,
           3,
           2,
           0,
           1,
           3,
           2,
           2,
           1,
           2,
           2,
           3,
           3,
           1,
           0,
           3,
           1,
           1,
           2,
           3,
           1,
           0,
           3,
           1,
           1,
           3,
           1,
           1,
           2,
           3,
           3,
           0,
           1,
           1,
           1,
           1,
           1,
           2,
           3,
           1,
           3,
           3,
           1,
           3,
           0,
           1,
           1,
           3,
           1,
           0,
           1,
           0,
           2,
           3,
           3,
           1,
           3,
           2,
           3,
           1,
           2,
           3,
           2,
           1,
           2,
           2,
           3,
           2,
           2,
           0,
           0,
           3,
           3,
           1,
           1,
           2,
           3,
           0,
           1,
           1,
           2,
           1,
           2,
           1,
           3,
           0,
           1,
           0,
           3,
           1,
           1,
           3,
           0,
           0,
           0,
           0,
           1,
           2,
           1,
           1,
           0,
           2,
           2,
           1,
           1,
           0,
           2,
           1,
           1,
           0
          ],
          "coloraxis": "coloraxis",
          "symbol": "circle"
         },
         "mode": "markers",
         "name": "",
         "orientation": "v",
         "showlegend": false,
         "type": "scatter",
         "x": [
          -0.00896576599031027,
          -0.03732118298592338,
          0.05814112264564279,
          -0.03483592347992945,
          0.05107950660465481,
          0.03971697850397382,
          -0.0031064798284647743,
          0.06149236913962538,
          0.07421794321494309,
          0.07496950308303332,
          -0.021071599930054814,
          -0.03821723759406969,
          0.052832801978135356,
          0.05812289835906064,
          -0.0013047521974916844,
          0.011404136393641543,
          0.0012720764041763127,
          0.06869313353404495,
          0.04695721858537207,
          0.03445546506946309,
          0.07419606751044669,
          0.06709925868139793,
          0.07090828722949905,
          0.07136226009604822,
          -0.024647016519693362,
          0.058125290290687866,
          0.06738889083560085,
          0.06443706649673596,
          0.016331292110292658,
          -0.01863585120212254,
          -0.017501114245024475,
          -0.021549514028416712,
          0.01223808004146719,
          0.0023637086671197366,
          0.0669238151058211,
          0.06303090081391194,
          -0.033588895080054956,
          0.07028867003823132,
          0.0059247666064177334,
          -0.00557044058144511,
          -0.04131210522592246,
          0.07070207187457506,
          0.06768222545695746,
          -0.044925569267222805,
          -0.015137953257802442,
          0.03175107410398541,
          0.04927345300847907,
          0.07933957124904253,
          0.05352197250312385,
          0.06583924965952423,
          -0.02906423350941066,
          -0.02057441394057838,
          0.08030074650596761,
          -0.012162568617542233,
          0.014635675852463774,
          0.02033441099057294,
          0.06401568164152135,
          0.009871794409773297,
          0.039636527758334233,
          -0.00582172180148186,
          0.07368980084722167,
          0.07928711647270484,
          -0.028126177621522072,
          -0.030060327162117064,
          0.003215540193327129,
          -0.021626808412842178,
          -0.021626808412842178,
          0.036738949422426594,
          0.060773099647471324,
          0.03340330033931233,
          -0.014084788585960096,
          0.006552872344511843,
          -0.005569948943825357,
          0.07986337344460818,
          -0.005503342073717267,
          -0.019908452662556926,
          -0.02204562104255715,
          0.017167875297249037,
          0.03903920875010972,
          0.07471328185567265,
          0.014152049085205249,
          0.0651864019120326,
          -0.011953690517046603,
          -0.011214363947382493,
          0.050459984148262804,
          0.004964502647134169,
          0.07637117241654652,
          0.06079598977991569,
          0.057279987853902335,
          -0.013574902020210024,
          0.07301468103075474,
          0.07602186215870599,
          -0.013934287577226144,
          -0.013526765979688141,
          0.0385569246029169,
          0.05773583079087474,
          0.03857954342459491,
          0.054433019404956234,
          0.0777622429661478,
          0.07226768687582767,
          -0.02965534878280438,
          0.03971697850397382,
          0.07520827877338002,
          0.01043139650231126,
          -0.047549671434716695,
          0.03869888061673807,
          0.06675059944399327,
          0.07225590859706225,
          -0.021108138723351974,
          0.05815649025000636,
          -0.013744665975649696,
          0.012978151728357824,
          -0.023493273007406997,
          -0.029735100573510073,
          -0.01587658801984741,
          -0.03499553498520012,
          0.030570906878082716,
          -0.01629632943916006,
          0.023206632699994158,
          0.021995732664779256,
          0.061111021329235356,
          0.03429974018569464,
          0.07630169258959271,
          -0.00024523357291663343,
          0.04551254119480935,
          0.0257553351403559,
          0.029787750160716147,
          0.07988423938581099,
          0.0703801184317609,
          0.0007450642029070702,
          0.04275847976634954,
          0.07399346502917385,
          0.06280374722268275,
          -0.012375193039729114,
          0.06814954185893099,
          0.06203485634611925,
          -0.030019346518088342,
          0.06189018879850025,
          0.03984426637028501,
          0.07550547787765606,
          0.05715834246695832,
          0.07412598525756034,
          -0.03880947998027392,
          0.03374216754971395,
          0.07367584447166657,
          0.07840020510714764,
          0.01869838314888864,
          0.04648386558398479,
          0.06367841369996398,
          0.07468390563957396,
          0.07535810825884064,
          0.06117955985793421,
          0.02735430753265917,
          -0.008769655436509503,
          0.02239747671144375,
          0.0569721888448018,
          0.06263939292775035,
          -0.019908452662556926,
          0.07230645962705907,
          0.025942568555559476,
          0.011617327937100743,
          0.06441634412475132,
          0.053048525945470534,
          0.06419508177289586,
          0.0026783281974076837,
          -0.018762759470781664,
          -0.013507853846034297,
          0.07316570688196934,
          0.07431917394074336,
          0.023921346771268125,
          0.0703289892454785,
          0.04627341629579302,
          0.012748994871967902,
          0.076445848584879,
          0.06778362008379321,
          0.030793095640541557,
          0.02905257362210609,
          0.07593531901307803,
          0.05834477839121674,
          0.01043139650231126,
          0.059061728313941235,
          -0.02591092648300415,
          0.07483233886005991,
          0.0655055667207997,
          0.07944913925509749,
          -0.01753087827308307,
          0.04936615187475064,
          0.06150954249180824,
          0.07241717276564005,
          0.07357313788194335,
          0.07313743672777945,
          0.06938445677349488,
          0.0647468460164946,
          -0.023392359887159354,
          0.037393106119932594,
          -0.018892652395774645,
          0.053901002061672566,
          -0.023671159580833805,
          0.017447050708058732,
          -0.04157948067268336,
          -0.0366148211391793,
          0.02144502913106238,
          0.01838352639737024,
          0.06628353104324698,
          0.0729469061859777,
          -0.022618233594375762,
          -0.0382185199550848,
          -0.026635727693679476,
          -0.008769655436509503,
          0.06983819493353914,
          0.05403664549096267,
          0.07288379494768743,
          -0.025852782351292257,
          -0.04573855772043531,
          -0.053340733308664824,
          0.06329749966980369,
          -0.02798271505827605,
          -0.02513173912870487,
          0.06319759187043227,
          0.05012700590311837,
          0.06209991901801109,
          -0.02917931951238414,
          0.054273766614702255,
          -0.012673986266489145,
          0.01025259630602868,
          0.0668749854886522,
          -0.03384617795113864,
          -0.044980432966653675,
          0.05396744216280415,
          0.045347437328044284,
          -0.03937761810299377,
          0.057076100760790185,
          -0.017672638561885463,
          0.058312918720515916,
          -0.017927280342378216,
          -0.001536096917890348,
          0.035664054376774966,
          0.06833908707189003,
          0.0660877117894293,
          -0.037614376827716,
          0.07393734184413966,
          -0.00046751453725057593,
          -0.057494637328418134,
          -0.008246630545139855,
          -0.03245049235224164,
          0.038813294236619944,
          0.06309638163416642,
          0.04475510332434862,
          -0.051661713815883234,
          -0.03339188087736276,
          0.0734220181471828,
          -0.01567473554954523,
          -0.030100037443701252,
          -0.058524304279193536,
          -0.021313081154796305,
          0.011338179781734924,
          -0.02167091443044003,
          0.015010613848288811,
          0.04711575783563933,
          0.014568131437751186,
          -0.034861408042919276,
          -0.024215136763585953,
          -0.011741093365678287,
          -0.041430914475270066,
          0.0678848381062075,
          0.044963156561286945,
          0.020077789802790083,
          -0.02146081890535148,
          0.0348614807971614,
          0.0006781431576471846,
          -0.05946266642575413,
          -0.033347438163950985,
          -0.0014059020790562536,
          0.06451819455523589,
          -0.05640721712019983,
          0.004605456148261728,
          -0.02250340351045601,
          0.01363583692915324,
          -0.005569948943825357,
          -0.004848185959510376,
          -0.03221637554266757,
          -0.01484267342530568,
          -0.037363204917168914,
          -0.013491251304446112,
          -0.052415615241522995,
          0.05750925360786276,
          -0.011058057280522133,
          -0.0346090650900316,
          -0.021578921200281348,
          -0.05585873809128526,
          0.018084510002953965,
          0.06967378537558291,
          -0.05419478110921781,
          0.01362853793221204,
          -0.056232672636107726,
          -0.04490397243279366,
          -0.03181018277314564,
          -0.00580923910670497,
          0.0369741144868282,
          -0.011019737500850819,
          0.02364043054069169,
          0.007228949202269517,
          -0.056488754093675785,
          0.0693145548916531,
          -0.011354541029019454,
          -0.017175904824772294,
          -0.04888732913586794,
          -0.01533987820159234,
          0.018301407255195287,
          -0.01007065113765513,
          -0.03406038029129354,
          0.05489019520240815,
          -0.05700956078364992,
          -0.018688563096918773,
          -0.018883124991215385,
          0.0031207112567900124,
          -0.033067309124667876,
          0.012325635640631997,
          -0.014784801000551047,
          -0.014729174736128763,
          0.05033529332894548,
          -0.0038061248487192426,
          0.0020909861405646667,
          -0.01919537665824284,
          0.036497599447997124,
          0.06259945580058238,
          -0.04184433955000956,
          -0.05618633531069007,
          -0.013101714349753393,
          0.035375761080730504,
          -0.003080490710487442,
          0.06662609236191487,
          0.003691031010831133,
          0.00005808744566472809,
          0.058917262352230375,
          0.060666022565965094,
          0.041252410760711046,
          0.03203873842548258,
          0.06361825333433402,
          -0.05516559845176675,
          -0.006463748865468697,
          -0.02723560788001103,
          0.02807834096475346,
          -0.012783475154884007,
          -0.030009776289270793,
          0.0677857976542987,
          -0.018976241033819646,
          0.07013702969532834,
          -0.008741873694772468,
          -0.019454863652081118,
          -0.010362689075224163,
          -0.017848148754368805,
          -0.014922732160641047,
          -0.013611261433340613,
          -0.01546431231442785,
          0.050174661549790285,
          -0.008331521557146422,
          -0.035782204821855776,
          -0.05471854185816473,
          0.012757637679237807,
          -0.048553314770658176,
          0.005888971822474858,
          -0.0004894303344691905,
          -0.019908452662556926,
          -0.0399512456036388,
          0.07102710160257053,
          -0.03407999830898292,
          -0.020901816009550517,
          -0.022497114732438792,
          -0.05415308467423725,
          0.005254173116502388,
          -0.022668311591694912,
          -0.0008315882707625367,
          0.06887650951216157,
          -0.022336650683810886,
          -0.057078730766357694,
          0.007177424292188067,
          -0.02941773435661632,
          -0.004679281132646385,
          -0.015131143647271528,
          -0.06048615054181474,
          -0.046950453988247376,
          -0.017023964261444147,
          -0.04514782480638963,
          0.0547222829686282,
          0.04278652416413276,
          -0.015434699079454096,
          0.06672204228370988,
          0.03471373161480372,
          -0.021092954905992514,
          0.04961486134500597,
          0.054624553039663966,
          -0.04739831349680159,
          0.06355732789228236,
          -0.013705756140034518,
          0.03940629279411785,
          -0.05264904275138028,
          -0.058958205033228746,
          -0.03452524451832819,
          -0.02872062838464633,
          -0.021444648022674494,
          0.07284085585783409,
          0.05416205434383817,
          -0.051421989863013294,
          0.05533513138802752,
          0.002618443009006373,
          -0.056572277806486666,
          -0.014370846013039187,
          -0.0008781686233739942,
          0.015761767632417115,
          0.021925104463161545,
          0.04187488234640653,
          0.06147344258440264,
          0.02556304815615414,
          -0.022756266880642816,
          0.042217265424894186,
          -0.044069422705586545,
          -0.05234176786788304,
          -0.010342577171121557,
          0.04999089539778378,
          0.05104457496121243,
          0.056723603261607046,
          -0.017646865538245415,
          -0.024675847824413646,
          -0.023850411605843835,
          -0.02606233305264467,
          -0.05403204771215292,
          -0.047457423752382925,
          0.0018402517957682083,
          -0.002968255010699275,
          0.06325325623974473,
          0.06884487312688073,
          -0.05326883472904538,
          0.06069023354071366,
          0.0720123484435888,
          -0.020706569508606668,
          -0.01848930672808976,
          0.06434844467041216,
          -0.0457687807092785,
          0.054122506174793604,
          0.019613053409328365,
          0.05107448610378566,
          -0.054027595486357494,
          0.05232412850860807,
          0.05674319038418046,
          -0.036991595082188966,
          0.03718837078815117,
          -0.048857904993264416,
          0.06495906925464762,
          0.01902766805547669,
          -0.054482689219962514,
          0.048963399231187685,
          -0.037346560350918975,
          0.020807870369723525,
          -0.05046961826343575,
          -0.05302800751939189,
          0.07128309210036188,
          -0.05341665346784202,
          -0.05450572758890186,
          0.060783712030834394,
          0.04782449238826958,
          0.04531418252484842,
          0.041835528781036725,
          -0.027139534620078263,
          -0.024833176448567904,
          -0.041043917262585834,
          0.04374603428985107,
          0.03805212502251702,
          -0.02292497687928517,
          0.010131899746379777,
          -0.03710682038273403,
          -0.031230985865681692,
          -0.040852421907156475,
          0.012246667295336097,
          0.004902872980736339,
          0.06359278490330622,
          0.03709711073487808,
          0.06346097825764221,
          0.04893317721946607,
          0.042377511210134534,
          -0.011383194880059339,
          0.01742246532663087,
          0.05610200540775607,
          0.062382549206896606,
          0.05335975529491014,
          0.05227242690558156,
          -0.039928756279661685,
          -0.056607996703872746,
          -0.02653145907042724,
          -0.041750332575543884,
          0.07194118986130897,
          -0.013341886132165795,
          -0.05163862636365257,
          0.016295861160640697,
          -0.03460759063617224,
          0.05240237959508812,
          0.002092622860312097,
          -0.028274154457879595,
          -0.04928708591180438,
          0.05722052613738479
         ],
         "xaxis": "x",
         "y": [
          -0.04265548821704559,
          -0.03913137205686331,
          0.03869398427093339,
          -0.06379901557391252,
          0.0204963693622115,
          0.012778920356721613,
          0.040605746835513684,
          0.036322010390633416,
          0.04115225886687825,
          -0.016172708688434012,
          0.002986377826583228,
          -0.01910711939174412,
          0.06242601442047896,
          0.001626125270206555,
          0.04137858940972645,
          -0.050057966068040236,
          0.03448386454972838,
          0.042998167199123714,
          0.05572066818874818,
          0.007410882557322818,
          -0.011437247396864657,
          0.001293151277924477,
          0.04684002071296284,
          0.014149876972819855,
          0.0763069002483995,
          0.03190385083380449,
          -0.0012614034281829044,
          0.020230902158718606,
          -0.04018995410718994,
          -0.009849308360664517,
          0.002463471685203571,
          -0.020509415618792038,
          0.06481694360082067,
          -0.002786450549909227,
          -0.027624541406952603,
          0.00037285014898135284,
          0.06889319919901836,
          0.010345539209254613,
          -0.046973706593465586,
          0.06774454043359136,
          0.08166407190833623,
          0.024931482601460175,
          0.031904933858892905,
          0.07919037316304757,
          0.031457485583957875,
          0.007466404361207843,
          0.02852508179673856,
          0.005793180606885456,
          0.026006760372102096,
          -0.01057000088135271,
          -0.003220731767127968,
          0.06747057267937714,
          0.0009238981489521437,
          0.05773529547963362,
          0.038787806884422744,
          0.0891338637662958,
          0.018304247178731577,
          0.022208397701185614,
          0.04083020966418669,
          -0.01890368955245613,
          0.02537689429421422,
          0.009881601887741428,
          0.06591610685454864,
          -0.016936641449438117,
          0.06546793896724903,
          -0.024909379920857823,
          -0.024909379920857823,
          0.06756354688849513,
          0.026682549875375175,
          0.04131102319578773,
          0.047759973994311214,
          -0.010117054471105528,
          -0.037054469398093114,
          0.004744753373212121,
          0.008161698351843376,
          0.0063992324952313676,
          0.08358006419022523,
          -0.02038246544498183,
          0.002915197805569081,
          0.021848996620346128,
          0.011189748381655026,
          0.03616285745471049,
          0.05146044861588183,
          0.0977604066272522,
          -0.032761860059241824,
          -0.02644424596853195,
          0.014328726258273573,
          0.01607160160444635,
          0.046630331172492344,
          -0.04499674406080185,
          0.028696911760736164,
          0.016176181344353543,
          0.10120385874848176,
          -0.02484102154632733,
          -0.01745476693202089,
          0.019347826158773583,
          0.01609252430663423,
          0.032910540486163306,
          0.026023723724332065,
          0.02472965998370676,
          0.08959553051263561,
          0.012778920356721662,
          0.01759533348720398,
          -0.0331278678599615,
          0.0013538639205727915,
          0.032508516675932325,
          0.009397842826603789,
          0.046428257402994014,
          0.00948146599614677,
          0.04984955325528735,
          0.07590835760045875,
          0.07310317533941438,
          0.09740100527526986,
          0.09626413456409466,
          0.05885110868460164,
          0.002344219109243358,
          -0.001956738970719328,
          0.024405271329802195,
          -0.036903458416248466,
          -0.017664097130085425,
          0.01790071652617062,
          0.08922132805384074,
          0.005789195952651271,
          -0.06566888866772562,
          0.0657110729370673,
          0.07804803485218269,
          -0.03145806289951408,
          0.011559737371208386,
          0.019111479281019292,
          0.08252467399399378,
          0.0649598290633363,
          0.04186356450689077,
          0.0011638628364046852,
          0.058739068936706135,
          0.02440913416134988,
          0.005075238722846079,
          -0.006096741631295583,
          0.03830062715225279,
          0.05010043721115867,
          0.03124962780614447,
          0.0037012146924135236,
          0.021926824248662973,
          0.08570863560939658,
          0.07941554615874309,
          0.041352913006595354,
          0.011274945098833077,
          0.10365322673887312,
          0.026159816542681177,
          0.055222154379191646,
          0.03118757191236815,
          0.026116920574055784,
          0.06823652595674037,
          0.04491119789055801,
          -0.015277283531940118,
          0.0994649340617307,
          0.02146174953915951,
          0.054829044973565146,
          0.0063992324952313676,
          0.027541724230019077,
          -0.030673989380491797,
          -0.039765172589823906,
          0.05354946219866878,
          0.01580627616827465,
          0.003224241728162584,
          -0.03928824153033246,
          -0.010489467120162717,
          -0.017674652239551936,
          0.03119152327207527,
          0.023435634723946434,
          0.04735937369478951,
          0.03232640972121957,
          -0.00926889259463369,
          0.027467102945560155,
          0.020175606009126573,
          0.011815962503374765,
          0.09245960625335718,
          0.06617553027692162,
          0.012716987953264553,
          0.017465285291903564,
          -0.0331278678599615,
          0.03209193492115944,
          0.09371371752582097,
          0.028098236129230843,
          0.04679789503291759,
          0.020064438466159264,
          0.0025605833044662356,
          0.07386307732549414,
          0.03711187945985815,
          0.026350211020710626,
          0.03312250009426818,
          0.014516309639192992,
          0.03150627305962287,
          0.014030981785736583,
          -0.01629802890682979,
          0.08177031900558052,
          -0.04313506986588078,
          0.028120025318564484,
          0.07568842656477802,
          -0.05539596601743862,
          -0.053166039267433705,
          0.0706277861878312,
          0.04464643320012789,
          0.09450979798799901,
          0.012025308726081044,
          -0.007508528500434943,
          -0.03526318960553765,
          -0.013612977607468468,
          -0.002385726986506449,
          -0.015277283531940118,
          0.017931896996838087,
          -0.05766732901800274,
          0.001382188790691154,
          -0.03823926656012988,
          0.07264703376724263,
          0.06436359467442221,
          0.05523420108295094,
          -0.027448502890931356,
          0.04280429104408529,
          0.04016153445726538,
          0.02653788751542968,
          -0.0273189472316716,
          -0.02185751948788372,
          0.0606458347962192,
          -0.04549393265005575,
          0.020619031586653205,
          -0.03737225765478465,
          0.030553906907878577,
          0.03413691664418838,
          -0.051253133473355576,
          -0.02146247285768947,
          0.07147164536021508,
          -0.04001850086515497,
          -0.02454823539573451,
          0.0529817252959933,
          -0.005631070983917478,
          0.04476736331897246,
          -0.04043120299194071,
          0.0501878170972751,
          0.024976104086991163,
          0.06793815339505731,
          -0.02348562432272384,
          0.040408490739217345,
          0.062183201606184714,
          -0.0800765160677415,
          0.06478535162233177,
          0.02071741363884221,
          0.016437481623813595,
          0.03661424632654821,
          0.0552976217651545,
          0.08245890202071862,
          -0.03399838072278426,
          0.08306969320141273,
          0.06944976525210154,
          0.06462898413298339,
          0.05477686924986311,
          -0.06288164206244358,
          -0.08143977629122359,
          -0.0012218247004631842,
          0.02666594264804362,
          -0.045083367019270106,
          0.024539090610498065,
          -0.024838175796914785,
          -0.04440482817240836,
          0.07043087865465504,
          0.0355116226614228,
          0.009059470386732238,
          0.06938601476695966,
          -0.09096556104014554,
          -0.031673317895171464,
          0.06511775698624328,
          0.06316660792449881,
          -0.032587733326974906,
          -0.04215102095978557,
          -0.049949869946684884,
          0.04910020276093896,
          0.012227246599235003,
          -0.03001481594124962,
          -0.05864118130712391,
          -0.037054469398093114,
          0.025793055488031097,
          -0.028466652150603084,
          -0.03932434847471694,
          0.05324073975803275,
          -0.04508488442978583,
          0.049817804846968766,
          -0.030802810154042157,
          -0.05710341839999643,
          -0.0600406428719177,
          -0.03953642479412475,
          0.015536784485217387,
          0.0548651318783698,
          -0.029191683170432622,
          0.05907102869264175,
          -0.049376437968882,
          0.06791306516892456,
          -0.0298893985809916,
          -0.0504188800756145,
          0.05862440624441534,
          0.02585765701883745,
          0.08973703159561726,
          0.07263171863347882,
          0.03883248875488758,
          0.06152267493482361,
          -0.03608026300455566,
          0.08081923442703269,
          0.07430293335896204,
          0.08515482985891762,
          -0.05150563214541863,
          -0.04336391752589264,
          -0.0439890751883256,
          -0.03599733957553886,
          0.04208647053293527,
          0.06747257811483819,
          -0.03598760390929446,
          0.08639640076707197,
          -0.02221761058416233,
          0.07652262900800562,
          -0.05416009328329326,
          0.09002655318577325,
          -0.0062080272694767374,
          -0.0029428729964359342,
          -0.04414705701474918,
          0.001742278365407816,
          0.013647027425711137,
          -0.05295790945125241,
          -0.031528216847426606,
          0.08520574478402669,
          0.051045189680617616,
          0.03548413862187621,
          0.03573097933138864,
          0.03850960577308968,
          -0.01765926068458268,
          -0.029830077080481358,
          -0.03785864026507867,
          -0.02229418021869425,
          0.02759796086959917,
          0.04325820043206345,
          -0.07263424997799463,
          -0.044354239986932734,
          0.003909322973902835,
          -0.02821009431802183,
          0.00044974200828933807,
          -0.03498965678381379,
          -0.045113129382342756,
          -0.04117304765833017,
          0.031459087217944624,
          0.018938829286282467,
          0.002102660807496325,
          0.037625506522840683,
          -0.05215748245426914,
          -0.03533253274090158,
          -0.07295782064913188,
          0.04770823977371904,
          -0.037697443673746465,
          0.058473079392934994,
          -0.034945488815227105,
          -0.03176529229426855,
          -0.003125429468095674,
          0.06655768994212594,
          -0.05447569401087954,
          0.04748596674169236,
          -0.0422493413764605,
          0.023797423122825977,
          0.0063992324952313676,
          0.07475634594736913,
          -0.04059080293459526,
          0.07544169738114341,
          0.0823843272573078,
          0.04051777471283257,
          0.0740445017969996,
          -0.06328324863849395,
          0.048068922162339774,
          0.06517674496478627,
          0.02186024468566562,
          -0.04738822397080758,
          0.06779719788255532,
          -0.026040702725460066,
          -0.028785527214440946,
          -0.03952268672382172,
          -0.012416123658695972,
          0.06845094241802575,
          0.030623975718929528,
          0.008280101961006661,
          0.024315757412119183,
          -0.05792931103797812,
          -0.016575956521664017,
          0.05542056540970053,
          0.04950650452572245,
          -0.030488965913088,
          0.01692210997033273,
          -0.03313134357150529,
          -0.006701395433925338,
          0.045013971928815615,
          0.028884186178076886,
          -0.05477972581581578,
          0.010249484794718508,
          0.07973794607497672,
          0.0712423169097798,
          -0.03507150848935717,
          0.05477672339886386,
          0.08016677850365335,
          -0.024168414089729796,
          -0.03477104352870126,
          0.02060359631958996,
          0.040681289334043885,
          -0.06651238054941033,
          -0.030444155749085024,
          -0.032517534780434135,
          0.0430508723221007,
          -0.06416325073738029,
          0.00800876233394755,
          0.0430459922172647,
          -0.025072481666270855,
          -0.04017895681079819,
          -0.012035790116064203,
          -0.018107678501307185,
          -0.032594441099438515,
          0.006127004183552101,
          0.044538123286519765,
          -0.06196519212410947,
          -0.051704865561213724,
          0.02419490845981085,
          -0.03761902507814477,
          0.013127782945795289,
          -0.029931455587276938,
          -0.0345827992136796,
          -0.027381917770647256,
          0.05294540152044941,
          -0.04624009170097644,
          0.02236926996105265,
          -0.02042063484050459,
          -0.00937678329238233,
          0.023745992585419446,
          -0.05408645702674859,
          0.002782796081499377,
          0.021234737846324202,
          -0.04131674717049694,
          -0.00024096063668842908,
          -0.0327899737589871,
          0.004496264374817616,
          0.04554047363428451,
          0.06449906849935831,
          0.06761997144546475,
          -0.05303282579736308,
          -0.009754750350951268,
          -0.026457398044359256,
          -0.021686749991175022,
          0.0706426872444389,
          -0.017285764396933887,
          0.03739180536593463,
          0.062279034514823264,
          -0.01680582560501128,
          0.0716645930908715,
          0.018714182062541523,
          0.053911041991533216,
          0.05025200719535643,
          -0.03314154681098883,
          0.06346139938188151,
          0.06742442072716427,
          0.023575001722051195,
          0.010755585763385289,
          -0.03658849762672084,
          -0.01816816684251358,
          -0.0007119768845383119,
          -0.01654858893258707,
          0.06375108379286502,
          0.004156760726125096,
          0.04373522372480426,
          -0.020241047245396236,
          -0.01925313506927571,
          0.07506701447256892,
          0.00699700723433633,
          0.03769848595048905,
          -0.0000248339405719976,
          -0.036104291353359935,
          0.020311978607309582,
          0.007009946016518769,
          0.037954523010002156,
          -0.019415032456368907,
          -0.053778724404298,
          -0.028970270502899808,
          -0.04706157259742906,
          0.024241996149382692,
          0.04288121372129038,
          0.022938396924246002,
          0.026210150639588214,
          -0.004785305246265736,
          0.05763444951110311,
          -0.0025254968191460517,
          -0.0043653553209607645,
          0.011572832497090168,
          0.0756338264596876,
          0.05044177407808079,
          0.013260794320266766,
          -0.04377117656351945,
          0.00668055366773421,
          0.0693582349128518,
          -0.04080370281930972,
          0.009646653097709698,
          0.03741575777868437
         ],
         "yaxis": "y"
        }
       ],
       "layout": {
        "coloraxis": {
         "colorbar": {
          "title": {
           "text": "product_seasonal_type"
          }
         },
         "colorscale": [
          [
           0,
           "#0d0887"
          ],
          [
           0.1111111111111111,
           "#46039f"
          ],
          [
           0.2222222222222222,
           "#7201a8"
          ],
          [
           0.3333333333333333,
           "#9c179e"
          ],
          [
           0.4444444444444444,
           "#bd3786"
          ],
          [
           0.5555555555555556,
           "#d8576b"
          ],
          [
           0.6666666666666666,
           "#ed7953"
          ],
          [
           0.7777777777777778,
           "#fb9f3a"
          ],
          [
           0.8888888888888888,
           "#fdca26"
          ],
          [
           1,
           "#f0f921"
          ]
         ]
        },
        "legend": {
         "tracegroupgap": 0
        },
        "margin": {
         "t": 60
        },
        "template": {
         "data": {
          "bar": [
           {
            "error_x": {
             "color": "#2a3f5f"
            },
            "error_y": {
             "color": "#2a3f5f"
            },
            "marker": {
             "line": {
              "color": "#E5ECF6",
              "width": 0.5
             },
             "pattern": {
              "fillmode": "overlay",
              "size": 10,
              "solidity": 0.2
             }
            },
            "type": "bar"
           }
          ],
          "barpolar": [
           {
            "marker": {
             "line": {
              "color": "#E5ECF6",
              "width": 0.5
             },
             "pattern": {
              "fillmode": "overlay",
              "size": 10,
              "solidity": 0.2
             }
            },
            "type": "barpolar"
           }
          ],
          "carpet": [
           {
            "aaxis": {
             "endlinecolor": "#2a3f5f",
             "gridcolor": "white",
             "linecolor": "white",
             "minorgridcolor": "white",
             "startlinecolor": "#2a3f5f"
            },
            "baxis": {
             "endlinecolor": "#2a3f5f",
             "gridcolor": "white",
             "linecolor": "white",
             "minorgridcolor": "white",
             "startlinecolor": "#2a3f5f"
            },
            "type": "carpet"
           }
          ],
          "choropleth": [
           {
            "colorbar": {
             "outlinewidth": 0,
             "ticks": ""
            },
            "type": "choropleth"
           }
          ],
          "contour": [
           {
            "colorbar": {
             "outlinewidth": 0,
             "ticks": ""
            },
            "colorscale": [
             [
              0,
              "#0d0887"
             ],
             [
              0.1111111111111111,
              "#46039f"
             ],
             [
              0.2222222222222222,
              "#7201a8"
             ],
             [
              0.3333333333333333,
              "#9c179e"
             ],
             [
              0.4444444444444444,
              "#bd3786"
             ],
             [
              0.5555555555555556,
              "#d8576b"
             ],
             [
              0.6666666666666666,
              "#ed7953"
             ],
             [
              0.7777777777777778,
              "#fb9f3a"
             ],
             [
              0.8888888888888888,
              "#fdca26"
             ],
             [
              1,
              "#f0f921"
             ]
            ],
            "type": "contour"
           }
          ],
          "contourcarpet": [
           {
            "colorbar": {
             "outlinewidth": 0,
             "ticks": ""
            },
            "type": "contourcarpet"
           }
          ],
          "heatmap": [
           {
            "colorbar": {
             "outlinewidth": 0,
             "ticks": ""
            },
            "colorscale": [
             [
              0,
              "#0d0887"
             ],
             [
              0.1111111111111111,
              "#46039f"
             ],
             [
              0.2222222222222222,
              "#7201a8"
             ],
             [
              0.3333333333333333,
              "#9c179e"
             ],
             [
              0.4444444444444444,
              "#bd3786"
             ],
             [
              0.5555555555555556,
              "#d8576b"
             ],
             [
              0.6666666666666666,
              "#ed7953"
             ],
             [
              0.7777777777777778,
              "#fb9f3a"
             ],
             [
              0.8888888888888888,
              "#fdca26"
             ],
             [
              1,
              "#f0f921"
             ]
            ],
            "type": "heatmap"
           }
          ],
          "heatmapgl": [
           {
            "colorbar": {
             "outlinewidth": 0,
             "ticks": ""
            },
            "colorscale": [
             [
              0,
              "#0d0887"
             ],
             [
              0.1111111111111111,
              "#46039f"
             ],
             [
              0.2222222222222222,
              "#7201a8"
             ],
             [
              0.3333333333333333,
              "#9c179e"
             ],
             [
              0.4444444444444444,
              "#bd3786"
             ],
             [
              0.5555555555555556,
              "#d8576b"
             ],
             [
              0.6666666666666666,
              "#ed7953"
             ],
             [
              0.7777777777777778,
              "#fb9f3a"
             ],
             [
              0.8888888888888888,
              "#fdca26"
             ],
             [
              1,
              "#f0f921"
             ]
            ],
            "type": "heatmapgl"
           }
          ],
          "histogram": [
           {
            "marker": {
             "pattern": {
              "fillmode": "overlay",
              "size": 10,
              "solidity": 0.2
             }
            },
            "type": "histogram"
           }
          ],
          "histogram2d": [
           {
            "colorbar": {
             "outlinewidth": 0,
             "ticks": ""
            },
            "colorscale": [
             [
              0,
              "#0d0887"
             ],
             [
              0.1111111111111111,
              "#46039f"
             ],
             [
              0.2222222222222222,
              "#7201a8"
             ],
             [
              0.3333333333333333,
              "#9c179e"
             ],
             [
              0.4444444444444444,
              "#bd3786"
             ],
             [
              0.5555555555555556,
              "#d8576b"
             ],
             [
              0.6666666666666666,
              "#ed7953"
             ],
             [
              0.7777777777777778,
              "#fb9f3a"
             ],
             [
              0.8888888888888888,
              "#fdca26"
             ],
             [
              1,
              "#f0f921"
             ]
            ],
            "type": "histogram2d"
           }
          ],
          "histogram2dcontour": [
           {
            "colorbar": {
             "outlinewidth": 0,
             "ticks": ""
            },
            "colorscale": [
             [
              0,
              "#0d0887"
             ],
             [
              0.1111111111111111,
              "#46039f"
             ],
             [
              0.2222222222222222,
              "#7201a8"
             ],
             [
              0.3333333333333333,
              "#9c179e"
             ],
             [
              0.4444444444444444,
              "#bd3786"
             ],
             [
              0.5555555555555556,
              "#d8576b"
             ],
             [
              0.6666666666666666,
              "#ed7953"
             ],
             [
              0.7777777777777778,
              "#fb9f3a"
             ],
             [
              0.8888888888888888,
              "#fdca26"
             ],
             [
              1,
              "#f0f921"
             ]
            ],
            "type": "histogram2dcontour"
           }
          ],
          "mesh3d": [
           {
            "colorbar": {
             "outlinewidth": 0,
             "ticks": ""
            },
            "type": "mesh3d"
           }
          ],
          "parcoords": [
           {
            "line": {
             "colorbar": {
              "outlinewidth": 0,
              "ticks": ""
             }
            },
            "type": "parcoords"
           }
          ],
          "pie": [
           {
            "automargin": true,
            "type": "pie"
           }
          ],
          "scatter": [
           {
            "marker": {
             "colorbar": {
              "outlinewidth": 0,
              "ticks": ""
             }
            },
            "type": "scatter"
           }
          ],
          "scatter3d": [
           {
            "line": {
             "colorbar": {
              "outlinewidth": 0,
              "ticks": ""
             }
            },
            "marker": {
             "colorbar": {
              "outlinewidth": 0,
              "ticks": ""
             }
            },
            "type": "scatter3d"
           }
          ],
          "scattercarpet": [
           {
            "marker": {
             "colorbar": {
              "outlinewidth": 0,
              "ticks": ""
             }
            },
            "type": "scattercarpet"
           }
          ],
          "scattergeo": [
           {
            "marker": {
             "colorbar": {
              "outlinewidth": 0,
              "ticks": ""
             }
            },
            "type": "scattergeo"
           }
          ],
          "scattergl": [
           {
            "marker": {
             "colorbar": {
              "outlinewidth": 0,
              "ticks": ""
             }
            },
            "type": "scattergl"
           }
          ],
          "scattermapbox": [
           {
            "marker": {
             "colorbar": {
              "outlinewidth": 0,
              "ticks": ""
             }
            },
            "type": "scattermapbox"
           }
          ],
          "scatterpolar": [
           {
            "marker": {
             "colorbar": {
              "outlinewidth": 0,
              "ticks": ""
             }
            },
            "type": "scatterpolar"
           }
          ],
          "scatterpolargl": [
           {
            "marker": {
             "colorbar": {
              "outlinewidth": 0,
              "ticks": ""
             }
            },
            "type": "scatterpolargl"
           }
          ],
          "scatterternary": [
           {
            "marker": {
             "colorbar": {
              "outlinewidth": 0,
              "ticks": ""
             }
            },
            "type": "scatterternary"
           }
          ],
          "surface": [
           {
            "colorbar": {
             "outlinewidth": 0,
             "ticks": ""
            },
            "colorscale": [
             [
              0,
              "#0d0887"
             ],
             [
              0.1111111111111111,
              "#46039f"
             ],
             [
              0.2222222222222222,
              "#7201a8"
             ],
             [
              0.3333333333333333,
              "#9c179e"
             ],
             [
              0.4444444444444444,
              "#bd3786"
             ],
             [
              0.5555555555555556,
              "#d8576b"
             ],
             [
              0.6666666666666666,
              "#ed7953"
             ],
             [
              0.7777777777777778,
              "#fb9f3a"
             ],
             [
              0.8888888888888888,
              "#fdca26"
             ],
             [
              1,
              "#f0f921"
             ]
            ],
            "type": "surface"
           }
          ],
          "table": [
           {
            "cells": {
             "fill": {
              "color": "#EBF0F8"
             },
             "line": {
              "color": "white"
             }
            },
            "header": {
             "fill": {
              "color": "#C8D4E3"
             },
             "line": {
              "color": "white"
             }
            },
            "type": "table"
           }
          ]
         },
         "layout": {
          "annotationdefaults": {
           "arrowcolor": "#2a3f5f",
           "arrowhead": 0,
           "arrowwidth": 1
          },
          "autotypenumbers": "strict",
          "coloraxis": {
           "colorbar": {
            "outlinewidth": 0,
            "ticks": ""
           }
          },
          "colorscale": {
           "diverging": [
            [
             0,
             "#8e0152"
            ],
            [
             0.1,
             "#c51b7d"
            ],
            [
             0.2,
             "#de77ae"
            ],
            [
             0.3,
             "#f1b6da"
            ],
            [
             0.4,
             "#fde0ef"
            ],
            [
             0.5,
             "#f7f7f7"
            ],
            [
             0.6,
             "#e6f5d0"
            ],
            [
             0.7,
             "#b8e186"
            ],
            [
             0.8,
             "#7fbc41"
            ],
            [
             0.9,
             "#4d9221"
            ],
            [
             1,
             "#276419"
            ]
           ],
           "sequential": [
            [
             0,
             "#0d0887"
            ],
            [
             0.1111111111111111,
             "#46039f"
            ],
            [
             0.2222222222222222,
             "#7201a8"
            ],
            [
             0.3333333333333333,
             "#9c179e"
            ],
            [
             0.4444444444444444,
             "#bd3786"
            ],
            [
             0.5555555555555556,
             "#d8576b"
            ],
            [
             0.6666666666666666,
             "#ed7953"
            ],
            [
             0.7777777777777778,
             "#fb9f3a"
            ],
            [
             0.8888888888888888,
             "#fdca26"
            ],
            [
             1,
             "#f0f921"
            ]
           ],
           "sequentialminus": [
            [
             0,
             "#0d0887"
            ],
            [
             0.1111111111111111,
             "#46039f"
            ],
            [
             0.2222222222222222,
             "#7201a8"
            ],
            [
             0.3333333333333333,
             "#9c179e"
            ],
            [
             0.4444444444444444,
             "#bd3786"
            ],
            [
             0.5555555555555556,
             "#d8576b"
            ],
            [
             0.6666666666666666,
             "#ed7953"
            ],
            [
             0.7777777777777778,
             "#fb9f3a"
            ],
            [
             0.8888888888888888,
             "#fdca26"
            ],
            [
             1,
             "#f0f921"
            ]
           ]
          },
          "colorway": [
           "#636efa",
           "#EF553B",
           "#00cc96",
           "#ab63fa",
           "#FFA15A",
           "#19d3f3",
           "#FF6692",
           "#B6E880",
           "#FF97FF",
           "#FECB52"
          ],
          "font": {
           "color": "#2a3f5f"
          },
          "geo": {
           "bgcolor": "white",
           "lakecolor": "white",
           "landcolor": "#E5ECF6",
           "showlakes": true,
           "showland": true,
           "subunitcolor": "white"
          },
          "hoverlabel": {
           "align": "left"
          },
          "hovermode": "closest",
          "mapbox": {
           "style": "light"
          },
          "paper_bgcolor": "white",
          "plot_bgcolor": "#E5ECF6",
          "polar": {
           "angularaxis": {
            "gridcolor": "white",
            "linecolor": "white",
            "ticks": ""
           },
           "bgcolor": "#E5ECF6",
           "radialaxis": {
            "gridcolor": "white",
            "linecolor": "white",
            "ticks": ""
           }
          },
          "scene": {
           "xaxis": {
            "backgroundcolor": "#E5ECF6",
            "gridcolor": "white",
            "gridwidth": 2,
            "linecolor": "white",
            "showbackground": true,
            "ticks": "",
            "zerolinecolor": "white"
           },
           "yaxis": {
            "backgroundcolor": "#E5ECF6",
            "gridcolor": "white",
            "gridwidth": 2,
            "linecolor": "white",
            "showbackground": true,
            "ticks": "",
            "zerolinecolor": "white"
           },
           "zaxis": {
            "backgroundcolor": "#E5ECF6",
            "gridcolor": "white",
            "gridwidth": 2,
            "linecolor": "white",
            "showbackground": true,
            "ticks": "",
            "zerolinecolor": "white"
           }
          },
          "shapedefaults": {
           "line": {
            "color": "#2a3f5f"
           }
          },
          "ternary": {
           "aaxis": {
            "gridcolor": "white",
            "linecolor": "white",
            "ticks": ""
           },
           "baxis": {
            "gridcolor": "white",
            "linecolor": "white",
            "ticks": ""
           },
           "bgcolor": "#E5ECF6",
           "caxis": {
            "gridcolor": "white",
            "linecolor": "white",
            "ticks": ""
           }
          },
          "title": {
           "x": 0.05
          },
          "xaxis": {
           "automargin": true,
           "gridcolor": "white",
           "linecolor": "white",
           "ticks": "",
           "title": {
            "standoff": 15
           },
           "zerolinecolor": "white",
           "zerolinewidth": 2
          },
          "yaxis": {
           "automargin": true,
           "gridcolor": "white",
           "linecolor": "white",
           "ticks": "",
           "title": {
            "standoff": 15
           },
           "zerolinecolor": "white",
           "zerolinewidth": 2
          }
         }
        },
        "xaxis": {
         "anchor": "y",
         "domain": [
          0,
          1
         ],
         "title": {
          "text": "PC1"
         }
        },
        "yaxis": {
         "anchor": "x",
         "domain": [
          0,
          1
         ],
         "title": {
          "text": "PC2"
         }
        }
       }
      }
     },
     "metadata": {},
     "output_type": "display_data"
    }
   ],
   "source": [
    "from sklearn.mixture import GaussianMixture\n",
    "gmm = GaussianMixture(n_components=4, covariance_type='full')\n",
    "gmm.fit(df_eigen[['PC1','PC2','PC3']])\n",
    "df_eigen['product_seasonal_type'] = gmm.predict(df_eigen[['PC1','PC2','PC3']])\n",
    "df_eigen['prob_cluster1'] = gmm.predict_proba(df_eigen[['PC1','PC2','PC3']])[:,0]\n",
    "df_eigen['prob_cluster2'] = gmm.predict_proba(df_eigen[['PC1','PC2','PC3']])[:,1]\n",
    "df_eigen['prob_cluster3'] = gmm.predict_proba(df_eigen[['PC1','PC2','PC3']])[:,2]\n",
    "df_eigen['prob_cluster4'] = gmm.predict_proba(df_eigen[['PC1','PC2','PC3']])[:,3]\n",
    "px.scatter(df_eigen, x='PC1', y='PC2', hover_name='idxgrp_idx_prdtyp', color='product_seasonal_type')"
   ]
  },
  {
   "cell_type": "code",
   "execution_count": 19,
   "metadata": {},
   "outputs": [
    {
     "data": {
      "application/vnd.plotly.v1+json": {
       "config": {
        "plotlyServerURL": "https://plot.ly"
       },
       "data": [
        {
         "hovertemplate": "variable=Ladieswear_Ladies Accessories_Hair string<br>ym_date=%{x}<br>value=%{y}<extra></extra>",
         "legendgroup": "Ladieswear_Ladies Accessories_Hair string",
         "line": {
          "color": "#636efa",
          "dash": "solid"
         },
         "marker": {
          "symbol": "circle"
         },
         "mode": "lines",
         "name": "Ladieswear_Ladies Accessories_Hair string",
         "orientation": "v",
         "showlegend": true,
         "type": "scatter",
         "x": [
          "2018-09-01T00:00:00",
          "2018-10-01T00:00:00",
          "2018-11-01T00:00:00",
          "2018-12-01T00:00:00",
          "2019-01-01T00:00:00",
          "2019-02-01T00:00:00",
          "2019-03-01T00:00:00",
          "2019-04-01T00:00:00",
          "2019-05-01T00:00:00",
          "2019-06-01T00:00:00",
          "2019-07-01T00:00:00",
          "2019-08-01T00:00:00",
          "2019-09-01T00:00:00",
          "2019-10-01T00:00:00",
          "2019-11-01T00:00:00",
          "2019-12-01T00:00:00",
          "2020-01-01T00:00:00",
          "2020-02-01T00:00:00",
          "2020-03-01T00:00:00",
          "2020-04-01T00:00:00",
          "2020-05-01T00:00:00",
          "2020-06-01T00:00:00",
          "2020-07-01T00:00:00",
          "2020-08-01T00:00:00",
          "2020-09-01T00:00:00"
         ],
         "xaxis": "x",
         "y": [
          0.973331248203214,
          2.229747003171708,
          1.8656608098857645,
          1.6627351975270592,
          1.8617277800200216,
          1.4997953888034155,
          1.9626755465740948,
          1.4020315035692241,
          3.232669618936225,
          2.213359378731105,
          3.9397722026559134,
          3.392144615635284,
          3.583458425533223,
          4.530194900358562,
          3.8015542959455138,
          6.569189955041716,
          6.294907943690249,
          6.3027740034217405,
          3.717181440968502,
          1.1929254157072176,
          5.384973391180088,
          6.004051020761714,
          11.667333096727244,
          9.830889080129882,
          4.884916736821318
         ],
         "yaxis": "y"
        },
        {
         "hovertemplate": "variable=Divided_Divided_Belt<br>ym_date=%{x}<br>value=%{y}<extra></extra>",
         "legendgroup": "Divided_Divided_Belt",
         "line": {
          "color": "#EF553B",
          "dash": "solid"
         },
         "marker": {
          "symbol": "circle"
         },
         "mode": "lines",
         "name": "Divided_Divided_Belt",
         "orientation": "v",
         "showlegend": true,
         "type": "scatter",
         "x": [
          "2018-09-01T00:00:00",
          "2018-10-01T00:00:00",
          "2018-11-01T00:00:00",
          "2018-12-01T00:00:00",
          "2019-01-01T00:00:00",
          "2019-02-01T00:00:00",
          "2019-03-01T00:00:00",
          "2019-04-01T00:00:00",
          "2019-05-01T00:00:00",
          "2019-06-01T00:00:00",
          "2019-07-01T00:00:00",
          "2019-08-01T00:00:00",
          "2019-09-01T00:00:00",
          "2019-10-01T00:00:00",
          "2019-11-01T00:00:00",
          "2019-12-01T00:00:00",
          "2020-01-01T00:00:00",
          "2020-02-01T00:00:00",
          "2020-03-01T00:00:00",
          "2020-04-01T00:00:00",
          "2020-05-01T00:00:00",
          "2020-06-01T00:00:00",
          "2020-07-01T00:00:00",
          "2020-08-01T00:00:00",
          "2020-09-01T00:00:00"
         ],
         "xaxis": "x",
         "y": [
          0.20065898349963773,
          0.35004259382850567,
          1.0754602575163192,
          0.9615828083711806,
          0.400707545890103,
          0.3429549265052984,
          0.36408227933955173,
          0,
          0.027095914790639143,
          1.0084834969261913,
          5.619299345085976,
          3.538746819027775,
          4.235542515152009,
          2.425203066755648,
          4.419279269013939,
          6.2639379486595175,
          7.266283322210107,
          6.418510138416381,
          12.349259898317397,
          12.804362747491835,
          6.762584170288497,
          6.184447555331286,
          8.627251097401508,
          5.202042604680441,
          3.1521806955002494
         ],
         "yaxis": "y"
        },
        {
         "hovertemplate": "variable=Ladieswear_Lingeries/Tights_Unknown<br>ym_date=%{x}<br>value=%{y}<extra></extra>",
         "legendgroup": "Ladieswear_Lingeries/Tights_Unknown",
         "line": {
          "color": "#00cc96",
          "dash": "solid"
         },
         "marker": {
          "symbol": "circle"
         },
         "mode": "lines",
         "name": "Ladieswear_Lingeries/Tights_Unknown",
         "orientation": "v",
         "showlegend": true,
         "type": "scatter",
         "x": [
          "2018-09-01T00:00:00",
          "2018-10-01T00:00:00",
          "2018-11-01T00:00:00",
          "2018-12-01T00:00:00",
          "2019-01-01T00:00:00",
          "2019-02-01T00:00:00",
          "2019-03-01T00:00:00",
          "2019-04-01T00:00:00",
          "2019-05-01T00:00:00",
          "2019-06-01T00:00:00",
          "2019-07-01T00:00:00",
          "2019-08-01T00:00:00",
          "2019-09-01T00:00:00",
          "2019-10-01T00:00:00",
          "2019-11-01T00:00:00",
          "2019-12-01T00:00:00",
          "2020-01-01T00:00:00",
          "2020-02-01T00:00:00",
          "2020-03-01T00:00:00",
          "2020-04-01T00:00:00",
          "2020-05-01T00:00:00",
          "2020-06-01T00:00:00",
          "2020-07-01T00:00:00",
          "2020-08-01T00:00:00",
          "2020-09-01T00:00:00"
         ],
         "xaxis": "x",
         "y": [
          0.20840874599516568,
          0.4518801641279286,
          0.33026811309088816,
          0.942678882581079,
          1.7080433927266578,
          1.5886009780225943,
          3.046900118037209,
          3.429734135236917,
          3.059996627508291,
          2.83472542296667,
          3.0492945871508073,
          2.415446012028554,
          1.3618009105727609,
          1.1237029958968014,
          1.5774267888258093,
          4.452082513630486,
          4.638097914675958,
          5.297835984486538,
          6.1882862121297295,
          8.868551514810859,
          6.360047214883932,
          8.102107807318308,
          11.635006463942442,
          11.96362205609578,
          5.365454443257829
         ],
         "yaxis": "y"
        }
       ],
       "layout": {
        "legend": {
         "title": {
          "text": "variable"
         },
         "tracegroupgap": 0
        },
        "template": {
         "data": {
          "bar": [
           {
            "error_x": {
             "color": "#2a3f5f"
            },
            "error_y": {
             "color": "#2a3f5f"
            },
            "marker": {
             "line": {
              "color": "#E5ECF6",
              "width": 0.5
             },
             "pattern": {
              "fillmode": "overlay",
              "size": 10,
              "solidity": 0.2
             }
            },
            "type": "bar"
           }
          ],
          "barpolar": [
           {
            "marker": {
             "line": {
              "color": "#E5ECF6",
              "width": 0.5
             },
             "pattern": {
              "fillmode": "overlay",
              "size": 10,
              "solidity": 0.2
             }
            },
            "type": "barpolar"
           }
          ],
          "carpet": [
           {
            "aaxis": {
             "endlinecolor": "#2a3f5f",
             "gridcolor": "white",
             "linecolor": "white",
             "minorgridcolor": "white",
             "startlinecolor": "#2a3f5f"
            },
            "baxis": {
             "endlinecolor": "#2a3f5f",
             "gridcolor": "white",
             "linecolor": "white",
             "minorgridcolor": "white",
             "startlinecolor": "#2a3f5f"
            },
            "type": "carpet"
           }
          ],
          "choropleth": [
           {
            "colorbar": {
             "outlinewidth": 0,
             "ticks": ""
            },
            "type": "choropleth"
           }
          ],
          "contour": [
           {
            "colorbar": {
             "outlinewidth": 0,
             "ticks": ""
            },
            "colorscale": [
             [
              0,
              "#0d0887"
             ],
             [
              0.1111111111111111,
              "#46039f"
             ],
             [
              0.2222222222222222,
              "#7201a8"
             ],
             [
              0.3333333333333333,
              "#9c179e"
             ],
             [
              0.4444444444444444,
              "#bd3786"
             ],
             [
              0.5555555555555556,
              "#d8576b"
             ],
             [
              0.6666666666666666,
              "#ed7953"
             ],
             [
              0.7777777777777778,
              "#fb9f3a"
             ],
             [
              0.8888888888888888,
              "#fdca26"
             ],
             [
              1,
              "#f0f921"
             ]
            ],
            "type": "contour"
           }
          ],
          "contourcarpet": [
           {
            "colorbar": {
             "outlinewidth": 0,
             "ticks": ""
            },
            "type": "contourcarpet"
           }
          ],
          "heatmap": [
           {
            "colorbar": {
             "outlinewidth": 0,
             "ticks": ""
            },
            "colorscale": [
             [
              0,
              "#0d0887"
             ],
             [
              0.1111111111111111,
              "#46039f"
             ],
             [
              0.2222222222222222,
              "#7201a8"
             ],
             [
              0.3333333333333333,
              "#9c179e"
             ],
             [
              0.4444444444444444,
              "#bd3786"
             ],
             [
              0.5555555555555556,
              "#d8576b"
             ],
             [
              0.6666666666666666,
              "#ed7953"
             ],
             [
              0.7777777777777778,
              "#fb9f3a"
             ],
             [
              0.8888888888888888,
              "#fdca26"
             ],
             [
              1,
              "#f0f921"
             ]
            ],
            "type": "heatmap"
           }
          ],
          "heatmapgl": [
           {
            "colorbar": {
             "outlinewidth": 0,
             "ticks": ""
            },
            "colorscale": [
             [
              0,
              "#0d0887"
             ],
             [
              0.1111111111111111,
              "#46039f"
             ],
             [
              0.2222222222222222,
              "#7201a8"
             ],
             [
              0.3333333333333333,
              "#9c179e"
             ],
             [
              0.4444444444444444,
              "#bd3786"
             ],
             [
              0.5555555555555556,
              "#d8576b"
             ],
             [
              0.6666666666666666,
              "#ed7953"
             ],
             [
              0.7777777777777778,
              "#fb9f3a"
             ],
             [
              0.8888888888888888,
              "#fdca26"
             ],
             [
              1,
              "#f0f921"
             ]
            ],
            "type": "heatmapgl"
           }
          ],
          "histogram": [
           {
            "marker": {
             "pattern": {
              "fillmode": "overlay",
              "size": 10,
              "solidity": 0.2
             }
            },
            "type": "histogram"
           }
          ],
          "histogram2d": [
           {
            "colorbar": {
             "outlinewidth": 0,
             "ticks": ""
            },
            "colorscale": [
             [
              0,
              "#0d0887"
             ],
             [
              0.1111111111111111,
              "#46039f"
             ],
             [
              0.2222222222222222,
              "#7201a8"
             ],
             [
              0.3333333333333333,
              "#9c179e"
             ],
             [
              0.4444444444444444,
              "#bd3786"
             ],
             [
              0.5555555555555556,
              "#d8576b"
             ],
             [
              0.6666666666666666,
              "#ed7953"
             ],
             [
              0.7777777777777778,
              "#fb9f3a"
             ],
             [
              0.8888888888888888,
              "#fdca26"
             ],
             [
              1,
              "#f0f921"
             ]
            ],
            "type": "histogram2d"
           }
          ],
          "histogram2dcontour": [
           {
            "colorbar": {
             "outlinewidth": 0,
             "ticks": ""
            },
            "colorscale": [
             [
              0,
              "#0d0887"
             ],
             [
              0.1111111111111111,
              "#46039f"
             ],
             [
              0.2222222222222222,
              "#7201a8"
             ],
             [
              0.3333333333333333,
              "#9c179e"
             ],
             [
              0.4444444444444444,
              "#bd3786"
             ],
             [
              0.5555555555555556,
              "#d8576b"
             ],
             [
              0.6666666666666666,
              "#ed7953"
             ],
             [
              0.7777777777777778,
              "#fb9f3a"
             ],
             [
              0.8888888888888888,
              "#fdca26"
             ],
             [
              1,
              "#f0f921"
             ]
            ],
            "type": "histogram2dcontour"
           }
          ],
          "mesh3d": [
           {
            "colorbar": {
             "outlinewidth": 0,
             "ticks": ""
            },
            "type": "mesh3d"
           }
          ],
          "parcoords": [
           {
            "line": {
             "colorbar": {
              "outlinewidth": 0,
              "ticks": ""
             }
            },
            "type": "parcoords"
           }
          ],
          "pie": [
           {
            "automargin": true,
            "type": "pie"
           }
          ],
          "scatter": [
           {
            "marker": {
             "colorbar": {
              "outlinewidth": 0,
              "ticks": ""
             }
            },
            "type": "scatter"
           }
          ],
          "scatter3d": [
           {
            "line": {
             "colorbar": {
              "outlinewidth": 0,
              "ticks": ""
             }
            },
            "marker": {
             "colorbar": {
              "outlinewidth": 0,
              "ticks": ""
             }
            },
            "type": "scatter3d"
           }
          ],
          "scattercarpet": [
           {
            "marker": {
             "colorbar": {
              "outlinewidth": 0,
              "ticks": ""
             }
            },
            "type": "scattercarpet"
           }
          ],
          "scattergeo": [
           {
            "marker": {
             "colorbar": {
              "outlinewidth": 0,
              "ticks": ""
             }
            },
            "type": "scattergeo"
           }
          ],
          "scattergl": [
           {
            "marker": {
             "colorbar": {
              "outlinewidth": 0,
              "ticks": ""
             }
            },
            "type": "scattergl"
           }
          ],
          "scattermapbox": [
           {
            "marker": {
             "colorbar": {
              "outlinewidth": 0,
              "ticks": ""
             }
            },
            "type": "scattermapbox"
           }
          ],
          "scatterpolar": [
           {
            "marker": {
             "colorbar": {
              "outlinewidth": 0,
              "ticks": ""
             }
            },
            "type": "scatterpolar"
           }
          ],
          "scatterpolargl": [
           {
            "marker": {
             "colorbar": {
              "outlinewidth": 0,
              "ticks": ""
             }
            },
            "type": "scatterpolargl"
           }
          ],
          "scatterternary": [
           {
            "marker": {
             "colorbar": {
              "outlinewidth": 0,
              "ticks": ""
             }
            },
            "type": "scatterternary"
           }
          ],
          "surface": [
           {
            "colorbar": {
             "outlinewidth": 0,
             "ticks": ""
            },
            "colorscale": [
             [
              0,
              "#0d0887"
             ],
             [
              0.1111111111111111,
              "#46039f"
             ],
             [
              0.2222222222222222,
              "#7201a8"
             ],
             [
              0.3333333333333333,
              "#9c179e"
             ],
             [
              0.4444444444444444,
              "#bd3786"
             ],
             [
              0.5555555555555556,
              "#d8576b"
             ],
             [
              0.6666666666666666,
              "#ed7953"
             ],
             [
              0.7777777777777778,
              "#fb9f3a"
             ],
             [
              0.8888888888888888,
              "#fdca26"
             ],
             [
              1,
              "#f0f921"
             ]
            ],
            "type": "surface"
           }
          ],
          "table": [
           {
            "cells": {
             "fill": {
              "color": "#EBF0F8"
             },
             "line": {
              "color": "white"
             }
            },
            "header": {
             "fill": {
              "color": "#C8D4E3"
             },
             "line": {
              "color": "white"
             }
            },
            "type": "table"
           }
          ]
         },
         "layout": {
          "annotationdefaults": {
           "arrowcolor": "#2a3f5f",
           "arrowhead": 0,
           "arrowwidth": 1
          },
          "autotypenumbers": "strict",
          "coloraxis": {
           "colorbar": {
            "outlinewidth": 0,
            "ticks": ""
           }
          },
          "colorscale": {
           "diverging": [
            [
             0,
             "#8e0152"
            ],
            [
             0.1,
             "#c51b7d"
            ],
            [
             0.2,
             "#de77ae"
            ],
            [
             0.3,
             "#f1b6da"
            ],
            [
             0.4,
             "#fde0ef"
            ],
            [
             0.5,
             "#f7f7f7"
            ],
            [
             0.6,
             "#e6f5d0"
            ],
            [
             0.7,
             "#b8e186"
            ],
            [
             0.8,
             "#7fbc41"
            ],
            [
             0.9,
             "#4d9221"
            ],
            [
             1,
             "#276419"
            ]
           ],
           "sequential": [
            [
             0,
             "#0d0887"
            ],
            [
             0.1111111111111111,
             "#46039f"
            ],
            [
             0.2222222222222222,
             "#7201a8"
            ],
            [
             0.3333333333333333,
             "#9c179e"
            ],
            [
             0.4444444444444444,
             "#bd3786"
            ],
            [
             0.5555555555555556,
             "#d8576b"
            ],
            [
             0.6666666666666666,
             "#ed7953"
            ],
            [
             0.7777777777777778,
             "#fb9f3a"
            ],
            [
             0.8888888888888888,
             "#fdca26"
            ],
            [
             1,
             "#f0f921"
            ]
           ],
           "sequentialminus": [
            [
             0,
             "#0d0887"
            ],
            [
             0.1111111111111111,
             "#46039f"
            ],
            [
             0.2222222222222222,
             "#7201a8"
            ],
            [
             0.3333333333333333,
             "#9c179e"
            ],
            [
             0.4444444444444444,
             "#bd3786"
            ],
            [
             0.5555555555555556,
             "#d8576b"
            ],
            [
             0.6666666666666666,
             "#ed7953"
            ],
            [
             0.7777777777777778,
             "#fb9f3a"
            ],
            [
             0.8888888888888888,
             "#fdca26"
            ],
            [
             1,
             "#f0f921"
            ]
           ]
          },
          "colorway": [
           "#636efa",
           "#EF553B",
           "#00cc96",
           "#ab63fa",
           "#FFA15A",
           "#19d3f3",
           "#FF6692",
           "#B6E880",
           "#FF97FF",
           "#FECB52"
          ],
          "font": {
           "color": "#2a3f5f"
          },
          "geo": {
           "bgcolor": "white",
           "lakecolor": "white",
           "landcolor": "#E5ECF6",
           "showlakes": true,
           "showland": true,
           "subunitcolor": "white"
          },
          "hoverlabel": {
           "align": "left"
          },
          "hovermode": "closest",
          "mapbox": {
           "style": "light"
          },
          "paper_bgcolor": "white",
          "plot_bgcolor": "#E5ECF6",
          "polar": {
           "angularaxis": {
            "gridcolor": "white",
            "linecolor": "white",
            "ticks": ""
           },
           "bgcolor": "#E5ECF6",
           "radialaxis": {
            "gridcolor": "white",
            "linecolor": "white",
            "ticks": ""
           }
          },
          "scene": {
           "xaxis": {
            "backgroundcolor": "#E5ECF6",
            "gridcolor": "white",
            "gridwidth": 2,
            "linecolor": "white",
            "showbackground": true,
            "ticks": "",
            "zerolinecolor": "white"
           },
           "yaxis": {
            "backgroundcolor": "#E5ECF6",
            "gridcolor": "white",
            "gridwidth": 2,
            "linecolor": "white",
            "showbackground": true,
            "ticks": "",
            "zerolinecolor": "white"
           },
           "zaxis": {
            "backgroundcolor": "#E5ECF6",
            "gridcolor": "white",
            "gridwidth": 2,
            "linecolor": "white",
            "showbackground": true,
            "ticks": "",
            "zerolinecolor": "white"
           }
          },
          "shapedefaults": {
           "line": {
            "color": "#2a3f5f"
           }
          },
          "ternary": {
           "aaxis": {
            "gridcolor": "white",
            "linecolor": "white",
            "ticks": ""
           },
           "baxis": {
            "gridcolor": "white",
            "linecolor": "white",
            "ticks": ""
           },
           "bgcolor": "#E5ECF6",
           "caxis": {
            "gridcolor": "white",
            "linecolor": "white",
            "ticks": ""
           }
          },
          "title": {
           "x": 0.05
          },
          "xaxis": {
           "automargin": true,
           "gridcolor": "white",
           "linecolor": "white",
           "ticks": "",
           "title": {
            "standoff": 15
           },
           "zerolinecolor": "white",
           "zerolinewidth": 2
          },
          "yaxis": {
           "automargin": true,
           "gridcolor": "white",
           "linecolor": "white",
           "ticks": "",
           "title": {
            "standoff": 15
           },
           "zerolinecolor": "white",
           "zerolinewidth": 2
          }
         }
        },
        "title": {
         "text": "Sales transition"
        },
        "xaxis": {
         "anchor": "y",
         "domain": [
          0,
          1
         ],
         "title": {
          "text": "ym_date"
         }
        },
        "yaxis": {
         "anchor": "x",
         "domain": [
          0,
          1
         ],
         "title": {
          "text": "value"
         }
        }
       }
      }
     },
     "metadata": {},
     "output_type": "display_data"
    }
   ],
   "source": [
    "fig = px.line(dfgrp2, x='ym_date', y=['Ladieswear_Ladies Accessories_Hair string',\n",
    "                                        'Divided_Divided_Belt',\n",
    "                                        'Ladieswear_Lingeries/Tights_Unknown'], title=\"Sales transition\")\n",
    "fig.show()"
   ]
  },
  {
   "cell_type": "code",
   "execution_count": null,
   "metadata": {},
   "outputs": [],
   "source": [
    "df = pd.merge(\n",
    "    df,\n",
    "    df_eigen[['idxgrp_idx_prdtyp','autumn_sales_indicator', 'product_seasonal_type', 'prob_cluster1', 'prob_cluster2', 'prob_cluster3', 'prob_cluster4']],\n",
    "    on='idxgrp_idx_prdtyp',\n",
    "    how='left'\n",
    ")\n",
    "del dfgrp1, dfgrp2\n",
    "df.head()"
   ]
  }
 ],
 "metadata": {
  "interpreter": {
   "hash": "f436cdb28f556d638768226e88df829b306d6cce33caefeb33828bb6037ec961"
  },
  "kernelspec": {
   "display_name": "Python 3.8.12 ('kaggle')",
   "language": "python",
   "name": "python3"
  },
  "language_info": {
   "codemirror_mode": {
    "name": "ipython",
    "version": 3
   },
   "file_extension": ".py",
   "mimetype": "text/x-python",
   "name": "python",
   "nbconvert_exporter": "python",
   "pygments_lexer": "ipython3",
   "version": "3.8.12"
  },
  "orig_nbformat": 4
 },
 "nbformat": 4,
 "nbformat_minor": 2
}
